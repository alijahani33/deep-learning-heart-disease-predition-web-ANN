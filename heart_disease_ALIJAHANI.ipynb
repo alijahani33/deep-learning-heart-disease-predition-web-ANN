{
  "nbformat": 4,
  "nbformat_minor": 0,
  "metadata": {
    "colab": {
      "provenance": [],
      "collapsed_sections": []
    },
    "kernelspec": {
      "name": "python3",
      "display_name": "Python 3"
    }
  },
  "cells": [
    {
      "cell_type": "markdown",
      "metadata": {
        "id": "bhWV8oes-wKR"
      },
      "source": [
        "Diagnosis of heart disease is based on a ready-made database\n",
        "ali jahani\n"
      ]
    },
    {
      "cell_type": "code",
      "metadata": {
        "id": "Gueyy3lJ7Jxy"
      },
      "source": [
        "# Data information:\n",
        "# https://archive.ics.uci.edu/ml/datasets/Heart+Disease\n",
        "\n",
        "# Data source\n",
        "# https://archive.ics.uci.edu/ml/machine-learning-databases/heart-disease/processed.cleveland.data"
      ],
      "execution_count": 1,
      "outputs": []
    },
    {
      "cell_type": "code",
      "metadata": {
        "id": "j7-LiwqUMGYL"
      },
      "source": [
        "### import libraries\n",
        "\n",
        "# for DL modeling\n",
        "import torch\n",
        "import torch.nn as nn\n",
        "import torch.nn.functional as F\n",
        "from torch.utils.data import DataLoader,TensorDataset\n",
        "from sklearn.model_selection import train_test_split\n",
        "\n",
        "# for number-crunching\n",
        "import numpy as np\n",
        "\n",
        "# for dataset management\n",
        "import pandas as pd\n",
        "\n",
        "# for data visualization\n",
        "import matplotlib.pyplot as plt\n",
        "import seaborn as sns\n",
        "from IPython.display import set_matplotlib_formats\n",
        "set_matplotlib_formats('svg')"
      ],
      "execution_count": 35,
      "outputs": []
    },
    {
      "cell_type": "markdown",
      "metadata": {
        "id": "2anVFzBXGdwH"
      },
      "source": [
        "# Import and process the data"
      ]
    },
    {
      "cell_type": "code",
      "metadata": {
        "id": "0ohXIxzt4_U2",
        "colab": {
          "base_uri": "https://localhost:8080/",
          "height": 424
        },
        "outputId": "baa4d5b0-00f8-4d55-fc46-8e7e52f7c54c"
      },
      "source": [
        "# import the data\n",
        "url  = 'https://archive.ics.uci.edu/ml/machine-learning-databases/heart-disease/processed.cleveland.data'\n",
        "data = pd.read_csv(url,sep=',',header=None)\n",
        "data.columns = ['age','sex','cp','trestbps','chol','fbs','restecg','thalach','exang','oldpeak','slope','ca','thal','DISEASE']\n",
        "\n",
        "\n",
        "# data contain some ?'s; replace with NaN and drop those rows\n",
        "data = data.replace('?',np.nan).dropna()\n",
        "\n",
        "data"
      ],
      "execution_count": 36,
      "outputs": [
        {
          "output_type": "execute_result",
          "data": {
            "text/plain": [
              "      age  sex   cp  trestbps   chol  fbs  restecg  thalach  exang  oldpeak  \\\n",
              "0    63.0  1.0  1.0     145.0  233.0  1.0      2.0    150.0    0.0      2.3   \n",
              "1    67.0  1.0  4.0     160.0  286.0  0.0      2.0    108.0    1.0      1.5   \n",
              "2    67.0  1.0  4.0     120.0  229.0  0.0      2.0    129.0    1.0      2.6   \n",
              "3    37.0  1.0  3.0     130.0  250.0  0.0      0.0    187.0    0.0      3.5   \n",
              "4    41.0  0.0  2.0     130.0  204.0  0.0      2.0    172.0    0.0      1.4   \n",
              "..    ...  ...  ...       ...    ...  ...      ...      ...    ...      ...   \n",
              "297  57.0  0.0  4.0     140.0  241.0  0.0      0.0    123.0    1.0      0.2   \n",
              "298  45.0  1.0  1.0     110.0  264.0  0.0      0.0    132.0    0.0      1.2   \n",
              "299  68.0  1.0  4.0     144.0  193.0  1.0      0.0    141.0    0.0      3.4   \n",
              "300  57.0  1.0  4.0     130.0  131.0  0.0      0.0    115.0    1.0      1.2   \n",
              "301  57.0  0.0  2.0     130.0  236.0  0.0      2.0    174.0    0.0      0.0   \n",
              "\n",
              "     slope   ca thal  DISEASE  \n",
              "0      3.0  0.0  6.0        0  \n",
              "1      2.0  3.0  3.0        2  \n",
              "2      2.0  2.0  7.0        1  \n",
              "3      3.0  0.0  3.0        0  \n",
              "4      1.0  0.0  3.0        0  \n",
              "..     ...  ...  ...      ...  \n",
              "297    2.0  0.0  7.0        1  \n",
              "298    2.0  0.0  7.0        1  \n",
              "299    2.0  2.0  7.0        2  \n",
              "300    2.0  1.0  7.0        3  \n",
              "301    2.0  1.0  3.0        1  \n",
              "\n",
              "[297 rows x 14 columns]"
            ],
            "text/html": [
              "\n",
              "  <div id=\"df-b4a0bf35-3eeb-4fcd-9f1a-d74adabc3966\">\n",
              "    <div class=\"colab-df-container\">\n",
              "      <div>\n",
              "<style scoped>\n",
              "    .dataframe tbody tr th:only-of-type {\n",
              "        vertical-align: middle;\n",
              "    }\n",
              "\n",
              "    .dataframe tbody tr th {\n",
              "        vertical-align: top;\n",
              "    }\n",
              "\n",
              "    .dataframe thead th {\n",
              "        text-align: right;\n",
              "    }\n",
              "</style>\n",
              "<table border=\"1\" class=\"dataframe\">\n",
              "  <thead>\n",
              "    <tr style=\"text-align: right;\">\n",
              "      <th></th>\n",
              "      <th>age</th>\n",
              "      <th>sex</th>\n",
              "      <th>cp</th>\n",
              "      <th>trestbps</th>\n",
              "      <th>chol</th>\n",
              "      <th>fbs</th>\n",
              "      <th>restecg</th>\n",
              "      <th>thalach</th>\n",
              "      <th>exang</th>\n",
              "      <th>oldpeak</th>\n",
              "      <th>slope</th>\n",
              "      <th>ca</th>\n",
              "      <th>thal</th>\n",
              "      <th>DISEASE</th>\n",
              "    </tr>\n",
              "  </thead>\n",
              "  <tbody>\n",
              "    <tr>\n",
              "      <th>0</th>\n",
              "      <td>63.0</td>\n",
              "      <td>1.0</td>\n",
              "      <td>1.0</td>\n",
              "      <td>145.0</td>\n",
              "      <td>233.0</td>\n",
              "      <td>1.0</td>\n",
              "      <td>2.0</td>\n",
              "      <td>150.0</td>\n",
              "      <td>0.0</td>\n",
              "      <td>2.3</td>\n",
              "      <td>3.0</td>\n",
              "      <td>0.0</td>\n",
              "      <td>6.0</td>\n",
              "      <td>0</td>\n",
              "    </tr>\n",
              "    <tr>\n",
              "      <th>1</th>\n",
              "      <td>67.0</td>\n",
              "      <td>1.0</td>\n",
              "      <td>4.0</td>\n",
              "      <td>160.0</td>\n",
              "      <td>286.0</td>\n",
              "      <td>0.0</td>\n",
              "      <td>2.0</td>\n",
              "      <td>108.0</td>\n",
              "      <td>1.0</td>\n",
              "      <td>1.5</td>\n",
              "      <td>2.0</td>\n",
              "      <td>3.0</td>\n",
              "      <td>3.0</td>\n",
              "      <td>2</td>\n",
              "    </tr>\n",
              "    <tr>\n",
              "      <th>2</th>\n",
              "      <td>67.0</td>\n",
              "      <td>1.0</td>\n",
              "      <td>4.0</td>\n",
              "      <td>120.0</td>\n",
              "      <td>229.0</td>\n",
              "      <td>0.0</td>\n",
              "      <td>2.0</td>\n",
              "      <td>129.0</td>\n",
              "      <td>1.0</td>\n",
              "      <td>2.6</td>\n",
              "      <td>2.0</td>\n",
              "      <td>2.0</td>\n",
              "      <td>7.0</td>\n",
              "      <td>1</td>\n",
              "    </tr>\n",
              "    <tr>\n",
              "      <th>3</th>\n",
              "      <td>37.0</td>\n",
              "      <td>1.0</td>\n",
              "      <td>3.0</td>\n",
              "      <td>130.0</td>\n",
              "      <td>250.0</td>\n",
              "      <td>0.0</td>\n",
              "      <td>0.0</td>\n",
              "      <td>187.0</td>\n",
              "      <td>0.0</td>\n",
              "      <td>3.5</td>\n",
              "      <td>3.0</td>\n",
              "      <td>0.0</td>\n",
              "      <td>3.0</td>\n",
              "      <td>0</td>\n",
              "    </tr>\n",
              "    <tr>\n",
              "      <th>4</th>\n",
              "      <td>41.0</td>\n",
              "      <td>0.0</td>\n",
              "      <td>2.0</td>\n",
              "      <td>130.0</td>\n",
              "      <td>204.0</td>\n",
              "      <td>0.0</td>\n",
              "      <td>2.0</td>\n",
              "      <td>172.0</td>\n",
              "      <td>0.0</td>\n",
              "      <td>1.4</td>\n",
              "      <td>1.0</td>\n",
              "      <td>0.0</td>\n",
              "      <td>3.0</td>\n",
              "      <td>0</td>\n",
              "    </tr>\n",
              "    <tr>\n",
              "      <th>...</th>\n",
              "      <td>...</td>\n",
              "      <td>...</td>\n",
              "      <td>...</td>\n",
              "      <td>...</td>\n",
              "      <td>...</td>\n",
              "      <td>...</td>\n",
              "      <td>...</td>\n",
              "      <td>...</td>\n",
              "      <td>...</td>\n",
              "      <td>...</td>\n",
              "      <td>...</td>\n",
              "      <td>...</td>\n",
              "      <td>...</td>\n",
              "      <td>...</td>\n",
              "    </tr>\n",
              "    <tr>\n",
              "      <th>297</th>\n",
              "      <td>57.0</td>\n",
              "      <td>0.0</td>\n",
              "      <td>4.0</td>\n",
              "      <td>140.0</td>\n",
              "      <td>241.0</td>\n",
              "      <td>0.0</td>\n",
              "      <td>0.0</td>\n",
              "      <td>123.0</td>\n",
              "      <td>1.0</td>\n",
              "      <td>0.2</td>\n",
              "      <td>2.0</td>\n",
              "      <td>0.0</td>\n",
              "      <td>7.0</td>\n",
              "      <td>1</td>\n",
              "    </tr>\n",
              "    <tr>\n",
              "      <th>298</th>\n",
              "      <td>45.0</td>\n",
              "      <td>1.0</td>\n",
              "      <td>1.0</td>\n",
              "      <td>110.0</td>\n",
              "      <td>264.0</td>\n",
              "      <td>0.0</td>\n",
              "      <td>0.0</td>\n",
              "      <td>132.0</td>\n",
              "      <td>0.0</td>\n",
              "      <td>1.2</td>\n",
              "      <td>2.0</td>\n",
              "      <td>0.0</td>\n",
              "      <td>7.0</td>\n",
              "      <td>1</td>\n",
              "    </tr>\n",
              "    <tr>\n",
              "      <th>299</th>\n",
              "      <td>68.0</td>\n",
              "      <td>1.0</td>\n",
              "      <td>4.0</td>\n",
              "      <td>144.0</td>\n",
              "      <td>193.0</td>\n",
              "      <td>1.0</td>\n",
              "      <td>0.0</td>\n",
              "      <td>141.0</td>\n",
              "      <td>0.0</td>\n",
              "      <td>3.4</td>\n",
              "      <td>2.0</td>\n",
              "      <td>2.0</td>\n",
              "      <td>7.0</td>\n",
              "      <td>2</td>\n",
              "    </tr>\n",
              "    <tr>\n",
              "      <th>300</th>\n",
              "      <td>57.0</td>\n",
              "      <td>1.0</td>\n",
              "      <td>4.0</td>\n",
              "      <td>130.0</td>\n",
              "      <td>131.0</td>\n",
              "      <td>0.0</td>\n",
              "      <td>0.0</td>\n",
              "      <td>115.0</td>\n",
              "      <td>1.0</td>\n",
              "      <td>1.2</td>\n",
              "      <td>2.0</td>\n",
              "      <td>1.0</td>\n",
              "      <td>7.0</td>\n",
              "      <td>3</td>\n",
              "    </tr>\n",
              "    <tr>\n",
              "      <th>301</th>\n",
              "      <td>57.0</td>\n",
              "      <td>0.0</td>\n",
              "      <td>2.0</td>\n",
              "      <td>130.0</td>\n",
              "      <td>236.0</td>\n",
              "      <td>0.0</td>\n",
              "      <td>2.0</td>\n",
              "      <td>174.0</td>\n",
              "      <td>0.0</td>\n",
              "      <td>0.0</td>\n",
              "      <td>2.0</td>\n",
              "      <td>1.0</td>\n",
              "      <td>3.0</td>\n",
              "      <td>1</td>\n",
              "    </tr>\n",
              "  </tbody>\n",
              "</table>\n",
              "<p>297 rows × 14 columns</p>\n",
              "</div>\n",
              "      <button class=\"colab-df-convert\" onclick=\"convertToInteractive('df-b4a0bf35-3eeb-4fcd-9f1a-d74adabc3966')\"\n",
              "              title=\"Convert this dataframe to an interactive table.\"\n",
              "              style=\"display:none;\">\n",
              "        \n",
              "  <svg xmlns=\"http://www.w3.org/2000/svg\" height=\"24px\"viewBox=\"0 0 24 24\"\n",
              "       width=\"24px\">\n",
              "    <path d=\"M0 0h24v24H0V0z\" fill=\"none\"/>\n",
              "    <path d=\"M18.56 5.44l.94 2.06.94-2.06 2.06-.94-2.06-.94-.94-2.06-.94 2.06-2.06.94zm-11 1L8.5 8.5l.94-2.06 2.06-.94-2.06-.94L8.5 2.5l-.94 2.06-2.06.94zm10 10l.94 2.06.94-2.06 2.06-.94-2.06-.94-.94-2.06-.94 2.06-2.06.94z\"/><path d=\"M17.41 7.96l-1.37-1.37c-.4-.4-.92-.59-1.43-.59-.52 0-1.04.2-1.43.59L10.3 9.45l-7.72 7.72c-.78.78-.78 2.05 0 2.83L4 21.41c.39.39.9.59 1.41.59.51 0 1.02-.2 1.41-.59l7.78-7.78 2.81-2.81c.8-.78.8-2.07 0-2.86zM5.41 20L4 18.59l7.72-7.72 1.47 1.35L5.41 20z\"/>\n",
              "  </svg>\n",
              "      </button>\n",
              "      \n",
              "  <style>\n",
              "    .colab-df-container {\n",
              "      display:flex;\n",
              "      flex-wrap:wrap;\n",
              "      gap: 12px;\n",
              "    }\n",
              "\n",
              "    .colab-df-convert {\n",
              "      background-color: #E8F0FE;\n",
              "      border: none;\n",
              "      border-radius: 50%;\n",
              "      cursor: pointer;\n",
              "      display: none;\n",
              "      fill: #1967D2;\n",
              "      height: 32px;\n",
              "      padding: 0 0 0 0;\n",
              "      width: 32px;\n",
              "    }\n",
              "\n",
              "    .colab-df-convert:hover {\n",
              "      background-color: #E2EBFA;\n",
              "      box-shadow: 0px 1px 2px rgba(60, 64, 67, 0.3), 0px 1px 3px 1px rgba(60, 64, 67, 0.15);\n",
              "      fill: #174EA6;\n",
              "    }\n",
              "\n",
              "    [theme=dark] .colab-df-convert {\n",
              "      background-color: #3B4455;\n",
              "      fill: #D2E3FC;\n",
              "    }\n",
              "\n",
              "    [theme=dark] .colab-df-convert:hover {\n",
              "      background-color: #434B5C;\n",
              "      box-shadow: 0px 1px 3px 1px rgba(0, 0, 0, 0.15);\n",
              "      filter: drop-shadow(0px 1px 2px rgba(0, 0, 0, 0.3));\n",
              "      fill: #FFFFFF;\n",
              "    }\n",
              "  </style>\n",
              "\n",
              "      <script>\n",
              "        const buttonEl =\n",
              "          document.querySelector('#df-b4a0bf35-3eeb-4fcd-9f1a-d74adabc3966 button.colab-df-convert');\n",
              "        buttonEl.style.display =\n",
              "          google.colab.kernel.accessAllowed ? 'block' : 'none';\n",
              "\n",
              "        async function convertToInteractive(key) {\n",
              "          const element = document.querySelector('#df-b4a0bf35-3eeb-4fcd-9f1a-d74adabc3966');\n",
              "          const dataTable =\n",
              "            await google.colab.kernel.invokeFunction('convertToInteractive',\n",
              "                                                     [key], {});\n",
              "          if (!dataTable) return;\n",
              "\n",
              "          const docLinkHtml = 'Like what you see? Visit the ' +\n",
              "            '<a target=\"_blank\" href=https://colab.research.google.com/notebooks/data_table.ipynb>data table notebook</a>'\n",
              "            + ' to learn more about interactive tables.';\n",
              "          element.innerHTML = '';\n",
              "          dataTable['output_type'] = 'display_data';\n",
              "          await google.colab.output.renderOutput(dataTable, element);\n",
              "          const docLink = document.createElement('div');\n",
              "          docLink.innerHTML = docLinkHtml;\n",
              "          element.appendChild(docLink);\n",
              "        }\n",
              "      </script>\n",
              "    </div>\n",
              "  </div>\n",
              "  "
            ]
          },
          "metadata": {},
          "execution_count": 36
        }
      ]
    },
    {
      "cell_type": "code",
      "metadata": {
        "id": "AFsS6iQPSUnM",
        "colab": {
          "base_uri": "https://localhost:8080/",
          "height": 300
        },
        "outputId": "df19b3a7-6dc2-47e7-a6b4-e2a63594bbc6"
      },
      "source": [
        "# describe the data\n",
        "data.describe()"
      ],
      "execution_count": 37,
      "outputs": [
        {
          "output_type": "execute_result",
          "data": {
            "text/plain": [
              "              age         sex          cp    trestbps        chol         fbs  \\\n",
              "count  297.000000  297.000000  297.000000  297.000000  297.000000  297.000000   \n",
              "mean    54.542088    0.676768    3.158249  131.693603  247.350168    0.144781   \n",
              "std      9.049736    0.468500    0.964859   17.762806   51.997583    0.352474   \n",
              "min     29.000000    0.000000    1.000000   94.000000  126.000000    0.000000   \n",
              "25%     48.000000    0.000000    3.000000  120.000000  211.000000    0.000000   \n",
              "50%     56.000000    1.000000    3.000000  130.000000  243.000000    0.000000   \n",
              "75%     61.000000    1.000000    4.000000  140.000000  276.000000    0.000000   \n",
              "max     77.000000    1.000000    4.000000  200.000000  564.000000    1.000000   \n",
              "\n",
              "          restecg     thalach       exang     oldpeak       slope     DISEASE  \n",
              "count  297.000000  297.000000  297.000000  297.000000  297.000000  297.000000  \n",
              "mean     0.996633  149.599327    0.326599    1.055556    1.602694    0.946128  \n",
              "std      0.994914   22.941562    0.469761    1.166123    0.618187    1.234551  \n",
              "min      0.000000   71.000000    0.000000    0.000000    1.000000    0.000000  \n",
              "25%      0.000000  133.000000    0.000000    0.000000    1.000000    0.000000  \n",
              "50%      1.000000  153.000000    0.000000    0.800000    2.000000    0.000000  \n",
              "75%      2.000000  166.000000    1.000000    1.600000    2.000000    2.000000  \n",
              "max      2.000000  202.000000    1.000000    6.200000    3.000000    4.000000  "
            ],
            "text/html": [
              "\n",
              "  <div id=\"df-12683b21-1e8e-4b44-bdee-3d8f0ab1e614\">\n",
              "    <div class=\"colab-df-container\">\n",
              "      <div>\n",
              "<style scoped>\n",
              "    .dataframe tbody tr th:only-of-type {\n",
              "        vertical-align: middle;\n",
              "    }\n",
              "\n",
              "    .dataframe tbody tr th {\n",
              "        vertical-align: top;\n",
              "    }\n",
              "\n",
              "    .dataframe thead th {\n",
              "        text-align: right;\n",
              "    }\n",
              "</style>\n",
              "<table border=\"1\" class=\"dataframe\">\n",
              "  <thead>\n",
              "    <tr style=\"text-align: right;\">\n",
              "      <th></th>\n",
              "      <th>age</th>\n",
              "      <th>sex</th>\n",
              "      <th>cp</th>\n",
              "      <th>trestbps</th>\n",
              "      <th>chol</th>\n",
              "      <th>fbs</th>\n",
              "      <th>restecg</th>\n",
              "      <th>thalach</th>\n",
              "      <th>exang</th>\n",
              "      <th>oldpeak</th>\n",
              "      <th>slope</th>\n",
              "      <th>DISEASE</th>\n",
              "    </tr>\n",
              "  </thead>\n",
              "  <tbody>\n",
              "    <tr>\n",
              "      <th>count</th>\n",
              "      <td>297.000000</td>\n",
              "      <td>297.000000</td>\n",
              "      <td>297.000000</td>\n",
              "      <td>297.000000</td>\n",
              "      <td>297.000000</td>\n",
              "      <td>297.000000</td>\n",
              "      <td>297.000000</td>\n",
              "      <td>297.000000</td>\n",
              "      <td>297.000000</td>\n",
              "      <td>297.000000</td>\n",
              "      <td>297.000000</td>\n",
              "      <td>297.000000</td>\n",
              "    </tr>\n",
              "    <tr>\n",
              "      <th>mean</th>\n",
              "      <td>54.542088</td>\n",
              "      <td>0.676768</td>\n",
              "      <td>3.158249</td>\n",
              "      <td>131.693603</td>\n",
              "      <td>247.350168</td>\n",
              "      <td>0.144781</td>\n",
              "      <td>0.996633</td>\n",
              "      <td>149.599327</td>\n",
              "      <td>0.326599</td>\n",
              "      <td>1.055556</td>\n",
              "      <td>1.602694</td>\n",
              "      <td>0.946128</td>\n",
              "    </tr>\n",
              "    <tr>\n",
              "      <th>std</th>\n",
              "      <td>9.049736</td>\n",
              "      <td>0.468500</td>\n",
              "      <td>0.964859</td>\n",
              "      <td>17.762806</td>\n",
              "      <td>51.997583</td>\n",
              "      <td>0.352474</td>\n",
              "      <td>0.994914</td>\n",
              "      <td>22.941562</td>\n",
              "      <td>0.469761</td>\n",
              "      <td>1.166123</td>\n",
              "      <td>0.618187</td>\n",
              "      <td>1.234551</td>\n",
              "    </tr>\n",
              "    <tr>\n",
              "      <th>min</th>\n",
              "      <td>29.000000</td>\n",
              "      <td>0.000000</td>\n",
              "      <td>1.000000</td>\n",
              "      <td>94.000000</td>\n",
              "      <td>126.000000</td>\n",
              "      <td>0.000000</td>\n",
              "      <td>0.000000</td>\n",
              "      <td>71.000000</td>\n",
              "      <td>0.000000</td>\n",
              "      <td>0.000000</td>\n",
              "      <td>1.000000</td>\n",
              "      <td>0.000000</td>\n",
              "    </tr>\n",
              "    <tr>\n",
              "      <th>25%</th>\n",
              "      <td>48.000000</td>\n",
              "      <td>0.000000</td>\n",
              "      <td>3.000000</td>\n",
              "      <td>120.000000</td>\n",
              "      <td>211.000000</td>\n",
              "      <td>0.000000</td>\n",
              "      <td>0.000000</td>\n",
              "      <td>133.000000</td>\n",
              "      <td>0.000000</td>\n",
              "      <td>0.000000</td>\n",
              "      <td>1.000000</td>\n",
              "      <td>0.000000</td>\n",
              "    </tr>\n",
              "    <tr>\n",
              "      <th>50%</th>\n",
              "      <td>56.000000</td>\n",
              "      <td>1.000000</td>\n",
              "      <td>3.000000</td>\n",
              "      <td>130.000000</td>\n",
              "      <td>243.000000</td>\n",
              "      <td>0.000000</td>\n",
              "      <td>1.000000</td>\n",
              "      <td>153.000000</td>\n",
              "      <td>0.000000</td>\n",
              "      <td>0.800000</td>\n",
              "      <td>2.000000</td>\n",
              "      <td>0.000000</td>\n",
              "    </tr>\n",
              "    <tr>\n",
              "      <th>75%</th>\n",
              "      <td>61.000000</td>\n",
              "      <td>1.000000</td>\n",
              "      <td>4.000000</td>\n",
              "      <td>140.000000</td>\n",
              "      <td>276.000000</td>\n",
              "      <td>0.000000</td>\n",
              "      <td>2.000000</td>\n",
              "      <td>166.000000</td>\n",
              "      <td>1.000000</td>\n",
              "      <td>1.600000</td>\n",
              "      <td>2.000000</td>\n",
              "      <td>2.000000</td>\n",
              "    </tr>\n",
              "    <tr>\n",
              "      <th>max</th>\n",
              "      <td>77.000000</td>\n",
              "      <td>1.000000</td>\n",
              "      <td>4.000000</td>\n",
              "      <td>200.000000</td>\n",
              "      <td>564.000000</td>\n",
              "      <td>1.000000</td>\n",
              "      <td>2.000000</td>\n",
              "      <td>202.000000</td>\n",
              "      <td>1.000000</td>\n",
              "      <td>6.200000</td>\n",
              "      <td>3.000000</td>\n",
              "      <td>4.000000</td>\n",
              "    </tr>\n",
              "  </tbody>\n",
              "</table>\n",
              "</div>\n",
              "      <button class=\"colab-df-convert\" onclick=\"convertToInteractive('df-12683b21-1e8e-4b44-bdee-3d8f0ab1e614')\"\n",
              "              title=\"Convert this dataframe to an interactive table.\"\n",
              "              style=\"display:none;\">\n",
              "        \n",
              "  <svg xmlns=\"http://www.w3.org/2000/svg\" height=\"24px\"viewBox=\"0 0 24 24\"\n",
              "       width=\"24px\">\n",
              "    <path d=\"M0 0h24v24H0V0z\" fill=\"none\"/>\n",
              "    <path d=\"M18.56 5.44l.94 2.06.94-2.06 2.06-.94-2.06-.94-.94-2.06-.94 2.06-2.06.94zm-11 1L8.5 8.5l.94-2.06 2.06-.94-2.06-.94L8.5 2.5l-.94 2.06-2.06.94zm10 10l.94 2.06.94-2.06 2.06-.94-2.06-.94-.94-2.06-.94 2.06-2.06.94z\"/><path d=\"M17.41 7.96l-1.37-1.37c-.4-.4-.92-.59-1.43-.59-.52 0-1.04.2-1.43.59L10.3 9.45l-7.72 7.72c-.78.78-.78 2.05 0 2.83L4 21.41c.39.39.9.59 1.41.59.51 0 1.02-.2 1.41-.59l7.78-7.78 2.81-2.81c.8-.78.8-2.07 0-2.86zM5.41 20L4 18.59l7.72-7.72 1.47 1.35L5.41 20z\"/>\n",
              "  </svg>\n",
              "      </button>\n",
              "      \n",
              "  <style>\n",
              "    .colab-df-container {\n",
              "      display:flex;\n",
              "      flex-wrap:wrap;\n",
              "      gap: 12px;\n",
              "    }\n",
              "\n",
              "    .colab-df-convert {\n",
              "      background-color: #E8F0FE;\n",
              "      border: none;\n",
              "      border-radius: 50%;\n",
              "      cursor: pointer;\n",
              "      display: none;\n",
              "      fill: #1967D2;\n",
              "      height: 32px;\n",
              "      padding: 0 0 0 0;\n",
              "      width: 32px;\n",
              "    }\n",
              "\n",
              "    .colab-df-convert:hover {\n",
              "      background-color: #E2EBFA;\n",
              "      box-shadow: 0px 1px 2px rgba(60, 64, 67, 0.3), 0px 1px 3px 1px rgba(60, 64, 67, 0.15);\n",
              "      fill: #174EA6;\n",
              "    }\n",
              "\n",
              "    [theme=dark] .colab-df-convert {\n",
              "      background-color: #3B4455;\n",
              "      fill: #D2E3FC;\n",
              "    }\n",
              "\n",
              "    [theme=dark] .colab-df-convert:hover {\n",
              "      background-color: #434B5C;\n",
              "      box-shadow: 0px 1px 3px 1px rgba(0, 0, 0, 0.15);\n",
              "      filter: drop-shadow(0px 1px 2px rgba(0, 0, 0, 0.3));\n",
              "      fill: #FFFFFF;\n",
              "    }\n",
              "  </style>\n",
              "\n",
              "      <script>\n",
              "        const buttonEl =\n",
              "          document.querySelector('#df-12683b21-1e8e-4b44-bdee-3d8f0ab1e614 button.colab-df-convert');\n",
              "        buttonEl.style.display =\n",
              "          google.colab.kernel.accessAllowed ? 'block' : 'none';\n",
              "\n",
              "        async function convertToInteractive(key) {\n",
              "          const element = document.querySelector('#df-12683b21-1e8e-4b44-bdee-3d8f0ab1e614');\n",
              "          const dataTable =\n",
              "            await google.colab.kernel.invokeFunction('convertToInteractive',\n",
              "                                                     [key], {});\n",
              "          if (!dataTable) return;\n",
              "\n",
              "          const docLinkHtml = 'Like what you see? Visit the ' +\n",
              "            '<a target=\"_blank\" href=https://colab.research.google.com/notebooks/data_table.ipynb>data table notebook</a>'\n",
              "            + ' to learn more about interactive tables.';\n",
              "          element.innerHTML = '';\n",
              "          dataTable['output_type'] = 'display_data';\n",
              "          await google.colab.output.renderOutput(dataTable, element);\n",
              "          const docLink = document.createElement('div');\n",
              "          docLink.innerHTML = docLinkHtml;\n",
              "          element.appendChild(docLink);\n",
              "        }\n",
              "      </script>\n",
              "    </div>\n",
              "  </div>\n",
              "  "
            ]
          },
          "metadata": {},
          "execution_count": 37
        }
      ]
    },
    {
      "cell_type": "code",
      "metadata": {
        "id": "xuggtlf2SZtr",
        "colab": {
          "base_uri": "https://localhost:8080/",
          "height": 389
        },
        "outputId": "8b668616-2446-415e-a6a3-820725af9883"
      },
      "source": [
        "# check the distributions\n",
        "fig,ax = plt.subplots(1,figsize=(17,4))\n",
        "ax = sns.boxplot(data=data)\n",
        "ax.set_xticklabels(ax.get_xticklabels(),rotation=45)\n",
        "plt.show()"
      ],
      "execution_count": 38,
      "outputs": [
        {
          "output_type": "display_data",
          "data": {
            "text/plain": [
              "<Figure size 1224x288 with 1 Axes>"
            ],
            "image/svg+xml": "<?xml version=\"1.0\" encoding=\"utf-8\" standalone=\"no\"?>\n<!DOCTYPE svg PUBLIC \"-//W3C//DTD SVG 1.1//EN\"\n  \"http://www.w3.org/Graphics/SVG/1.1/DTD/svg11.dtd\">\n<!-- Created with matplotlib (https://matplotlib.org/) -->\n<svg height=\"275.965316pt\" version=\"1.1\" viewBox=\"0 0 989.0875 275.965316\" width=\"989.0875pt\" xmlns=\"http://www.w3.org/2000/svg\" xmlns:xlink=\"http://www.w3.org/1999/xlink\">\n <defs>\n  <style type=\"text/css\">\n*{stroke-linecap:butt;stroke-linejoin:round;}\n  </style>\n </defs>\n <g id=\"figure_1\">\n  <g id=\"patch_1\">\n   <path d=\"M 0 275.965316 \nL 989.0875 275.965316 \nL 989.0875 0 \nL 0 0 \nz\n\" style=\"fill:none;\"/>\n  </g>\n  <g id=\"axes_1\">\n   <g id=\"patch_2\">\n    <path d=\"M 33.2875 224.64 \nL 981.8875 224.64 \nL 981.8875 7.2 \nL 33.2875 7.2 \nz\n\" style=\"fill:#ffffff;\"/>\n   </g>\n   <g id=\"patch_3\">\n    <path clip-path=\"url(#pa51717825e)\" d=\"M 41.1925 197.933153 \nL 104.4325 197.933153 \nL 104.4325 193.376867 \nL 41.1925 193.376867 \nL 41.1925 197.933153 \nz\n\" style=\"fill:#ea96a3;stroke:#464646;stroke-linejoin:miter;stroke-width:1.5;\"/>\n   </g>\n   <g id=\"patch_4\">\n    <path clip-path=\"url(#pa51717825e)\" d=\"M 120.2425 214.756364 \nL 183.4825 214.756364 \nL 183.4825 214.40588 \nL 120.2425 214.40588 \nL 120.2425 214.756364 \nz\n\" style=\"fill:#e19153;stroke:#464646;stroke-linejoin:miter;stroke-width:1.5;\"/>\n   </g>\n   <g id=\"patch_5\">\n    <path clip-path=\"url(#pa51717825e)\" d=\"M 199.2925 213.704913 \nL 262.5325 213.704913 \nL 262.5325 213.354429 \nL 199.2925 213.354429 \nL 199.2925 213.704913 \nz\n\" style=\"fill:#b89c49;stroke:#464646;stroke-linejoin:miter;stroke-width:1.5;\"/>\n   </g>\n   <g id=\"patch_6\">\n    <path clip-path=\"url(#pa51717825e)\" d=\"M 278.3425 172.698337 \nL 341.5825 172.698337 \nL 341.5825 165.688665 \nL 278.3425 165.688665 \nL 278.3425 172.698337 \nz\n\" style=\"fill:#98a246;stroke:#464646;stroke-linejoin:miter;stroke-width:1.5;\"/>\n   </g>\n   <g id=\"patch_7\">\n    <path clip-path=\"url(#pa51717825e)\" d=\"M 357.3925 140.804333 \nL 420.6325 140.804333 \nL 420.6325 118.022901 \nL 357.3925 118.022901 \nL 357.3925 140.804333 \nz\n\" style=\"fill:#60ae47;stroke:#464646;stroke-linejoin:miter;stroke-width:1.5;\"/>\n   </g>\n   <g id=\"patch_8\">\n    <path clip-path=\"url(#pa51717825e)\" d=\"M 436.4425 214.756364 \nL 499.6825 214.756364 \nL 499.6825 214.756364 \nL 436.4425 214.756364 \nL 436.4425 214.756364 \nz\n\" style=\"fill:#4aae8a;stroke:#464646;stroke-linejoin:miter;stroke-width:1.5;\"/>\n   </g>\n   <g id=\"patch_9\">\n    <path clip-path=\"url(#pa51717825e)\" d=\"M 515.4925 214.756364 \nL 578.7325 214.756364 \nL 578.7325 214.055397 \nL 515.4925 214.055397 \nL 515.4925 214.756364 \nz\n\" style=\"fill:#4baba4;stroke:#464646;stroke-linejoin:miter;stroke-width:1.5;\"/>\n   </g>\n   <g id=\"patch_10\">\n    <path clip-path=\"url(#pa51717825e)\" d=\"M 594.5425 168.14205 \nL 657.7825 168.14205 \nL 657.7825 156.576093 \nL 594.5425 156.576093 \nL 594.5425 168.14205 \nz\n\" style=\"fill:#4fabbc;stroke:#464646;stroke-linejoin:miter;stroke-width:1.5;\"/>\n   </g>\n   <g id=\"patch_11\">\n    <path clip-path=\"url(#pa51717825e)\" d=\"M 673.5925 214.756364 \nL 736.8325 214.756364 \nL 736.8325 214.40588 \nL 673.5925 214.40588 \nL 673.5925 214.756364 \nz\n\" style=\"fill:#6daee2;stroke:#464646;stroke-linejoin:miter;stroke-width:1.5;\"/>\n   </g>\n   <g id=\"patch_12\">\n    <path clip-path=\"url(#pa51717825e)\" d=\"M 752.6425 214.756364 \nL 815.8825 214.756364 \nL 815.8825 214.19559 \nL 752.6425 214.19559 \nL 752.6425 214.756364 \nz\n\" style=\"fill:#b6a8eb;stroke:#464646;stroke-linejoin:miter;stroke-width:1.5;\"/>\n   </g>\n   <g id=\"patch_13\">\n    <path clip-path=\"url(#pa51717825e)\" d=\"M 831.6925 214.40588 \nL 894.9325 214.40588 \nL 894.9325 214.055397 \nL 831.6925 214.055397 \nL 831.6925 214.40588 \nz\n\" style=\"fill:#df8fe7;stroke:#464646;stroke-linejoin:miter;stroke-width:1.5;\"/>\n   </g>\n   <g id=\"patch_14\">\n    <path clip-path=\"url(#pa51717825e)\" d=\"M 910.7425 214.756364 \nL 973.9825 214.756364 \nL 973.9825 214.055397 \nL 910.7425 214.055397 \nL 910.7425 214.756364 \nz\n\" style=\"fill:#e890c6;stroke:#464646;stroke-linejoin:miter;stroke-width:1.5;\"/>\n   </g>\n   <g id=\"matplotlib.axis_1\">\n    <g id=\"xtick_1\">\n     <g id=\"line2d_1\">\n      <defs>\n       <path d=\"M 0 0 \nL 0 3.5 \n\" id=\"mb7aa4ab0c3\" style=\"stroke:#000000;stroke-width:0.8;\"/>\n      </defs>\n      <g>\n       <use style=\"stroke:#000000;stroke-width:0.8;\" x=\"72.8125\" xlink:href=\"#mb7aa4ab0c3\" y=\"224.64\"/>\n      </g>\n     </g>\n     <g id=\"text_1\">\n      <!-- age -->\n      <defs>\n       <path d=\"M 34.28125 27.484375 \nQ 23.390625 27.484375 19.1875 25 \nQ 14.984375 22.515625 14.984375 16.5 \nQ 14.984375 11.71875 18.140625 8.90625 \nQ 21.296875 6.109375 26.703125 6.109375 \nQ 34.1875 6.109375 38.703125 11.40625 \nQ 43.21875 16.703125 43.21875 25.484375 \nL 43.21875 27.484375 \nz\nM 52.203125 31.203125 \nL 52.203125 0 \nL 43.21875 0 \nL 43.21875 8.296875 \nQ 40.140625 3.328125 35.546875 0.953125 \nQ 30.953125 -1.421875 24.3125 -1.421875 \nQ 15.921875 -1.421875 10.953125 3.296875 \nQ 6 8.015625 6 15.921875 \nQ 6 25.140625 12.171875 29.828125 \nQ 18.359375 34.515625 30.609375 34.515625 \nL 43.21875 34.515625 \nL 43.21875 35.40625 \nQ 43.21875 41.609375 39.140625 45 \nQ 35.0625 48.390625 27.6875 48.390625 \nQ 23 48.390625 18.546875 47.265625 \nQ 14.109375 46.140625 10.015625 43.890625 \nL 10.015625 52.203125 \nQ 14.9375 54.109375 19.578125 55.046875 \nQ 24.21875 56 28.609375 56 \nQ 40.484375 56 46.34375 49.84375 \nQ 52.203125 43.703125 52.203125 31.203125 \nz\n\" id=\"DejaVuSans-97\"/>\n       <path d=\"M 45.40625 27.984375 \nQ 45.40625 37.75 41.375 43.109375 \nQ 37.359375 48.484375 30.078125 48.484375 \nQ 22.859375 48.484375 18.828125 43.109375 \nQ 14.796875 37.75 14.796875 27.984375 \nQ 14.796875 18.265625 18.828125 12.890625 \nQ 22.859375 7.515625 30.078125 7.515625 \nQ 37.359375 7.515625 41.375 12.890625 \nQ 45.40625 18.265625 45.40625 27.984375 \nz\nM 54.390625 6.78125 \nQ 54.390625 -7.171875 48.1875 -13.984375 \nQ 42 -20.796875 29.203125 -20.796875 \nQ 24.46875 -20.796875 20.265625 -20.09375 \nQ 16.0625 -19.390625 12.109375 -17.921875 \nL 12.109375 -9.1875 \nQ 16.0625 -11.328125 19.921875 -12.34375 \nQ 23.78125 -13.375 27.78125 -13.375 \nQ 36.625 -13.375 41.015625 -8.765625 \nQ 45.40625 -4.15625 45.40625 5.171875 \nL 45.40625 9.625 \nQ 42.625 4.78125 38.28125 2.390625 \nQ 33.9375 0 27.875 0 \nQ 17.828125 0 11.671875 7.65625 \nQ 5.515625 15.328125 5.515625 27.984375 \nQ 5.515625 40.671875 11.671875 48.328125 \nQ 17.828125 56 27.875 56 \nQ 33.9375 56 38.28125 53.609375 \nQ 42.625 51.21875 45.40625 46.390625 \nL 45.40625 54.6875 \nL 54.390625 54.6875 \nz\n\" id=\"DejaVuSans-103\"/>\n       <path d=\"M 56.203125 29.59375 \nL 56.203125 25.203125 \nL 14.890625 25.203125 \nQ 15.484375 15.921875 20.484375 11.0625 \nQ 25.484375 6.203125 34.421875 6.203125 \nQ 39.59375 6.203125 44.453125 7.46875 \nQ 49.3125 8.734375 54.109375 11.28125 \nL 54.109375 2.78125 \nQ 49.265625 0.734375 44.1875 -0.34375 \nQ 39.109375 -1.421875 33.890625 -1.421875 \nQ 20.796875 -1.421875 13.15625 6.1875 \nQ 5.515625 13.8125 5.515625 26.8125 \nQ 5.515625 40.234375 12.765625 48.109375 \nQ 20.015625 56 32.328125 56 \nQ 43.359375 56 49.78125 48.890625 \nQ 56.203125 41.796875 56.203125 29.59375 \nz\nM 47.21875 32.234375 \nQ 47.125 39.59375 43.09375 43.984375 \nQ 39.0625 48.390625 32.421875 48.390625 \nQ 24.90625 48.390625 20.390625 44.140625 \nQ 15.875 39.890625 15.1875 32.171875 \nz\n\" id=\"DejaVuSans-101\"/>\n      </defs>\n      <g transform=\"translate(68.177084 250.186085)rotate(-45)scale(0.1 -0.1)\">\n       <use xlink:href=\"#DejaVuSans-97\"/>\n       <use x=\"61.279297\" xlink:href=\"#DejaVuSans-103\"/>\n       <use x=\"124.755859\" xlink:href=\"#DejaVuSans-101\"/>\n      </g>\n     </g>\n    </g>\n    <g id=\"xtick_2\">\n     <g id=\"line2d_2\">\n      <g>\n       <use style=\"stroke:#000000;stroke-width:0.8;\" x=\"151.8625\" xlink:href=\"#mb7aa4ab0c3\" y=\"224.64\"/>\n      </g>\n     </g>\n     <g id=\"text_2\">\n      <!-- sex -->\n      <defs>\n       <path d=\"M 44.28125 53.078125 \nL 44.28125 44.578125 \nQ 40.484375 46.53125 36.375 47.5 \nQ 32.28125 48.484375 27.875 48.484375 \nQ 21.1875 48.484375 17.84375 46.4375 \nQ 14.5 44.390625 14.5 40.28125 \nQ 14.5 37.15625 16.890625 35.375 \nQ 19.28125 33.59375 26.515625 31.984375 \nL 29.59375 31.296875 \nQ 39.15625 29.25 43.1875 25.515625 \nQ 47.21875 21.78125 47.21875 15.09375 \nQ 47.21875 7.46875 41.1875 3.015625 \nQ 35.15625 -1.421875 24.609375 -1.421875 \nQ 20.21875 -1.421875 15.453125 -0.5625 \nQ 10.6875 0.296875 5.421875 2 \nL 5.421875 11.28125 \nQ 10.40625 8.6875 15.234375 7.390625 \nQ 20.0625 6.109375 24.8125 6.109375 \nQ 31.15625 6.109375 34.5625 8.28125 \nQ 37.984375 10.453125 37.984375 14.40625 \nQ 37.984375 18.0625 35.515625 20.015625 \nQ 33.0625 21.96875 24.703125 23.78125 \nL 21.578125 24.515625 \nQ 13.234375 26.265625 9.515625 29.90625 \nQ 5.8125 33.546875 5.8125 39.890625 \nQ 5.8125 47.609375 11.28125 51.796875 \nQ 16.75 56 26.8125 56 \nQ 31.78125 56 36.171875 55.265625 \nQ 40.578125 54.546875 44.28125 53.078125 \nz\n\" id=\"DejaVuSans-115\"/>\n       <path d=\"M 54.890625 54.6875 \nL 35.109375 28.078125 \nL 55.90625 0 \nL 45.3125 0 \nL 29.390625 21.484375 \nL 13.484375 0 \nL 2.875 0 \nL 24.125 28.609375 \nL 4.6875 54.6875 \nL 15.28125 54.6875 \nL 29.78125 35.203125 \nL 44.28125 54.6875 \nz\n\" id=\"DejaVuSans-120\"/>\n      </defs>\n      <g transform=\"translate(147.7657 249.108852)rotate(-45)scale(0.1 -0.1)\">\n       <use xlink:href=\"#DejaVuSans-115\"/>\n       <use x=\"52.099609\" xlink:href=\"#DejaVuSans-101\"/>\n       <use x=\"111.873047\" xlink:href=\"#DejaVuSans-120\"/>\n      </g>\n     </g>\n    </g>\n    <g id=\"xtick_3\">\n     <g id=\"line2d_3\">\n      <g>\n       <use style=\"stroke:#000000;stroke-width:0.8;\" x=\"230.9125\" xlink:href=\"#mb7aa4ab0c3\" y=\"224.64\"/>\n      </g>\n     </g>\n     <g id=\"text_3\">\n      <!-- cp -->\n      <defs>\n       <path d=\"M 48.78125 52.59375 \nL 48.78125 44.1875 \nQ 44.96875 46.296875 41.140625 47.34375 \nQ 37.3125 48.390625 33.40625 48.390625 \nQ 24.65625 48.390625 19.8125 42.84375 \nQ 14.984375 37.3125 14.984375 27.296875 \nQ 14.984375 17.28125 19.8125 11.734375 \nQ 24.65625 6.203125 33.40625 6.203125 \nQ 37.3125 6.203125 41.140625 7.25 \nQ 44.96875 8.296875 48.78125 10.40625 \nL 48.78125 2.09375 \nQ 45.015625 0.34375 40.984375 -0.53125 \nQ 36.96875 -1.421875 32.421875 -1.421875 \nQ 20.0625 -1.421875 12.78125 6.34375 \nQ 5.515625 14.109375 5.515625 27.296875 \nQ 5.515625 40.671875 12.859375 48.328125 \nQ 20.21875 56 33.015625 56 \nQ 37.15625 56 41.109375 55.140625 \nQ 45.0625 54.296875 48.78125 52.59375 \nz\n\" id=\"DejaVuSans-99\"/>\n       <path d=\"M 18.109375 8.203125 \nL 18.109375 -20.796875 \nL 9.078125 -20.796875 \nL 9.078125 54.6875 \nL 18.109375 54.6875 \nL 18.109375 46.390625 \nQ 20.953125 51.265625 25.265625 53.625 \nQ 29.59375 56 35.59375 56 \nQ 45.5625 56 51.78125 48.09375 \nQ 58.015625 40.1875 58.015625 27.296875 \nQ 58.015625 14.40625 51.78125 6.484375 \nQ 45.5625 -1.421875 35.59375 -1.421875 \nQ 29.59375 -1.421875 25.265625 0.953125 \nQ 20.953125 3.328125 18.109375 8.203125 \nz\nM 48.6875 27.296875 \nQ 48.6875 37.203125 44.609375 42.84375 \nQ 40.53125 48.484375 33.40625 48.484375 \nQ 26.265625 48.484375 22.1875 42.84375 \nQ 18.109375 37.203125 18.109375 27.296875 \nQ 18.109375 17.390625 22.1875 11.75 \nQ 26.265625 6.109375 33.40625 6.109375 \nQ 40.53125 6.109375 44.609375 11.75 \nQ 48.6875 17.390625 48.6875 27.296875 \nz\n\" id=\"DejaVuSans-112\"/>\n      </defs>\n      <g transform=\"translate(228.67517 245.389912)rotate(-45)scale(0.1 -0.1)\">\n       <use xlink:href=\"#DejaVuSans-99\"/>\n       <use x=\"54.980469\" xlink:href=\"#DejaVuSans-112\"/>\n      </g>\n     </g>\n    </g>\n    <g id=\"xtick_4\">\n     <g id=\"line2d_4\">\n      <g>\n       <use style=\"stroke:#000000;stroke-width:0.8;\" x=\"309.9625\" xlink:href=\"#mb7aa4ab0c3\" y=\"224.64\"/>\n      </g>\n     </g>\n     <g id=\"text_4\">\n      <!-- trestbps -->\n      <defs>\n       <path d=\"M 18.3125 70.21875 \nL 18.3125 54.6875 \nL 36.8125 54.6875 \nL 36.8125 47.703125 \nL 18.3125 47.703125 \nL 18.3125 18.015625 \nQ 18.3125 11.328125 20.140625 9.421875 \nQ 21.96875 7.515625 27.59375 7.515625 \nL 36.8125 7.515625 \nL 36.8125 0 \nL 27.59375 0 \nQ 17.1875 0 13.234375 3.875 \nQ 9.28125 7.765625 9.28125 18.015625 \nL 9.28125 47.703125 \nL 2.6875 47.703125 \nL 2.6875 54.6875 \nL 9.28125 54.6875 \nL 9.28125 70.21875 \nz\n\" id=\"DejaVuSans-116\"/>\n       <path d=\"M 41.109375 46.296875 \nQ 39.59375 47.171875 37.8125 47.578125 \nQ 36.03125 48 33.890625 48 \nQ 26.265625 48 22.1875 43.046875 \nQ 18.109375 38.09375 18.109375 28.8125 \nL 18.109375 0 \nL 9.078125 0 \nL 9.078125 54.6875 \nL 18.109375 54.6875 \nL 18.109375 46.1875 \nQ 20.953125 51.171875 25.484375 53.578125 \nQ 30.03125 56 36.53125 56 \nQ 37.453125 56 38.578125 55.875 \nQ 39.703125 55.765625 41.0625 55.515625 \nz\n\" id=\"DejaVuSans-114\"/>\n       <path d=\"M 48.6875 27.296875 \nQ 48.6875 37.203125 44.609375 42.84375 \nQ 40.53125 48.484375 33.40625 48.484375 \nQ 26.265625 48.484375 22.1875 42.84375 \nQ 18.109375 37.203125 18.109375 27.296875 \nQ 18.109375 17.390625 22.1875 11.75 \nQ 26.265625 6.109375 33.40625 6.109375 \nQ 40.53125 6.109375 44.609375 11.75 \nQ 48.6875 17.390625 48.6875 27.296875 \nz\nM 18.109375 46.390625 \nQ 20.953125 51.265625 25.265625 53.625 \nQ 29.59375 56 35.59375 56 \nQ 45.5625 56 51.78125 48.09375 \nQ 58.015625 40.1875 58.015625 27.296875 \nQ 58.015625 14.40625 51.78125 6.484375 \nQ 45.5625 -1.421875 35.59375 -1.421875 \nQ 29.59375 -1.421875 25.265625 0.953125 \nQ 20.953125 3.328125 18.109375 8.203125 \nL 18.109375 0 \nL 9.078125 0 \nL 9.078125 75.984375 \nL 18.109375 75.984375 \nz\n\" id=\"DejaVuSans-98\"/>\n      </defs>\n      <g transform=\"translate(297.419641 266.00097)rotate(-45)scale(0.1 -0.1)\">\n       <use xlink:href=\"#DejaVuSans-116\"/>\n       <use x=\"39.208984\" xlink:href=\"#DejaVuSans-114\"/>\n       <use x=\"78.072266\" xlink:href=\"#DejaVuSans-101\"/>\n       <use x=\"139.595703\" xlink:href=\"#DejaVuSans-115\"/>\n       <use x=\"191.695312\" xlink:href=\"#DejaVuSans-116\"/>\n       <use x=\"230.904297\" xlink:href=\"#DejaVuSans-98\"/>\n       <use x=\"294.380859\" xlink:href=\"#DejaVuSans-112\"/>\n       <use x=\"357.857422\" xlink:href=\"#DejaVuSans-115\"/>\n      </g>\n     </g>\n    </g>\n    <g id=\"xtick_5\">\n     <g id=\"line2d_5\">\n      <g>\n       <use style=\"stroke:#000000;stroke-width:0.8;\" x=\"389.0125\" xlink:href=\"#mb7aa4ab0c3\" y=\"224.64\"/>\n      </g>\n     </g>\n     <g id=\"text_5\">\n      <!-- chol -->\n      <defs>\n       <path d=\"M 54.890625 33.015625 \nL 54.890625 0 \nL 45.90625 0 \nL 45.90625 32.71875 \nQ 45.90625 40.484375 42.875 44.328125 \nQ 39.84375 48.1875 33.796875 48.1875 \nQ 26.515625 48.1875 22.3125 43.546875 \nQ 18.109375 38.921875 18.109375 30.90625 \nL 18.109375 0 \nL 9.078125 0 \nL 9.078125 75.984375 \nL 18.109375 75.984375 \nL 18.109375 46.1875 \nQ 21.34375 51.125 25.703125 53.5625 \nQ 30.078125 56 35.796875 56 \nQ 45.21875 56 50.046875 50.171875 \nQ 54.890625 44.34375 54.890625 33.015625 \nz\n\" id=\"DejaVuSans-104\"/>\n       <path d=\"M 30.609375 48.390625 \nQ 23.390625 48.390625 19.1875 42.75 \nQ 14.984375 37.109375 14.984375 27.296875 \nQ 14.984375 17.484375 19.15625 11.84375 \nQ 23.34375 6.203125 30.609375 6.203125 \nQ 37.796875 6.203125 41.984375 11.859375 \nQ 46.1875 17.53125 46.1875 27.296875 \nQ 46.1875 37.015625 41.984375 42.703125 \nQ 37.796875 48.390625 30.609375 48.390625 \nz\nM 30.609375 56 \nQ 42.328125 56 49.015625 48.375 \nQ 55.71875 40.765625 55.71875 27.296875 \nQ 55.71875 13.875 49.015625 6.21875 \nQ 42.328125 -1.421875 30.609375 -1.421875 \nQ 18.84375 -1.421875 12.171875 6.21875 \nQ 5.515625 13.875 5.515625 27.296875 \nQ 5.515625 40.765625 12.171875 48.375 \nQ 18.84375 56 30.609375 56 \nz\n\" id=\"DejaVuSans-111\"/>\n       <path d=\"M 9.421875 75.984375 \nL 18.40625 75.984375 \nL 18.40625 0 \nL 9.421875 0 \nz\n\" id=\"DejaVuSans-108\"/>\n      </defs>\n      <g transform=\"translate(383.633517 251.673219)rotate(-45)scale(0.1 -0.1)\">\n       <use xlink:href=\"#DejaVuSans-99\"/>\n       <use x=\"54.980469\" xlink:href=\"#DejaVuSans-104\"/>\n       <use x=\"118.359375\" xlink:href=\"#DejaVuSans-111\"/>\n       <use x=\"179.541016\" xlink:href=\"#DejaVuSans-108\"/>\n      </g>\n     </g>\n    </g>\n    <g id=\"xtick_6\">\n     <g id=\"line2d_6\">\n      <g>\n       <use style=\"stroke:#000000;stroke-width:0.8;\" x=\"468.0625\" xlink:href=\"#mb7aa4ab0c3\" y=\"224.64\"/>\n      </g>\n     </g>\n     <g id=\"text_6\">\n      <!-- fbs -->\n      <defs>\n       <path d=\"M 37.109375 75.984375 \nL 37.109375 68.5 \nL 28.515625 68.5 \nQ 23.6875 68.5 21.796875 66.546875 \nQ 19.921875 64.59375 19.921875 59.515625 \nL 19.921875 54.6875 \nL 34.71875 54.6875 \nL 34.71875 47.703125 \nL 19.921875 47.703125 \nL 19.921875 0 \nL 10.890625 0 \nL 10.890625 47.703125 \nL 2.296875 47.703125 \nL 2.296875 54.6875 \nL 10.890625 54.6875 \nL 10.890625 58.5 \nQ 10.890625 67.625 15.140625 71.796875 \nQ 19.390625 75.984375 28.609375 75.984375 \nz\n\" id=\"DejaVuSans-102\"/>\n      </defs>\n      <g transform=\"translate(464.682751 247.674751)rotate(-45)scale(0.1 -0.1)\">\n       <use xlink:href=\"#DejaVuSans-102\"/>\n       <use x=\"35.205078\" xlink:href=\"#DejaVuSans-98\"/>\n       <use x=\"98.681641\" xlink:href=\"#DejaVuSans-115\"/>\n      </g>\n     </g>\n    </g>\n    <g id=\"xtick_7\">\n     <g id=\"line2d_7\">\n      <g>\n       <use style=\"stroke:#000000;stroke-width:0.8;\" x=\"547.1125\" xlink:href=\"#mb7aa4ab0c3\" y=\"224.64\"/>\n      </g>\n     </g>\n     <g id=\"text_7\">\n      <!-- restecg -->\n      <g transform=\"translate(535.922535 263.295182)rotate(-45)scale(0.1 -0.1)\">\n       <use xlink:href=\"#DejaVuSans-114\"/>\n       <use x=\"38.863281\" xlink:href=\"#DejaVuSans-101\"/>\n       <use x=\"100.386719\" xlink:href=\"#DejaVuSans-115\"/>\n       <use x=\"152.486328\" xlink:href=\"#DejaVuSans-116\"/>\n       <use x=\"191.695312\" xlink:href=\"#DejaVuSans-101\"/>\n       <use x=\"253.21875\" xlink:href=\"#DejaVuSans-99\"/>\n       <use x=\"308.199219\" xlink:href=\"#DejaVuSans-103\"/>\n      </g>\n     </g>\n    </g>\n    <g id=\"xtick_8\">\n     <g id=\"line2d_8\">\n      <g>\n       <use style=\"stroke:#000000;stroke-width:0.8;\" x=\"626.1625\" xlink:href=\"#mb7aa4ab0c3\" y=\"224.64\"/>\n      </g>\n     </g>\n     <g id=\"text_8\">\n      <!-- thalach -->\n      <g transform=\"translate(614.986898 263.266456)rotate(-45)scale(0.1 -0.1)\">\n       <use xlink:href=\"#DejaVuSans-116\"/>\n       <use x=\"39.208984\" xlink:href=\"#DejaVuSans-104\"/>\n       <use x=\"102.587891\" xlink:href=\"#DejaVuSans-97\"/>\n       <use x=\"163.867188\" xlink:href=\"#DejaVuSans-108\"/>\n       <use x=\"191.650391\" xlink:href=\"#DejaVuSans-97\"/>\n       <use x=\"252.929688\" xlink:href=\"#DejaVuSans-99\"/>\n       <use x=\"307.910156\" xlink:href=\"#DejaVuSans-104\"/>\n      </g>\n     </g>\n    </g>\n    <g id=\"xtick_9\">\n     <g id=\"line2d_9\">\n      <g>\n       <use style=\"stroke:#000000;stroke-width:0.8;\" x=\"705.2125\" xlink:href=\"#mb7aa4ab0c3\" y=\"224.64\"/>\n      </g>\n     </g>\n     <g id=\"text_9\">\n      <!-- exang -->\n      <defs>\n       <path d=\"M 54.890625 33.015625 \nL 54.890625 0 \nL 45.90625 0 \nL 45.90625 32.71875 \nQ 45.90625 40.484375 42.875 44.328125 \nQ 39.84375 48.1875 33.796875 48.1875 \nQ 26.515625 48.1875 22.3125 43.546875 \nQ 18.109375 38.921875 18.109375 30.90625 \nL 18.109375 0 \nL 9.078125 0 \nL 9.078125 54.6875 \nL 18.109375 54.6875 \nL 18.109375 46.1875 \nQ 21.34375 51.125 25.703125 53.5625 \nQ 30.078125 56 35.796875 56 \nQ 45.21875 56 50.046875 50.171875 \nQ 54.890625 44.34375 54.890625 33.015625 \nz\n\" id=\"DejaVuSans-110\"/>\n      </defs>\n      <g transform=\"translate(696.305717 258.728819)rotate(-45)scale(0.1 -0.1)\">\n       <use xlink:href=\"#DejaVuSans-101\"/>\n       <use x=\"59.773438\" xlink:href=\"#DejaVuSans-120\"/>\n       <use x=\"118.953125\" xlink:href=\"#DejaVuSans-97\"/>\n       <use x=\"180.232422\" xlink:href=\"#DejaVuSans-110\"/>\n       <use x=\"243.611328\" xlink:href=\"#DejaVuSans-103\"/>\n      </g>\n     </g>\n    </g>\n    <g id=\"xtick_10\">\n     <g id=\"line2d_10\">\n      <g>\n       <use style=\"stroke:#000000;stroke-width:0.8;\" x=\"784.2625\" xlink:href=\"#mb7aa4ab0c3\" y=\"224.64\"/>\n      </g>\n     </g>\n     <g id=\"text_10\">\n      <!-- oldpeak -->\n      <defs>\n       <path d=\"M 45.40625 46.390625 \nL 45.40625 75.984375 \nL 54.390625 75.984375 \nL 54.390625 0 \nL 45.40625 0 \nL 45.40625 8.203125 \nQ 42.578125 3.328125 38.25 0.953125 \nQ 33.9375 -1.421875 27.875 -1.421875 \nQ 17.96875 -1.421875 11.734375 6.484375 \nQ 5.515625 14.40625 5.515625 27.296875 \nQ 5.515625 40.1875 11.734375 48.09375 \nQ 17.96875 56 27.875 56 \nQ 33.9375 56 38.25 53.625 \nQ 42.578125 51.265625 45.40625 46.390625 \nz\nM 14.796875 27.296875 \nQ 14.796875 17.390625 18.875 11.75 \nQ 22.953125 6.109375 30.078125 6.109375 \nQ 37.203125 6.109375 41.296875 11.75 \nQ 45.40625 17.390625 45.40625 27.296875 \nQ 45.40625 37.203125 41.296875 42.84375 \nQ 37.203125 48.484375 30.078125 48.484375 \nQ 22.953125 48.484375 18.875 42.84375 \nQ 14.796875 37.203125 14.796875 27.296875 \nz\n\" id=\"DejaVuSans-100\"/>\n       <path d=\"M 9.078125 75.984375 \nL 18.109375 75.984375 \nL 18.109375 31.109375 \nL 44.921875 54.6875 \nL 56.390625 54.6875 \nL 27.390625 29.109375 \nL 57.625 0 \nL 45.90625 0 \nL 18.109375 26.703125 \nL 18.109375 0 \nL 9.078125 0 \nz\n\" id=\"DejaVuSans-107\"/>\n      </defs>\n      <g transform=\"translate(772.189757 265.060739)rotate(-45)scale(0.1 -0.1)\">\n       <use xlink:href=\"#DejaVuSans-111\"/>\n       <use x=\"61.181641\" xlink:href=\"#DejaVuSans-108\"/>\n       <use x=\"88.964844\" xlink:href=\"#DejaVuSans-100\"/>\n       <use x=\"152.441406\" xlink:href=\"#DejaVuSans-112\"/>\n       <use x=\"215.917969\" xlink:href=\"#DejaVuSans-101\"/>\n       <use x=\"277.441406\" xlink:href=\"#DejaVuSans-97\"/>\n       <use x=\"338.720703\" xlink:href=\"#DejaVuSans-107\"/>\n      </g>\n     </g>\n    </g>\n    <g id=\"xtick_11\">\n     <g id=\"line2d_11\">\n      <g>\n       <use style=\"stroke:#000000;stroke-width:0.8;\" x=\"863.3125\" xlink:href=\"#mb7aa4ab0c3\" y=\"224.64\"/>\n      </g>\n     </g>\n     <g id=\"text_11\">\n      <!-- slope -->\n      <g transform=\"translate(855.85639 255.827471)rotate(-45)scale(0.1 -0.1)\">\n       <use xlink:href=\"#DejaVuSans-115\"/>\n       <use x=\"52.099609\" xlink:href=\"#DejaVuSans-108\"/>\n       <use x=\"79.882812\" xlink:href=\"#DejaVuSans-111\"/>\n       <use x=\"141.064453\" xlink:href=\"#DejaVuSans-112\"/>\n       <use x=\"204.541016\" xlink:href=\"#DejaVuSans-101\"/>\n      </g>\n     </g>\n    </g>\n    <g id=\"xtick_12\">\n     <g id=\"line2d_12\">\n      <g>\n       <use style=\"stroke:#000000;stroke-width:0.8;\" x=\"942.3625\" xlink:href=\"#mb7aa4ab0c3\" y=\"224.64\"/>\n      </g>\n     </g>\n     <g id=\"text_12\">\n      <!-- DISEASE -->\n      <defs>\n       <path d=\"M 19.671875 64.796875 \nL 19.671875 8.109375 \nL 31.59375 8.109375 \nQ 46.6875 8.109375 53.6875 14.9375 \nQ 60.6875 21.78125 60.6875 36.53125 \nQ 60.6875 51.171875 53.6875 57.984375 \nQ 46.6875 64.796875 31.59375 64.796875 \nz\nM 9.8125 72.90625 \nL 30.078125 72.90625 \nQ 51.265625 72.90625 61.171875 64.09375 \nQ 71.09375 55.28125 71.09375 36.53125 \nQ 71.09375 17.671875 61.125 8.828125 \nQ 51.171875 0 30.078125 0 \nL 9.8125 0 \nz\n\" id=\"DejaVuSans-68\"/>\n       <path d=\"M 9.8125 72.90625 \nL 19.671875 72.90625 \nL 19.671875 0 \nL 9.8125 0 \nz\n\" id=\"DejaVuSans-73\"/>\n       <path d=\"M 53.515625 70.515625 \nL 53.515625 60.890625 \nQ 47.90625 63.578125 42.921875 64.890625 \nQ 37.9375 66.21875 33.296875 66.21875 \nQ 25.25 66.21875 20.875 63.09375 \nQ 16.5 59.96875 16.5 54.203125 \nQ 16.5 49.359375 19.40625 46.890625 \nQ 22.3125 44.4375 30.421875 42.921875 \nL 36.375 41.703125 \nQ 47.40625 39.59375 52.65625 34.296875 \nQ 57.90625 29 57.90625 20.125 \nQ 57.90625 9.515625 50.796875 4.046875 \nQ 43.703125 -1.421875 29.984375 -1.421875 \nQ 24.8125 -1.421875 18.96875 -0.25 \nQ 13.140625 0.921875 6.890625 3.21875 \nL 6.890625 13.375 \nQ 12.890625 10.015625 18.65625 8.296875 \nQ 24.421875 6.59375 29.984375 6.59375 \nQ 38.421875 6.59375 43.015625 9.90625 \nQ 47.609375 13.234375 47.609375 19.390625 \nQ 47.609375 24.75 44.3125 27.78125 \nQ 41.015625 30.8125 33.5 32.328125 \nL 27.484375 33.5 \nQ 16.453125 35.6875 11.515625 40.375 \nQ 6.59375 45.0625 6.59375 53.421875 \nQ 6.59375 63.09375 13.40625 68.65625 \nQ 20.21875 74.21875 32.171875 74.21875 \nQ 37.3125 74.21875 42.625 73.28125 \nQ 47.953125 72.359375 53.515625 70.515625 \nz\n\" id=\"DejaVuSans-83\"/>\n       <path d=\"M 9.8125 72.90625 \nL 55.90625 72.90625 \nL 55.90625 64.59375 \nL 19.671875 64.59375 \nL 19.671875 43.015625 \nL 54.390625 43.015625 \nL 54.390625 34.71875 \nL 19.671875 34.71875 \nL 19.671875 8.296875 \nL 56.78125 8.296875 \nL 56.78125 0 \nL 9.8125 0 \nz\n\" id=\"DejaVuSans-69\"/>\n       <path d=\"M 34.1875 63.1875 \nL 20.796875 26.90625 \nL 47.609375 26.90625 \nz\nM 28.609375 72.90625 \nL 39.796875 72.90625 \nL 67.578125 0 \nL 57.328125 0 \nL 50.6875 18.703125 \nL 17.828125 18.703125 \nL 11.1875 0 \nL 0.78125 0 \nz\n\" id=\"DejaVuSans-65\"/>\n      </defs>\n      <g transform=\"translate(929.172749 267.294755)rotate(-45)scale(0.1 -0.1)\">\n       <use xlink:href=\"#DejaVuSans-68\"/>\n       <use x=\"77.001953\" xlink:href=\"#DejaVuSans-73\"/>\n       <use x=\"106.494141\" xlink:href=\"#DejaVuSans-83\"/>\n       <use x=\"169.970703\" xlink:href=\"#DejaVuSans-69\"/>\n       <use x=\"233.154297\" xlink:href=\"#DejaVuSans-65\"/>\n       <use x=\"301.5625\" xlink:href=\"#DejaVuSans-83\"/>\n       <use x=\"365.039062\" xlink:href=\"#DejaVuSans-69\"/>\n      </g>\n     </g>\n    </g>\n   </g>\n   <g id=\"matplotlib.axis_2\">\n    <g id=\"ytick_1\">\n     <g id=\"line2d_13\">\n      <defs>\n       <path d=\"M 0 0 \nL -3.5 0 \n\" id=\"m4c425c1b9e\" style=\"stroke:#000000;stroke-width:0.8;\"/>\n      </defs>\n      <g>\n       <use style=\"stroke:#000000;stroke-width:0.8;\" x=\"33.2875\" xlink:href=\"#m4c425c1b9e\" y=\"214.756364\"/>\n      </g>\n     </g>\n     <g id=\"text_13\">\n      <!-- 0 -->\n      <defs>\n       <path d=\"M 31.78125 66.40625 \nQ 24.171875 66.40625 20.328125 58.90625 \nQ 16.5 51.421875 16.5 36.375 \nQ 16.5 21.390625 20.328125 13.890625 \nQ 24.171875 6.390625 31.78125 6.390625 \nQ 39.453125 6.390625 43.28125 13.890625 \nQ 47.125 21.390625 47.125 36.375 \nQ 47.125 51.421875 43.28125 58.90625 \nQ 39.453125 66.40625 31.78125 66.40625 \nz\nM 31.78125 74.21875 \nQ 44.046875 74.21875 50.515625 64.515625 \nQ 56.984375 54.828125 56.984375 36.375 \nQ 56.984375 17.96875 50.515625 8.265625 \nQ 44.046875 -1.421875 31.78125 -1.421875 \nQ 19.53125 -1.421875 13.0625 8.265625 \nQ 6.59375 17.96875 6.59375 36.375 \nQ 6.59375 54.828125 13.0625 64.515625 \nQ 19.53125 74.21875 31.78125 74.21875 \nz\n\" id=\"DejaVuSans-48\"/>\n      </defs>\n      <g transform=\"translate(19.925 218.555582)scale(0.1 -0.1)\">\n       <use xlink:href=\"#DejaVuSans-48\"/>\n      </g>\n     </g>\n    </g>\n    <g id=\"ytick_2\">\n     <g id=\"line2d_14\">\n      <g>\n       <use style=\"stroke:#000000;stroke-width:0.8;\" x=\"33.2875\" xlink:href=\"#m4c425c1b9e\" y=\"179.708008\"/>\n      </g>\n     </g>\n     <g id=\"text_14\">\n      <!-- 100 -->\n      <defs>\n       <path d=\"M 12.40625 8.296875 \nL 28.515625 8.296875 \nL 28.515625 63.921875 \nL 10.984375 60.40625 \nL 10.984375 69.390625 \nL 28.421875 72.90625 \nL 38.28125 72.90625 \nL 38.28125 8.296875 \nL 54.390625 8.296875 \nL 54.390625 0 \nL 12.40625 0 \nz\n\" id=\"DejaVuSans-49\"/>\n      </defs>\n      <g transform=\"translate(7.2 183.507226)scale(0.1 -0.1)\">\n       <use xlink:href=\"#DejaVuSans-49\"/>\n       <use x=\"63.623047\" xlink:href=\"#DejaVuSans-48\"/>\n       <use x=\"127.246094\" xlink:href=\"#DejaVuSans-48\"/>\n      </g>\n     </g>\n    </g>\n    <g id=\"ytick_3\">\n     <g id=\"line2d_15\">\n      <g>\n       <use style=\"stroke:#000000;stroke-width:0.8;\" x=\"33.2875\" xlink:href=\"#m4c425c1b9e\" y=\"144.659652\"/>\n      </g>\n     </g>\n     <g id=\"text_15\">\n      <!-- 200 -->\n      <defs>\n       <path d=\"M 19.1875 8.296875 \nL 53.609375 8.296875 \nL 53.609375 0 \nL 7.328125 0 \nL 7.328125 8.296875 \nQ 12.9375 14.109375 22.625 23.890625 \nQ 32.328125 33.6875 34.8125 36.53125 \nQ 39.546875 41.84375 41.421875 45.53125 \nQ 43.3125 49.21875 43.3125 52.78125 \nQ 43.3125 58.59375 39.234375 62.25 \nQ 35.15625 65.921875 28.609375 65.921875 \nQ 23.96875 65.921875 18.8125 64.3125 \nQ 13.671875 62.703125 7.8125 59.421875 \nL 7.8125 69.390625 \nQ 13.765625 71.78125 18.9375 73 \nQ 24.125 74.21875 28.421875 74.21875 \nQ 39.75 74.21875 46.484375 68.546875 \nQ 53.21875 62.890625 53.21875 53.421875 \nQ 53.21875 48.921875 51.53125 44.890625 \nQ 49.859375 40.875 45.40625 35.40625 \nQ 44.1875 33.984375 37.640625 27.21875 \nQ 31.109375 20.453125 19.1875 8.296875 \nz\n\" id=\"DejaVuSans-50\"/>\n      </defs>\n      <g transform=\"translate(7.2 148.458871)scale(0.1 -0.1)\">\n       <use xlink:href=\"#DejaVuSans-50\"/>\n       <use x=\"63.623047\" xlink:href=\"#DejaVuSans-48\"/>\n       <use x=\"127.246094\" xlink:href=\"#DejaVuSans-48\"/>\n      </g>\n     </g>\n    </g>\n    <g id=\"ytick_4\">\n     <g id=\"line2d_16\">\n      <g>\n       <use style=\"stroke:#000000;stroke-width:0.8;\" x=\"33.2875\" xlink:href=\"#m4c425c1b9e\" y=\"109.611296\"/>\n      </g>\n     </g>\n     <g id=\"text_16\">\n      <!-- 300 -->\n      <defs>\n       <path d=\"M 40.578125 39.3125 \nQ 47.65625 37.796875 51.625 33 \nQ 55.609375 28.21875 55.609375 21.1875 \nQ 55.609375 10.40625 48.1875 4.484375 \nQ 40.765625 -1.421875 27.09375 -1.421875 \nQ 22.515625 -1.421875 17.65625 -0.515625 \nQ 12.796875 0.390625 7.625 2.203125 \nL 7.625 11.71875 \nQ 11.71875 9.328125 16.59375 8.109375 \nQ 21.484375 6.890625 26.8125 6.890625 \nQ 36.078125 6.890625 40.9375 10.546875 \nQ 45.796875 14.203125 45.796875 21.1875 \nQ 45.796875 27.640625 41.28125 31.265625 \nQ 36.765625 34.90625 28.71875 34.90625 \nL 20.21875 34.90625 \nL 20.21875 43.015625 \nL 29.109375 43.015625 \nQ 36.375 43.015625 40.234375 45.921875 \nQ 44.09375 48.828125 44.09375 54.296875 \nQ 44.09375 59.90625 40.109375 62.90625 \nQ 36.140625 65.921875 28.71875 65.921875 \nQ 24.65625 65.921875 20.015625 65.03125 \nQ 15.375 64.15625 9.8125 62.3125 \nL 9.8125 71.09375 \nQ 15.4375 72.65625 20.34375 73.4375 \nQ 25.25 74.21875 29.59375 74.21875 \nQ 40.828125 74.21875 47.359375 69.109375 \nQ 53.90625 64.015625 53.90625 55.328125 \nQ 53.90625 49.265625 50.4375 45.09375 \nQ 46.96875 40.921875 40.578125 39.3125 \nz\n\" id=\"DejaVuSans-51\"/>\n      </defs>\n      <g transform=\"translate(7.2 113.410515)scale(0.1 -0.1)\">\n       <use xlink:href=\"#DejaVuSans-51\"/>\n       <use x=\"63.623047\" xlink:href=\"#DejaVuSans-48\"/>\n       <use x=\"127.246094\" xlink:href=\"#DejaVuSans-48\"/>\n      </g>\n     </g>\n    </g>\n    <g id=\"ytick_5\">\n     <g id=\"line2d_17\">\n      <g>\n       <use style=\"stroke:#000000;stroke-width:0.8;\" x=\"33.2875\" xlink:href=\"#m4c425c1b9e\" y=\"74.56294\"/>\n      </g>\n     </g>\n     <g id=\"text_17\">\n      <!-- 400 -->\n      <defs>\n       <path d=\"M 37.796875 64.3125 \nL 12.890625 25.390625 \nL 37.796875 25.390625 \nz\nM 35.203125 72.90625 \nL 47.609375 72.90625 \nL 47.609375 25.390625 \nL 58.015625 25.390625 \nL 58.015625 17.1875 \nL 47.609375 17.1875 \nL 47.609375 0 \nL 37.796875 0 \nL 37.796875 17.1875 \nL 4.890625 17.1875 \nL 4.890625 26.703125 \nz\n\" id=\"DejaVuSans-52\"/>\n      </defs>\n      <g transform=\"translate(7.2 78.362159)scale(0.1 -0.1)\">\n       <use xlink:href=\"#DejaVuSans-52\"/>\n       <use x=\"63.623047\" xlink:href=\"#DejaVuSans-48\"/>\n       <use x=\"127.246094\" xlink:href=\"#DejaVuSans-48\"/>\n      </g>\n     </g>\n    </g>\n    <g id=\"ytick_6\">\n     <g id=\"line2d_18\">\n      <g>\n       <use style=\"stroke:#000000;stroke-width:0.8;\" x=\"33.2875\" xlink:href=\"#m4c425c1b9e\" y=\"39.514584\"/>\n      </g>\n     </g>\n     <g id=\"text_18\">\n      <!-- 500 -->\n      <defs>\n       <path d=\"M 10.796875 72.90625 \nL 49.515625 72.90625 \nL 49.515625 64.59375 \nL 19.828125 64.59375 \nL 19.828125 46.734375 \nQ 21.96875 47.46875 24.109375 47.828125 \nQ 26.265625 48.1875 28.421875 48.1875 \nQ 40.625 48.1875 47.75 41.5 \nQ 54.890625 34.8125 54.890625 23.390625 \nQ 54.890625 11.625 47.5625 5.09375 \nQ 40.234375 -1.421875 26.90625 -1.421875 \nQ 22.3125 -1.421875 17.546875 -0.640625 \nQ 12.796875 0.140625 7.71875 1.703125 \nL 7.71875 11.625 \nQ 12.109375 9.234375 16.796875 8.0625 \nQ 21.484375 6.890625 26.703125 6.890625 \nQ 35.15625 6.890625 40.078125 11.328125 \nQ 45.015625 15.765625 45.015625 23.390625 \nQ 45.015625 31 40.078125 35.4375 \nQ 35.15625 39.890625 26.703125 39.890625 \nQ 22.75 39.890625 18.8125 39.015625 \nQ 14.890625 38.140625 10.796875 36.28125 \nz\n\" id=\"DejaVuSans-53\"/>\n      </defs>\n      <g transform=\"translate(7.2 43.313803)scale(0.1 -0.1)\">\n       <use xlink:href=\"#DejaVuSans-53\"/>\n       <use x=\"63.623047\" xlink:href=\"#DejaVuSans-48\"/>\n       <use x=\"127.246094\" xlink:href=\"#DejaVuSans-48\"/>\n      </g>\n     </g>\n    </g>\n   </g>\n   <g id=\"line2d_19\">\n    <path clip-path=\"url(#pa51717825e)\" d=\"M 72.8125 197.933153 \nL 72.8125 204.59234 \n\" style=\"fill:none;stroke:#464646;stroke-linecap:square;stroke-width:1.5;\"/>\n   </g>\n   <g id=\"line2d_20\">\n    <path clip-path=\"url(#pa51717825e)\" d=\"M 72.8125 193.376867 \nL 72.8125 187.76913 \n\" style=\"fill:none;stroke:#464646;stroke-linecap:square;stroke-width:1.5;\"/>\n   </g>\n   <g id=\"line2d_21\">\n    <path clip-path=\"url(#pa51717825e)\" d=\"M 57.0025 204.59234 \nL 88.6225 204.59234 \n\" style=\"fill:none;stroke:#464646;stroke-linecap:square;stroke-width:1.5;\"/>\n   </g>\n   <g id=\"line2d_22\">\n    <path clip-path=\"url(#pa51717825e)\" d=\"M 57.0025 187.76913 \nL 88.6225 187.76913 \n\" style=\"fill:none;stroke:#464646;stroke-linecap:square;stroke-width:1.5;\"/>\n   </g>\n   <g id=\"line2d_23\"/>\n   <g id=\"line2d_24\">\n    <path clip-path=\"url(#pa51717825e)\" d=\"M 151.8625 214.756364 \nL 151.8625 214.756364 \n\" style=\"fill:none;stroke:#464646;stroke-linecap:square;stroke-width:1.5;\"/>\n   </g>\n   <g id=\"line2d_25\">\n    <path clip-path=\"url(#pa51717825e)\" d=\"M 151.8625 214.40588 \nL 151.8625 214.40588 \n\" style=\"fill:none;stroke:#464646;stroke-linecap:square;stroke-width:1.5;\"/>\n   </g>\n   <g id=\"line2d_26\">\n    <path clip-path=\"url(#pa51717825e)\" d=\"M 136.0525 214.756364 \nL 167.6725 214.756364 \n\" style=\"fill:none;stroke:#464646;stroke-linecap:square;stroke-width:1.5;\"/>\n   </g>\n   <g id=\"line2d_27\">\n    <path clip-path=\"url(#pa51717825e)\" d=\"M 136.0525 214.40588 \nL 167.6725 214.40588 \n\" style=\"fill:none;stroke:#464646;stroke-linecap:square;stroke-width:1.5;\"/>\n   </g>\n   <g id=\"line2d_28\"/>\n   <g id=\"line2d_29\">\n    <path clip-path=\"url(#pa51717825e)\" d=\"M 230.9125 213.704913 \nL 230.9125 214.055397 \n\" style=\"fill:none;stroke:#464646;stroke-linecap:square;stroke-width:1.5;\"/>\n   </g>\n   <g id=\"line2d_30\">\n    <path clip-path=\"url(#pa51717825e)\" d=\"M 230.9125 213.354429 \nL 230.9125 213.354429 \n\" style=\"fill:none;stroke:#464646;stroke-linecap:square;stroke-width:1.5;\"/>\n   </g>\n   <g id=\"line2d_31\">\n    <path clip-path=\"url(#pa51717825e)\" d=\"M 215.1025 214.055397 \nL 246.7225 214.055397 \n\" style=\"fill:none;stroke:#464646;stroke-linecap:square;stroke-width:1.5;\"/>\n   </g>\n   <g id=\"line2d_32\">\n    <path clip-path=\"url(#pa51717825e)\" d=\"M 215.1025 213.354429 \nL 246.7225 213.354429 \n\" style=\"fill:none;stroke:#464646;stroke-linecap:square;stroke-width:1.5;\"/>\n   </g>\n   <g id=\"line2d_33\">\n    <defs>\n     <path d=\"M -0 3.535534 \nL 2.12132 0 \nL -0 -3.535534 \nL -2.12132 -0 \nz\n\" id=\"m53b4108394\" style=\"stroke:#464646;stroke-linejoin:miter;\"/>\n    </defs>\n    <g clip-path=\"url(#pa51717825e)\">\n     <use style=\"fill:#464646;stroke:#464646;stroke-linejoin:miter;\" x=\"230.9125\" xlink:href=\"#m53b4108394\" y=\"214.40588\"/>\n     <use style=\"fill:#464646;stroke:#464646;stroke-linejoin:miter;\" x=\"230.9125\" xlink:href=\"#m53b4108394\" y=\"214.40588\"/>\n     <use style=\"fill:#464646;stroke:#464646;stroke-linejoin:miter;\" x=\"230.9125\" xlink:href=\"#m53b4108394\" y=\"214.40588\"/>\n     <use style=\"fill:#464646;stroke:#464646;stroke-linejoin:miter;\" x=\"230.9125\" xlink:href=\"#m53b4108394\" y=\"214.40588\"/>\n     <use style=\"fill:#464646;stroke:#464646;stroke-linejoin:miter;\" x=\"230.9125\" xlink:href=\"#m53b4108394\" y=\"214.40588\"/>\n     <use style=\"fill:#464646;stroke:#464646;stroke-linejoin:miter;\" x=\"230.9125\" xlink:href=\"#m53b4108394\" y=\"214.40588\"/>\n     <use style=\"fill:#464646;stroke:#464646;stroke-linejoin:miter;\" x=\"230.9125\" xlink:href=\"#m53b4108394\" y=\"214.40588\"/>\n     <use style=\"fill:#464646;stroke:#464646;stroke-linejoin:miter;\" x=\"230.9125\" xlink:href=\"#m53b4108394\" y=\"214.40588\"/>\n     <use style=\"fill:#464646;stroke:#464646;stroke-linejoin:miter;\" x=\"230.9125\" xlink:href=\"#m53b4108394\" y=\"214.40588\"/>\n     <use style=\"fill:#464646;stroke:#464646;stroke-linejoin:miter;\" x=\"230.9125\" xlink:href=\"#m53b4108394\" y=\"214.40588\"/>\n     <use style=\"fill:#464646;stroke:#464646;stroke-linejoin:miter;\" x=\"230.9125\" xlink:href=\"#m53b4108394\" y=\"214.40588\"/>\n     <use style=\"fill:#464646;stroke:#464646;stroke-linejoin:miter;\" x=\"230.9125\" xlink:href=\"#m53b4108394\" y=\"214.40588\"/>\n     <use style=\"fill:#464646;stroke:#464646;stroke-linejoin:miter;\" x=\"230.9125\" xlink:href=\"#m53b4108394\" y=\"214.40588\"/>\n     <use style=\"fill:#464646;stroke:#464646;stroke-linejoin:miter;\" x=\"230.9125\" xlink:href=\"#m53b4108394\" y=\"214.40588\"/>\n     <use style=\"fill:#464646;stroke:#464646;stroke-linejoin:miter;\" x=\"230.9125\" xlink:href=\"#m53b4108394\" y=\"214.40588\"/>\n     <use style=\"fill:#464646;stroke:#464646;stroke-linejoin:miter;\" x=\"230.9125\" xlink:href=\"#m53b4108394\" y=\"214.40588\"/>\n     <use style=\"fill:#464646;stroke:#464646;stroke-linejoin:miter;\" x=\"230.9125\" xlink:href=\"#m53b4108394\" y=\"214.40588\"/>\n     <use style=\"fill:#464646;stroke:#464646;stroke-linejoin:miter;\" x=\"230.9125\" xlink:href=\"#m53b4108394\" y=\"214.40588\"/>\n     <use style=\"fill:#464646;stroke:#464646;stroke-linejoin:miter;\" x=\"230.9125\" xlink:href=\"#m53b4108394\" y=\"214.40588\"/>\n     <use style=\"fill:#464646;stroke:#464646;stroke-linejoin:miter;\" x=\"230.9125\" xlink:href=\"#m53b4108394\" y=\"214.40588\"/>\n     <use style=\"fill:#464646;stroke:#464646;stroke-linejoin:miter;\" x=\"230.9125\" xlink:href=\"#m53b4108394\" y=\"214.40588\"/>\n     <use style=\"fill:#464646;stroke:#464646;stroke-linejoin:miter;\" x=\"230.9125\" xlink:href=\"#m53b4108394\" y=\"214.40588\"/>\n     <use style=\"fill:#464646;stroke:#464646;stroke-linejoin:miter;\" x=\"230.9125\" xlink:href=\"#m53b4108394\" y=\"214.40588\"/>\n    </g>\n   </g>\n   <g id=\"line2d_34\">\n    <path clip-path=\"url(#pa51717825e)\" d=\"M 309.9625 172.698337 \nL 309.9625 181.810909 \n\" style=\"fill:none;stroke:#464646;stroke-linecap:square;stroke-width:1.5;\"/>\n   </g>\n   <g id=\"line2d_35\">\n    <path clip-path=\"url(#pa51717825e)\" d=\"M 309.9625 165.688665 \nL 309.9625 155.174159 \n\" style=\"fill:none;stroke:#464646;stroke-linecap:square;stroke-width:1.5;\"/>\n   </g>\n   <g id=\"line2d_36\">\n    <path clip-path=\"url(#pa51717825e)\" d=\"M 294.1525 181.810909 \nL 325.7725 181.810909 \n\" style=\"fill:none;stroke:#464646;stroke-linecap:square;stroke-width:1.5;\"/>\n   </g>\n   <g id=\"line2d_37\">\n    <path clip-path=\"url(#pa51717825e)\" d=\"M 294.1525 155.174159 \nL 325.7725 155.174159 \n\" style=\"fill:none;stroke:#464646;stroke-linecap:square;stroke-width:1.5;\"/>\n   </g>\n   <g id=\"line2d_38\">\n    <g clip-path=\"url(#pa51717825e)\">\n     <use style=\"fill:#464646;stroke:#464646;stroke-linejoin:miter;\" x=\"309.9625\" xlink:href=\"#m53b4108394\" y=\"154.473191\"/>\n     <use style=\"fill:#464646;stroke:#464646;stroke-linejoin:miter;\" x=\"309.9625\" xlink:href=\"#m53b4108394\" y=\"151.669323\"/>\n     <use style=\"fill:#464646;stroke:#464646;stroke-linejoin:miter;\" x=\"309.9625\" xlink:href=\"#m53b4108394\" y=\"144.659652\"/>\n     <use style=\"fill:#464646;stroke:#464646;stroke-linejoin:miter;\" x=\"309.9625\" xlink:href=\"#m53b4108394\" y=\"153.772224\"/>\n     <use style=\"fill:#464646;stroke:#464646;stroke-linejoin:miter;\" x=\"309.9625\" xlink:href=\"#m53b4108394\" y=\"152.37029\"/>\n     <use style=\"fill:#464646;stroke:#464646;stroke-linejoin:miter;\" x=\"309.9625\" xlink:href=\"#m53b4108394\" y=\"147.46352\"/>\n     <use style=\"fill:#464646;stroke:#464646;stroke-linejoin:miter;\" x=\"309.9625\" xlink:href=\"#m53b4108394\" y=\"151.669323\"/>\n     <use style=\"fill:#464646;stroke:#464646;stroke-linejoin:miter;\" x=\"309.9625\" xlink:href=\"#m53b4108394\" y=\"152.37029\"/>\n     <use style=\"fill:#464646;stroke:#464646;stroke-linejoin:miter;\" x=\"309.9625\" xlink:href=\"#m53b4108394\" y=\"151.669323\"/>\n    </g>\n   </g>\n   <g id=\"line2d_39\">\n    <path clip-path=\"url(#pa51717825e)\" d=\"M 389.0125 140.804333 \nL 389.0125 170.595435 \n\" style=\"fill:none;stroke:#464646;stroke-linecap:square;stroke-width:1.5;\"/>\n   </g>\n   <g id=\"line2d_40\">\n    <path clip-path=\"url(#pa51717825e)\" d=\"M 389.0125 118.022901 \nL 389.0125 88.582282 \n\" style=\"fill:none;stroke:#464646;stroke-linecap:square;stroke-width:1.5;\"/>\n   </g>\n   <g id=\"line2d_41\">\n    <path clip-path=\"url(#pa51717825e)\" d=\"M 373.2025 170.595435 \nL 404.8225 170.595435 \n\" style=\"fill:none;stroke:#464646;stroke-linecap:square;stroke-width:1.5;\"/>\n   </g>\n   <g id=\"line2d_42\">\n    <path clip-path=\"url(#pa51717825e)\" d=\"M 373.2025 88.582282 \nL 404.8225 88.582282 \n\" style=\"fill:none;stroke:#464646;stroke-linecap:square;stroke-width:1.5;\"/>\n   </g>\n   <g id=\"line2d_43\">\n    <g clip-path=\"url(#pa51717825e)\">\n     <use style=\"fill:#464646;stroke:#464646;stroke-linejoin:miter;\" x=\"389.0125\" xlink:href=\"#m53b4108394\" y=\"68.60472\"/>\n     <use style=\"fill:#464646;stroke:#464646;stroke-linejoin:miter;\" x=\"389.0125\" xlink:href=\"#m53b4108394\" y=\"72.109555\"/>\n     <use style=\"fill:#464646;stroke:#464646;stroke-linejoin:miter;\" x=\"389.0125\" xlink:href=\"#m53b4108394\" y=\"17.083636\"/>\n     <use style=\"fill:#464646;stroke:#464646;stroke-linejoin:miter;\" x=\"389.0125\" xlink:href=\"#m53b4108394\" y=\"76.665841\"/>\n     <use style=\"fill:#464646;stroke:#464646;stroke-linejoin:miter;\" x=\"389.0125\" xlink:href=\"#m53b4108394\" y=\"71.408588\"/>\n    </g>\n   </g>\n   <g id=\"line2d_44\">\n    <path clip-path=\"url(#pa51717825e)\" d=\"M 468.0625 214.756364 \nL 468.0625 214.756364 \n\" style=\"fill:none;stroke:#464646;stroke-linecap:square;stroke-width:1.5;\"/>\n   </g>\n   <g id=\"line2d_45\">\n    <path clip-path=\"url(#pa51717825e)\" d=\"M 468.0625 214.756364 \nL 468.0625 214.756364 \n\" style=\"fill:none;stroke:#464646;stroke-linecap:square;stroke-width:1.5;\"/>\n   </g>\n   <g id=\"line2d_46\">\n    <path clip-path=\"url(#pa51717825e)\" d=\"M 452.2525 214.756364 \nL 483.8725 214.756364 \n\" style=\"fill:none;stroke:#464646;stroke-linecap:square;stroke-width:1.5;\"/>\n   </g>\n   <g id=\"line2d_47\">\n    <path clip-path=\"url(#pa51717825e)\" d=\"M 452.2525 214.756364 \nL 483.8725 214.756364 \n\" style=\"fill:none;stroke:#464646;stroke-linecap:square;stroke-width:1.5;\"/>\n   </g>\n   <g id=\"line2d_48\">\n    <g clip-path=\"url(#pa51717825e)\">\n     <use style=\"fill:#464646;stroke:#464646;stroke-linejoin:miter;\" x=\"468.0625\" xlink:href=\"#m53b4108394\" y=\"214.40588\"/>\n     <use style=\"fill:#464646;stroke:#464646;stroke-linejoin:miter;\" x=\"468.0625\" xlink:href=\"#m53b4108394\" y=\"214.40588\"/>\n     <use style=\"fill:#464646;stroke:#464646;stroke-linejoin:miter;\" x=\"468.0625\" xlink:href=\"#m53b4108394\" y=\"214.40588\"/>\n     <use style=\"fill:#464646;stroke:#464646;stroke-linejoin:miter;\" x=\"468.0625\" xlink:href=\"#m53b4108394\" y=\"214.40588\"/>\n     <use style=\"fill:#464646;stroke:#464646;stroke-linejoin:miter;\" x=\"468.0625\" xlink:href=\"#m53b4108394\" y=\"214.40588\"/>\n     <use style=\"fill:#464646;stroke:#464646;stroke-linejoin:miter;\" x=\"468.0625\" xlink:href=\"#m53b4108394\" y=\"214.40588\"/>\n     <use style=\"fill:#464646;stroke:#464646;stroke-linejoin:miter;\" x=\"468.0625\" xlink:href=\"#m53b4108394\" y=\"214.40588\"/>\n     <use style=\"fill:#464646;stroke:#464646;stroke-linejoin:miter;\" x=\"468.0625\" xlink:href=\"#m53b4108394\" y=\"214.40588\"/>\n     <use style=\"fill:#464646;stroke:#464646;stroke-linejoin:miter;\" x=\"468.0625\" xlink:href=\"#m53b4108394\" y=\"214.40588\"/>\n     <use style=\"fill:#464646;stroke:#464646;stroke-linejoin:miter;\" x=\"468.0625\" xlink:href=\"#m53b4108394\" y=\"214.40588\"/>\n     <use style=\"fill:#464646;stroke:#464646;stroke-linejoin:miter;\" x=\"468.0625\" xlink:href=\"#m53b4108394\" y=\"214.40588\"/>\n     <use style=\"fill:#464646;stroke:#464646;stroke-linejoin:miter;\" x=\"468.0625\" xlink:href=\"#m53b4108394\" y=\"214.40588\"/>\n     <use style=\"fill:#464646;stroke:#464646;stroke-linejoin:miter;\" x=\"468.0625\" xlink:href=\"#m53b4108394\" y=\"214.40588\"/>\n     <use style=\"fill:#464646;stroke:#464646;stroke-linejoin:miter;\" x=\"468.0625\" xlink:href=\"#m53b4108394\" y=\"214.40588\"/>\n     <use style=\"fill:#464646;stroke:#464646;stroke-linejoin:miter;\" x=\"468.0625\" xlink:href=\"#m53b4108394\" y=\"214.40588\"/>\n     <use style=\"fill:#464646;stroke:#464646;stroke-linejoin:miter;\" x=\"468.0625\" xlink:href=\"#m53b4108394\" y=\"214.40588\"/>\n     <use style=\"fill:#464646;stroke:#464646;stroke-linejoin:miter;\" x=\"468.0625\" xlink:href=\"#m53b4108394\" y=\"214.40588\"/>\n     <use style=\"fill:#464646;stroke:#464646;stroke-linejoin:miter;\" x=\"468.0625\" xlink:href=\"#m53b4108394\" y=\"214.40588\"/>\n     <use style=\"fill:#464646;stroke:#464646;stroke-linejoin:miter;\" x=\"468.0625\" xlink:href=\"#m53b4108394\" y=\"214.40588\"/>\n     <use style=\"fill:#464646;stroke:#464646;stroke-linejoin:miter;\" x=\"468.0625\" xlink:href=\"#m53b4108394\" y=\"214.40588\"/>\n     <use style=\"fill:#464646;stroke:#464646;stroke-linejoin:miter;\" x=\"468.0625\" xlink:href=\"#m53b4108394\" y=\"214.40588\"/>\n     <use style=\"fill:#464646;stroke:#464646;stroke-linejoin:miter;\" x=\"468.0625\" xlink:href=\"#m53b4108394\" y=\"214.40588\"/>\n     <use style=\"fill:#464646;stroke:#464646;stroke-linejoin:miter;\" x=\"468.0625\" xlink:href=\"#m53b4108394\" y=\"214.40588\"/>\n     <use style=\"fill:#464646;stroke:#464646;stroke-linejoin:miter;\" x=\"468.0625\" xlink:href=\"#m53b4108394\" y=\"214.40588\"/>\n     <use style=\"fill:#464646;stroke:#464646;stroke-linejoin:miter;\" x=\"468.0625\" xlink:href=\"#m53b4108394\" y=\"214.40588\"/>\n     <use style=\"fill:#464646;stroke:#464646;stroke-linejoin:miter;\" x=\"468.0625\" xlink:href=\"#m53b4108394\" y=\"214.40588\"/>\n     <use style=\"fill:#464646;stroke:#464646;stroke-linejoin:miter;\" x=\"468.0625\" xlink:href=\"#m53b4108394\" y=\"214.40588\"/>\n     <use style=\"fill:#464646;stroke:#464646;stroke-linejoin:miter;\" x=\"468.0625\" xlink:href=\"#m53b4108394\" y=\"214.40588\"/>\n     <use style=\"fill:#464646;stroke:#464646;stroke-linejoin:miter;\" x=\"468.0625\" xlink:href=\"#m53b4108394\" y=\"214.40588\"/>\n     <use style=\"fill:#464646;stroke:#464646;stroke-linejoin:miter;\" x=\"468.0625\" xlink:href=\"#m53b4108394\" y=\"214.40588\"/>\n     <use style=\"fill:#464646;stroke:#464646;stroke-linejoin:miter;\" x=\"468.0625\" xlink:href=\"#m53b4108394\" y=\"214.40588\"/>\n     <use style=\"fill:#464646;stroke:#464646;stroke-linejoin:miter;\" x=\"468.0625\" xlink:href=\"#m53b4108394\" y=\"214.40588\"/>\n     <use style=\"fill:#464646;stroke:#464646;stroke-linejoin:miter;\" x=\"468.0625\" xlink:href=\"#m53b4108394\" y=\"214.40588\"/>\n     <use style=\"fill:#464646;stroke:#464646;stroke-linejoin:miter;\" x=\"468.0625\" xlink:href=\"#m53b4108394\" y=\"214.40588\"/>\n     <use style=\"fill:#464646;stroke:#464646;stroke-linejoin:miter;\" x=\"468.0625\" xlink:href=\"#m53b4108394\" y=\"214.40588\"/>\n     <use style=\"fill:#464646;stroke:#464646;stroke-linejoin:miter;\" x=\"468.0625\" xlink:href=\"#m53b4108394\" y=\"214.40588\"/>\n     <use style=\"fill:#464646;stroke:#464646;stroke-linejoin:miter;\" x=\"468.0625\" xlink:href=\"#m53b4108394\" y=\"214.40588\"/>\n     <use style=\"fill:#464646;stroke:#464646;stroke-linejoin:miter;\" x=\"468.0625\" xlink:href=\"#m53b4108394\" y=\"214.40588\"/>\n     <use style=\"fill:#464646;stroke:#464646;stroke-linejoin:miter;\" x=\"468.0625\" xlink:href=\"#m53b4108394\" y=\"214.40588\"/>\n     <use style=\"fill:#464646;stroke:#464646;stroke-linejoin:miter;\" x=\"468.0625\" xlink:href=\"#m53b4108394\" y=\"214.40588\"/>\n     <use style=\"fill:#464646;stroke:#464646;stroke-linejoin:miter;\" x=\"468.0625\" xlink:href=\"#m53b4108394\" y=\"214.40588\"/>\n     <use style=\"fill:#464646;stroke:#464646;stroke-linejoin:miter;\" x=\"468.0625\" xlink:href=\"#m53b4108394\" y=\"214.40588\"/>\n     <use style=\"fill:#464646;stroke:#464646;stroke-linejoin:miter;\" x=\"468.0625\" xlink:href=\"#m53b4108394\" y=\"214.40588\"/>\n    </g>\n   </g>\n   <g id=\"line2d_49\">\n    <path clip-path=\"url(#pa51717825e)\" d=\"M 547.1125 214.756364 \nL 547.1125 214.756364 \n\" style=\"fill:none;stroke:#464646;stroke-linecap:square;stroke-width:1.5;\"/>\n   </g>\n   <g id=\"line2d_50\">\n    <path clip-path=\"url(#pa51717825e)\" d=\"M 547.1125 214.055397 \nL 547.1125 214.055397 \n\" style=\"fill:none;stroke:#464646;stroke-linecap:square;stroke-width:1.5;\"/>\n   </g>\n   <g id=\"line2d_51\">\n    <path clip-path=\"url(#pa51717825e)\" d=\"M 531.3025 214.756364 \nL 562.9225 214.756364 \n\" style=\"fill:none;stroke:#464646;stroke-linecap:square;stroke-width:1.5;\"/>\n   </g>\n   <g id=\"line2d_52\">\n    <path clip-path=\"url(#pa51717825e)\" d=\"M 531.3025 214.055397 \nL 562.9225 214.055397 \n\" style=\"fill:none;stroke:#464646;stroke-linecap:square;stroke-width:1.5;\"/>\n   </g>\n   <g id=\"line2d_53\"/>\n   <g id=\"line2d_54\">\n    <path clip-path=\"url(#pa51717825e)\" d=\"M 626.1625 168.14205 \nL 626.1625 183.91381 \n\" style=\"fill:none;stroke:#464646;stroke-linecap:square;stroke-width:1.5;\"/>\n   </g>\n   <g id=\"line2d_55\">\n    <path clip-path=\"url(#pa51717825e)\" d=\"M 626.1625 156.576093 \nL 626.1625 143.958685 \n\" style=\"fill:none;stroke:#464646;stroke-linecap:square;stroke-width:1.5;\"/>\n   </g>\n   <g id=\"line2d_56\">\n    <path clip-path=\"url(#pa51717825e)\" d=\"M 610.3525 183.91381 \nL 641.9725 183.91381 \n\" style=\"fill:none;stroke:#464646;stroke-linecap:square;stroke-width:1.5;\"/>\n   </g>\n   <g id=\"line2d_57\">\n    <path clip-path=\"url(#pa51717825e)\" d=\"M 610.3525 143.958685 \nL 641.9725 143.958685 \n\" style=\"fill:none;stroke:#464646;stroke-linecap:square;stroke-width:1.5;\"/>\n   </g>\n   <g id=\"line2d_58\">\n    <g clip-path=\"url(#pa51717825e)\">\n     <use style=\"fill:#464646;stroke:#464646;stroke-linejoin:miter;\" x=\"626.1625\" xlink:href=\"#m53b4108394\" y=\"189.872031\"/>\n    </g>\n   </g>\n   <g id=\"line2d_59\">\n    <path clip-path=\"url(#pa51717825e)\" d=\"M 705.2125 214.756364 \nL 705.2125 214.756364 \n\" style=\"fill:none;stroke:#464646;stroke-linecap:square;stroke-width:1.5;\"/>\n   </g>\n   <g id=\"line2d_60\">\n    <path clip-path=\"url(#pa51717825e)\" d=\"M 705.2125 214.40588 \nL 705.2125 214.40588 \n\" style=\"fill:none;stroke:#464646;stroke-linecap:square;stroke-width:1.5;\"/>\n   </g>\n   <g id=\"line2d_61\">\n    <path clip-path=\"url(#pa51717825e)\" d=\"M 689.4025 214.756364 \nL 721.0225 214.756364 \n\" style=\"fill:none;stroke:#464646;stroke-linecap:square;stroke-width:1.5;\"/>\n   </g>\n   <g id=\"line2d_62\">\n    <path clip-path=\"url(#pa51717825e)\" d=\"M 689.4025 214.40588 \nL 721.0225 214.40588 \n\" style=\"fill:none;stroke:#464646;stroke-linecap:square;stroke-width:1.5;\"/>\n   </g>\n   <g id=\"line2d_63\"/>\n   <g id=\"line2d_64\">\n    <path clip-path=\"url(#pa51717825e)\" d=\"M 784.2625 214.756364 \nL 784.2625 214.756364 \n\" style=\"fill:none;stroke:#464646;stroke-linecap:square;stroke-width:1.5;\"/>\n   </g>\n   <g id=\"line2d_65\">\n    <path clip-path=\"url(#pa51717825e)\" d=\"M 784.2625 214.19559 \nL 784.2625 213.354429 \n\" style=\"fill:none;stroke:#464646;stroke-linecap:square;stroke-width:1.5;\"/>\n   </g>\n   <g id=\"line2d_66\">\n    <path clip-path=\"url(#pa51717825e)\" d=\"M 768.4525 214.756364 \nL 800.0725 214.756364 \n\" style=\"fill:none;stroke:#464646;stroke-linecap:square;stroke-width:1.5;\"/>\n   </g>\n   <g id=\"line2d_67\">\n    <path clip-path=\"url(#pa51717825e)\" d=\"M 768.4525 213.354429 \nL 800.0725 213.354429 \n\" style=\"fill:none;stroke:#464646;stroke-linecap:square;stroke-width:1.5;\"/>\n   </g>\n   <g id=\"line2d_68\">\n    <g clip-path=\"url(#pa51717825e)\">\n     <use style=\"fill:#464646;stroke:#464646;stroke-linejoin:miter;\" x=\"784.2625\" xlink:href=\"#m53b4108394\" y=\"212.583366\"/>\n     <use style=\"fill:#464646;stroke:#464646;stroke-linejoin:miter;\" x=\"784.2625\" xlink:href=\"#m53b4108394\" y=\"212.793656\"/>\n     <use style=\"fill:#464646;stroke:#464646;stroke-linejoin:miter;\" x=\"784.2625\" xlink:href=\"#m53b4108394\" y=\"213.284333\"/>\n     <use style=\"fill:#464646;stroke:#464646;stroke-linejoin:miter;\" x=\"784.2625\" xlink:href=\"#m53b4108394\" y=\"213.284333\"/>\n     <use style=\"fill:#464646;stroke:#464646;stroke-linejoin:miter;\" x=\"784.2625\" xlink:href=\"#m53b4108394\" y=\"213.214236\"/>\n    </g>\n   </g>\n   <g id=\"line2d_69\">\n    <path clip-path=\"url(#pa51717825e)\" d=\"M 863.3125 214.40588 \nL 863.3125 214.40588 \n\" style=\"fill:none;stroke:#464646;stroke-linecap:square;stroke-width:1.5;\"/>\n   </g>\n   <g id=\"line2d_70\">\n    <path clip-path=\"url(#pa51717825e)\" d=\"M 863.3125 214.055397 \nL 863.3125 213.704913 \n\" style=\"fill:none;stroke:#464646;stroke-linecap:square;stroke-width:1.5;\"/>\n   </g>\n   <g id=\"line2d_71\">\n    <path clip-path=\"url(#pa51717825e)\" d=\"M 847.5025 214.40588 \nL 879.1225 214.40588 \n\" style=\"fill:none;stroke:#464646;stroke-linecap:square;stroke-width:1.5;\"/>\n   </g>\n   <g id=\"line2d_72\">\n    <path clip-path=\"url(#pa51717825e)\" d=\"M 847.5025 213.704913 \nL 879.1225 213.704913 \n\" style=\"fill:none;stroke:#464646;stroke-linecap:square;stroke-width:1.5;\"/>\n   </g>\n   <g id=\"line2d_73\"/>\n   <g id=\"line2d_74\">\n    <path clip-path=\"url(#pa51717825e)\" d=\"M 942.3625 214.756364 \nL 942.3625 214.756364 \n\" style=\"fill:none;stroke:#464646;stroke-linecap:square;stroke-width:1.5;\"/>\n   </g>\n   <g id=\"line2d_75\">\n    <path clip-path=\"url(#pa51717825e)\" d=\"M 942.3625 214.055397 \nL 942.3625 213.354429 \n\" style=\"fill:none;stroke:#464646;stroke-linecap:square;stroke-width:1.5;\"/>\n   </g>\n   <g id=\"line2d_76\">\n    <path clip-path=\"url(#pa51717825e)\" d=\"M 926.5525 214.756364 \nL 958.1725 214.756364 \n\" style=\"fill:none;stroke:#464646;stroke-linecap:square;stroke-width:1.5;\"/>\n   </g>\n   <g id=\"line2d_77\">\n    <path clip-path=\"url(#pa51717825e)\" d=\"M 926.5525 213.354429 \nL 958.1725 213.354429 \n\" style=\"fill:none;stroke:#464646;stroke-linecap:square;stroke-width:1.5;\"/>\n   </g>\n   <g id=\"line2d_78\"/>\n   <g id=\"line2d_79\">\n    <path clip-path=\"url(#pa51717825e)\" d=\"M 41.1925 195.129284 \nL 104.4325 195.129284 \n\" style=\"fill:none;stroke:#464646;stroke-linecap:square;stroke-width:1.5;\"/>\n   </g>\n   <g id=\"line2d_80\">\n    <path clip-path=\"url(#pa51717825e)\" d=\"M 120.2425 214.40588 \nL 183.4825 214.40588 \n\" style=\"fill:none;stroke:#464646;stroke-linecap:square;stroke-width:1.5;\"/>\n   </g>\n   <g id=\"line2d_81\">\n    <path clip-path=\"url(#pa51717825e)\" d=\"M 199.2925 213.704913 \nL 262.5325 213.704913 \n\" style=\"fill:none;stroke:#464646;stroke-linecap:square;stroke-width:1.5;\"/>\n   </g>\n   <g id=\"line2d_82\">\n    <path clip-path=\"url(#pa51717825e)\" d=\"M 278.3425 169.193501 \nL 341.5825 169.193501 \n\" style=\"fill:none;stroke:#464646;stroke-linecap:square;stroke-width:1.5;\"/>\n   </g>\n   <g id=\"line2d_83\">\n    <path clip-path=\"url(#pa51717825e)\" d=\"M 357.3925 129.588859 \nL 420.6325 129.588859 \n\" style=\"fill:none;stroke:#464646;stroke-linecap:square;stroke-width:1.5;\"/>\n   </g>\n   <g id=\"line2d_84\">\n    <path clip-path=\"url(#pa51717825e)\" d=\"M 436.4425 214.756364 \nL 499.6825 214.756364 \n\" style=\"fill:none;stroke:#464646;stroke-linecap:square;stroke-width:1.5;\"/>\n   </g>\n   <g id=\"line2d_85\">\n    <path clip-path=\"url(#pa51717825e)\" d=\"M 515.4925 214.40588 \nL 578.7325 214.40588 \n\" style=\"fill:none;stroke:#464646;stroke-linecap:square;stroke-width:1.5;\"/>\n   </g>\n   <g id=\"line2d_86\">\n    <path clip-path=\"url(#pa51717825e)\" d=\"M 594.5425 161.132379 \nL 657.7825 161.132379 \n\" style=\"fill:none;stroke:#464646;stroke-linecap:square;stroke-width:1.5;\"/>\n   </g>\n   <g id=\"line2d_87\">\n    <path clip-path=\"url(#pa51717825e)\" d=\"M 673.5925 214.756364 \nL 736.8325 214.756364 \n\" style=\"fill:none;stroke:#464646;stroke-linecap:square;stroke-width:1.5;\"/>\n   </g>\n   <g id=\"line2d_88\">\n    <path clip-path=\"url(#pa51717825e)\" d=\"M 752.6425 214.475977 \nL 815.8825 214.475977 \n\" style=\"fill:none;stroke:#464646;stroke-linecap:square;stroke-width:1.5;\"/>\n   </g>\n   <g id=\"line2d_89\">\n    <path clip-path=\"url(#pa51717825e)\" d=\"M 831.6925 214.055397 \nL 894.9325 214.055397 \n\" style=\"fill:none;stroke:#464646;stroke-linecap:square;stroke-width:1.5;\"/>\n   </g>\n   <g id=\"line2d_90\">\n    <path clip-path=\"url(#pa51717825e)\" d=\"M 910.7425 214.756364 \nL 973.9825 214.756364 \n\" style=\"fill:none;stroke:#464646;stroke-linecap:square;stroke-width:1.5;\"/>\n   </g>\n   <g id=\"patch_15\">\n    <path d=\"M 33.2875 224.64 \nL 33.2875 7.2 \n\" style=\"fill:none;stroke:#000000;stroke-linecap:square;stroke-linejoin:miter;stroke-width:0.8;\"/>\n   </g>\n   <g id=\"patch_16\">\n    <path d=\"M 981.8875 224.64 \nL 981.8875 7.2 \n\" style=\"fill:none;stroke:#000000;stroke-linecap:square;stroke-linejoin:miter;stroke-width:0.8;\"/>\n   </g>\n   <g id=\"patch_17\">\n    <path d=\"M 33.2875 224.64 \nL 981.8875 224.64 \n\" style=\"fill:none;stroke:#000000;stroke-linecap:square;stroke-linejoin:miter;stroke-width:0.8;\"/>\n   </g>\n   <g id=\"patch_18\">\n    <path d=\"M 33.2875 7.2 \nL 981.8875 7.2 \n\" style=\"fill:none;stroke:#000000;stroke-linecap:square;stroke-linejoin:miter;stroke-width:0.8;\"/>\n   </g>\n  </g>\n </g>\n <defs>\n  <clipPath id=\"pa51717825e\">\n   <rect height=\"217.44\" width=\"948.6\" x=\"33.2875\" y=\"7.2\"/>\n  </clipPath>\n </defs>\n</svg>\n"
          },
          "metadata": {
            "needs_background": "light"
          }
        }
      ]
    },
    {
      "cell_type": "code",
      "metadata": {
        "id": "axeKaHIKTylU"
      },
      "source": [
        "# z-score the non-categorical columns\n",
        "cols2zscore = data.keys()\n",
        "cols2zscore = cols2zscore.drop(['sex','fbs','exang','DISEASE'])\n",
        "cols2zscore\n",
        "\n",
        "for c in cols2zscore:\n",
        "  d = pd.to_numeric(data[c]) # force to numeric (addresses some data-format issues)\n",
        "  data[c] = (d - d.mean())/d.std(ddof=1)"
      ],
      "execution_count": 39,
      "outputs": []
    },
    {
      "cell_type": "code",
      "metadata": {
        "id": "21FezJ0XT7pp",
        "colab": {
          "base_uri": "https://localhost:8080/",
          "height": 389
        },
        "outputId": "8d661e6e-ed02-4db5-8325-57e5a4097c42"
      },
      "source": [
        "# check the distributions again\n",
        "fig,ax = plt.subplots(1,figsize=(17,4))\n",
        "ax = sns.boxplot(data=data)\n",
        "ax.set_xticklabels(ax.get_xticklabels(),rotation=45)\n",
        "plt.show()"
      ],
      "execution_count": 40,
      "outputs": [
        {
          "output_type": "display_data",
          "data": {
            "text/plain": [
              "<Figure size 1224x288 with 1 Axes>"
            ],
            "image/svg+xml": "<?xml version=\"1.0\" encoding=\"utf-8\" standalone=\"no\"?>\n<!DOCTYPE svg PUBLIC \"-//W3C//DTD SVG 1.1//EN\"\n  \"http://www.w3.org/Graphics/SVG/1.1/DTD/svg11.dtd\">\n<!-- Created with matplotlib (https://matplotlib.org/) -->\n<svg height=\"275.965316pt\" version=\"1.1\" viewBox=\"0 0 984.742188 275.965316\" width=\"984.742188pt\" xmlns=\"http://www.w3.org/2000/svg\" xmlns:xlink=\"http://www.w3.org/1999/xlink\">\n <defs>\n  <style type=\"text/css\">\n*{stroke-linecap:butt;stroke-linejoin:round;}\n  </style>\n </defs>\n <g id=\"figure_1\">\n  <g id=\"patch_1\">\n   <path d=\"M 0 275.965316 \nL 984.742188 275.965316 \nL 984.742188 0 \nL 0 0 \nz\n\" style=\"fill:none;\"/>\n  </g>\n  <g id=\"axes_1\">\n   <g id=\"patch_2\">\n    <path d=\"M 28.942188 224.64 \nL 977.542188 224.64 \nL 977.542188 7.2 \nL 28.942188 7.2 \nz\n\" style=\"fill:#ffffff;\"/>\n   </g>\n   <g id=\"patch_3\">\n    <path clip-path=\"url(#p7644926711)\" d=\"M 35.717902 158.603089 \nL 89.923616 158.603089 \nL 89.923616 128.762301 \nL 35.717902 128.762301 \nL 35.717902 158.603089 \nz\n\" style=\"fill:#ea96a3;stroke:#474747;stroke-linejoin:miter;stroke-width:1.5;\"/>\n   </g>\n   <g id=\"patch_4\">\n    <path clip-path=\"url(#p7644926711)\" d=\"M 103.475045 143.586085 \nL 157.680759 143.586085 \nL 157.680759 122.812913 \nL 103.475045 122.812913 \nL 103.475045 143.586085 \nz\n\" style=\"fill:#e4946a;stroke:#474747;stroke-linejoin:miter;stroke-width:1.5;\"/>\n   </g>\n   <g id=\"patch_5\">\n    <path clip-path=\"url(#p7644926711)\" d=\"M 171.232188 146.993149 \nL 225.437902 146.993149 \nL 225.437902 125.463408 \nL 171.232188 125.463408 \nL 171.232188 146.993149 \nz\n\" style=\"fill:#c29a4b;stroke:#474747;stroke-linejoin:miter;stroke-width:1.5;\"/>\n   </g>\n   <g id=\"patch_6\">\n    <path clip-path=\"url(#p7644926711)\" d=\"M 238.98933 157.261471 \nL 293.195045 157.261471 \nL 293.195045 133.871955 \nL 238.98933 133.871955 \nL 238.98933 157.261471 \nz\n\" style=\"fill:#a69f46;stroke:#474747;stroke-linejoin:miter;stroke-width:1.5;\"/>\n   </g>\n   <g id=\"patch_7\">\n    <path clip-path=\"url(#p7644926711)\" d=\"M 306.746473 158.108074 \nL 360.952188 158.108074 \nL 360.952188 132.140401 \nL 306.746473 132.140401 \nL 306.746473 158.108074 \nz\n\" style=\"fill:#88a746;stroke:#474747;stroke-linejoin:miter;stroke-width:1.5;\"/>\n   </g>\n   <g id=\"patch_8\">\n    <path clip-path=\"url(#p7644926711)\" d=\"M 374.503616 143.586085 \nL 428.70933 143.586085 \nL 428.70933 143.586085 \nL 374.503616 143.586085 \nL 374.503616 143.586085 \nz\n\" style=\"fill:#48b05e;stroke:#474747;stroke-linejoin:miter;stroke-width:1.5;\"/>\n   </g>\n   <g id=\"patch_9\">\n    <path clip-path=\"url(#p7644926711)\" d=\"M 442.260759 164.395153 \nL 496.466473 164.395153 \nL 496.466473 122.636416 \nL 442.260759 122.636416 \nL 442.260759 164.395153 \nz\n\" style=\"fill:#4aad8f;stroke:#474747;stroke-linejoin:miter;stroke-width:1.5;\"/>\n   </g>\n   <g id=\"patch_10\">\n    <path clip-path=\"url(#p7644926711)\" d=\"M 510.017902 158.616477 \nL 564.223616 158.616477 \nL 564.223616 128.73557 \nL 510.017902 128.73557 \nL 510.017902 158.616477 \nz\n\" style=\"fill:#4baba4;stroke:#474747;stroke-linejoin:miter;stroke-width:1.5;\"/>\n   </g>\n   <g id=\"patch_11\">\n    <path clip-path=\"url(#p7644926711)\" d=\"M 577.775045 143.586085 \nL 631.980759 143.586085 \nL 631.980759 122.812913 \nL 577.775045 122.812913 \nL 577.775045 143.586085 \nz\n\" style=\"fill:#4eabb8;stroke:#474747;stroke-linejoin:miter;stroke-width:1.5;\"/>\n   </g>\n   <g id=\"patch_12\">\n    <path clip-path=\"url(#p7644926711)\" d=\"M 645.532188 162.389626 \nL 699.737902 162.389626 \nL 699.737902 133.887417 \nL 645.532188 133.887417 \nL 645.532188 162.389626 \nz\n\" style=\"fill:#55acd7;stroke:#474747;stroke-linejoin:miter;stroke-width:1.5;\"/>\n   </g>\n   <g id=\"patch_13\">\n    <path clip-path=\"url(#p7644926711)\" d=\"M 713.28933 163.838635 \nL 767.495045 163.838635 \nL 767.495045 130.235243 \nL 713.28933 130.235243 \nL 713.28933 163.838635 \nz\n\" style=\"fill:#a0adea;stroke:#474747;stroke-linejoin:miter;stroke-width:1.5;\"/>\n   </g>\n   <g id=\"patch_14\">\n    <path clip-path=\"url(#p7644926711)\" d=\"M 781.046473 158.558548 \nL 835.252188 158.558548 \nL 835.252188 136.435058 \nL 781.046473 136.435058 \nL 781.046473 158.558548 \nz\n\" style=\"fill:#c79fe9;stroke:#474747;stroke-linejoin:miter;stroke-width:1.5;\"/>\n   </g>\n   <g id=\"patch_15\">\n    <path clip-path=\"url(#p7644926711)\" d=\"M 848.803616 162.130574 \nL 903.00933 162.130574 \nL 903.00933 119.268993 \nL 848.803616 119.268993 \nL 848.803616 162.130574 \nz\n\" style=\"fill:#e78ae0;stroke:#474747;stroke-linejoin:miter;stroke-width:1.5;\"/>\n   </g>\n   <g id=\"patch_16\">\n    <path clip-path=\"url(#p7644926711)\" d=\"M 916.560759 143.586085 \nL 970.766473 143.586085 \nL 970.766473 102.039741 \nL 916.560759 102.039741 \nL 916.560759 143.586085 \nz\n\" style=\"fill:#e891c1;stroke:#474747;stroke-linejoin:miter;stroke-width:1.5;\"/>\n   </g>\n   <g id=\"matplotlib.axis_1\">\n    <g id=\"xtick_1\">\n     <g id=\"line2d_1\">\n      <defs>\n       <path d=\"M 0 0 \nL 0 3.5 \n\" id=\"m530fa7b475\" style=\"stroke:#000000;stroke-width:0.8;\"/>\n      </defs>\n      <g>\n       <use style=\"stroke:#000000;stroke-width:0.8;\" x=\"62.820759\" xlink:href=\"#m530fa7b475\" y=\"224.64\"/>\n      </g>\n     </g>\n     <g id=\"text_1\">\n      <!-- age -->\n      <defs>\n       <path d=\"M 34.28125 27.484375 \nQ 23.390625 27.484375 19.1875 25 \nQ 14.984375 22.515625 14.984375 16.5 \nQ 14.984375 11.71875 18.140625 8.90625 \nQ 21.296875 6.109375 26.703125 6.109375 \nQ 34.1875 6.109375 38.703125 11.40625 \nQ 43.21875 16.703125 43.21875 25.484375 \nL 43.21875 27.484375 \nz\nM 52.203125 31.203125 \nL 52.203125 0 \nL 43.21875 0 \nL 43.21875 8.296875 \nQ 40.140625 3.328125 35.546875 0.953125 \nQ 30.953125 -1.421875 24.3125 -1.421875 \nQ 15.921875 -1.421875 10.953125 3.296875 \nQ 6 8.015625 6 15.921875 \nQ 6 25.140625 12.171875 29.828125 \nQ 18.359375 34.515625 30.609375 34.515625 \nL 43.21875 34.515625 \nL 43.21875 35.40625 \nQ 43.21875 41.609375 39.140625 45 \nQ 35.0625 48.390625 27.6875 48.390625 \nQ 23 48.390625 18.546875 47.265625 \nQ 14.109375 46.140625 10.015625 43.890625 \nL 10.015625 52.203125 \nQ 14.9375 54.109375 19.578125 55.046875 \nQ 24.21875 56 28.609375 56 \nQ 40.484375 56 46.34375 49.84375 \nQ 52.203125 43.703125 52.203125 31.203125 \nz\n\" id=\"DejaVuSans-97\"/>\n       <path d=\"M 45.40625 27.984375 \nQ 45.40625 37.75 41.375 43.109375 \nQ 37.359375 48.484375 30.078125 48.484375 \nQ 22.859375 48.484375 18.828125 43.109375 \nQ 14.796875 37.75 14.796875 27.984375 \nQ 14.796875 18.265625 18.828125 12.890625 \nQ 22.859375 7.515625 30.078125 7.515625 \nQ 37.359375 7.515625 41.375 12.890625 \nQ 45.40625 18.265625 45.40625 27.984375 \nz\nM 54.390625 6.78125 \nQ 54.390625 -7.171875 48.1875 -13.984375 \nQ 42 -20.796875 29.203125 -20.796875 \nQ 24.46875 -20.796875 20.265625 -20.09375 \nQ 16.0625 -19.390625 12.109375 -17.921875 \nL 12.109375 -9.1875 \nQ 16.0625 -11.328125 19.921875 -12.34375 \nQ 23.78125 -13.375 27.78125 -13.375 \nQ 36.625 -13.375 41.015625 -8.765625 \nQ 45.40625 -4.15625 45.40625 5.171875 \nL 45.40625 9.625 \nQ 42.625 4.78125 38.28125 2.390625 \nQ 33.9375 0 27.875 0 \nQ 17.828125 0 11.671875 7.65625 \nQ 5.515625 15.328125 5.515625 27.984375 \nQ 5.515625 40.671875 11.671875 48.328125 \nQ 17.828125 56 27.875 56 \nQ 33.9375 56 38.28125 53.609375 \nQ 42.625 51.21875 45.40625 46.390625 \nL 45.40625 54.6875 \nL 54.390625 54.6875 \nz\n\" id=\"DejaVuSans-103\"/>\n       <path d=\"M 56.203125 29.59375 \nL 56.203125 25.203125 \nL 14.890625 25.203125 \nQ 15.484375 15.921875 20.484375 11.0625 \nQ 25.484375 6.203125 34.421875 6.203125 \nQ 39.59375 6.203125 44.453125 7.46875 \nQ 49.3125 8.734375 54.109375 11.28125 \nL 54.109375 2.78125 \nQ 49.265625 0.734375 44.1875 -0.34375 \nQ 39.109375 -1.421875 33.890625 -1.421875 \nQ 20.796875 -1.421875 13.15625 6.1875 \nQ 5.515625 13.8125 5.515625 26.8125 \nQ 5.515625 40.234375 12.765625 48.109375 \nQ 20.015625 56 32.328125 56 \nQ 43.359375 56 49.78125 48.890625 \nQ 56.203125 41.796875 56.203125 29.59375 \nz\nM 47.21875 32.234375 \nQ 47.125 39.59375 43.09375 43.984375 \nQ 39.0625 48.390625 32.421875 48.390625 \nQ 24.90625 48.390625 20.390625 44.140625 \nQ 15.875 39.890625 15.1875 32.171875 \nz\n\" id=\"DejaVuSans-101\"/>\n      </defs>\n      <g transform=\"translate(58.185343 250.186085)rotate(-45)scale(0.1 -0.1)\">\n       <use xlink:href=\"#DejaVuSans-97\"/>\n       <use x=\"61.279297\" xlink:href=\"#DejaVuSans-103\"/>\n       <use x=\"124.755859\" xlink:href=\"#DejaVuSans-101\"/>\n      </g>\n     </g>\n    </g>\n    <g id=\"xtick_2\">\n     <g id=\"line2d_2\">\n      <g>\n       <use style=\"stroke:#000000;stroke-width:0.8;\" x=\"130.577902\" xlink:href=\"#m530fa7b475\" y=\"224.64\"/>\n      </g>\n     </g>\n     <g id=\"text_2\">\n      <!-- sex -->\n      <defs>\n       <path d=\"M 44.28125 53.078125 \nL 44.28125 44.578125 \nQ 40.484375 46.53125 36.375 47.5 \nQ 32.28125 48.484375 27.875 48.484375 \nQ 21.1875 48.484375 17.84375 46.4375 \nQ 14.5 44.390625 14.5 40.28125 \nQ 14.5 37.15625 16.890625 35.375 \nQ 19.28125 33.59375 26.515625 31.984375 \nL 29.59375 31.296875 \nQ 39.15625 29.25 43.1875 25.515625 \nQ 47.21875 21.78125 47.21875 15.09375 \nQ 47.21875 7.46875 41.1875 3.015625 \nQ 35.15625 -1.421875 24.609375 -1.421875 \nQ 20.21875 -1.421875 15.453125 -0.5625 \nQ 10.6875 0.296875 5.421875 2 \nL 5.421875 11.28125 \nQ 10.40625 8.6875 15.234375 7.390625 \nQ 20.0625 6.109375 24.8125 6.109375 \nQ 31.15625 6.109375 34.5625 8.28125 \nQ 37.984375 10.453125 37.984375 14.40625 \nQ 37.984375 18.0625 35.515625 20.015625 \nQ 33.0625 21.96875 24.703125 23.78125 \nL 21.578125 24.515625 \nQ 13.234375 26.265625 9.515625 29.90625 \nQ 5.8125 33.546875 5.8125 39.890625 \nQ 5.8125 47.609375 11.28125 51.796875 \nQ 16.75 56 26.8125 56 \nQ 31.78125 56 36.171875 55.265625 \nQ 40.578125 54.546875 44.28125 53.078125 \nz\n\" id=\"DejaVuSans-115\"/>\n       <path d=\"M 54.890625 54.6875 \nL 35.109375 28.078125 \nL 55.90625 0 \nL 45.3125 0 \nL 29.390625 21.484375 \nL 13.484375 0 \nL 2.875 0 \nL 24.125 28.609375 \nL 4.6875 54.6875 \nL 15.28125 54.6875 \nL 29.78125 35.203125 \nL 44.28125 54.6875 \nz\n\" id=\"DejaVuSans-120\"/>\n      </defs>\n      <g transform=\"translate(126.481102 249.108852)rotate(-45)scale(0.1 -0.1)\">\n       <use xlink:href=\"#DejaVuSans-115\"/>\n       <use x=\"52.099609\" xlink:href=\"#DejaVuSans-101\"/>\n       <use x=\"111.873047\" xlink:href=\"#DejaVuSans-120\"/>\n      </g>\n     </g>\n    </g>\n    <g id=\"xtick_3\">\n     <g id=\"line2d_3\">\n      <g>\n       <use style=\"stroke:#000000;stroke-width:0.8;\" x=\"198.335045\" xlink:href=\"#m530fa7b475\" y=\"224.64\"/>\n      </g>\n     </g>\n     <g id=\"text_3\">\n      <!-- cp -->\n      <defs>\n       <path d=\"M 48.78125 52.59375 \nL 48.78125 44.1875 \nQ 44.96875 46.296875 41.140625 47.34375 \nQ 37.3125 48.390625 33.40625 48.390625 \nQ 24.65625 48.390625 19.8125 42.84375 \nQ 14.984375 37.3125 14.984375 27.296875 \nQ 14.984375 17.28125 19.8125 11.734375 \nQ 24.65625 6.203125 33.40625 6.203125 \nQ 37.3125 6.203125 41.140625 7.25 \nQ 44.96875 8.296875 48.78125 10.40625 \nL 48.78125 2.09375 \nQ 45.015625 0.34375 40.984375 -0.53125 \nQ 36.96875 -1.421875 32.421875 -1.421875 \nQ 20.0625 -1.421875 12.78125 6.34375 \nQ 5.515625 14.109375 5.515625 27.296875 \nQ 5.515625 40.671875 12.859375 48.328125 \nQ 20.21875 56 33.015625 56 \nQ 37.15625 56 41.109375 55.140625 \nQ 45.0625 54.296875 48.78125 52.59375 \nz\n\" id=\"DejaVuSans-99\"/>\n       <path d=\"M 18.109375 8.203125 \nL 18.109375 -20.796875 \nL 9.078125 -20.796875 \nL 9.078125 54.6875 \nL 18.109375 54.6875 \nL 18.109375 46.390625 \nQ 20.953125 51.265625 25.265625 53.625 \nQ 29.59375 56 35.59375 56 \nQ 45.5625 56 51.78125 48.09375 \nQ 58.015625 40.1875 58.015625 27.296875 \nQ 58.015625 14.40625 51.78125 6.484375 \nQ 45.5625 -1.421875 35.59375 -1.421875 \nQ 29.59375 -1.421875 25.265625 0.953125 \nQ 20.953125 3.328125 18.109375 8.203125 \nz\nM 48.6875 27.296875 \nQ 48.6875 37.203125 44.609375 42.84375 \nQ 40.53125 48.484375 33.40625 48.484375 \nQ 26.265625 48.484375 22.1875 42.84375 \nQ 18.109375 37.203125 18.109375 27.296875 \nQ 18.109375 17.390625 22.1875 11.75 \nQ 26.265625 6.109375 33.40625 6.109375 \nQ 40.53125 6.109375 44.609375 11.75 \nQ 48.6875 17.390625 48.6875 27.296875 \nz\n\" id=\"DejaVuSans-112\"/>\n      </defs>\n      <g transform=\"translate(196.097715 245.389912)rotate(-45)scale(0.1 -0.1)\">\n       <use xlink:href=\"#DejaVuSans-99\"/>\n       <use x=\"54.980469\" xlink:href=\"#DejaVuSans-112\"/>\n      </g>\n     </g>\n    </g>\n    <g id=\"xtick_4\">\n     <g id=\"line2d_4\">\n      <g>\n       <use style=\"stroke:#000000;stroke-width:0.8;\" x=\"266.092188\" xlink:href=\"#m530fa7b475\" y=\"224.64\"/>\n      </g>\n     </g>\n     <g id=\"text_4\">\n      <!-- trestbps -->\n      <defs>\n       <path d=\"M 18.3125 70.21875 \nL 18.3125 54.6875 \nL 36.8125 54.6875 \nL 36.8125 47.703125 \nL 18.3125 47.703125 \nL 18.3125 18.015625 \nQ 18.3125 11.328125 20.140625 9.421875 \nQ 21.96875 7.515625 27.59375 7.515625 \nL 36.8125 7.515625 \nL 36.8125 0 \nL 27.59375 0 \nQ 17.1875 0 13.234375 3.875 \nQ 9.28125 7.765625 9.28125 18.015625 \nL 9.28125 47.703125 \nL 2.6875 47.703125 \nL 2.6875 54.6875 \nL 9.28125 54.6875 \nL 9.28125 70.21875 \nz\n\" id=\"DejaVuSans-116\"/>\n       <path d=\"M 41.109375 46.296875 \nQ 39.59375 47.171875 37.8125 47.578125 \nQ 36.03125 48 33.890625 48 \nQ 26.265625 48 22.1875 43.046875 \nQ 18.109375 38.09375 18.109375 28.8125 \nL 18.109375 0 \nL 9.078125 0 \nL 9.078125 54.6875 \nL 18.109375 54.6875 \nL 18.109375 46.1875 \nQ 20.953125 51.171875 25.484375 53.578125 \nQ 30.03125 56 36.53125 56 \nQ 37.453125 56 38.578125 55.875 \nQ 39.703125 55.765625 41.0625 55.515625 \nz\n\" id=\"DejaVuSans-114\"/>\n       <path d=\"M 48.6875 27.296875 \nQ 48.6875 37.203125 44.609375 42.84375 \nQ 40.53125 48.484375 33.40625 48.484375 \nQ 26.265625 48.484375 22.1875 42.84375 \nQ 18.109375 37.203125 18.109375 27.296875 \nQ 18.109375 17.390625 22.1875 11.75 \nQ 26.265625 6.109375 33.40625 6.109375 \nQ 40.53125 6.109375 44.609375 11.75 \nQ 48.6875 17.390625 48.6875 27.296875 \nz\nM 18.109375 46.390625 \nQ 20.953125 51.265625 25.265625 53.625 \nQ 29.59375 56 35.59375 56 \nQ 45.5625 56 51.78125 48.09375 \nQ 58.015625 40.1875 58.015625 27.296875 \nQ 58.015625 14.40625 51.78125 6.484375 \nQ 45.5625 -1.421875 35.59375 -1.421875 \nQ 29.59375 -1.421875 25.265625 0.953125 \nQ 20.953125 3.328125 18.109375 8.203125 \nL 18.109375 0 \nL 9.078125 0 \nL 9.078125 75.984375 \nL 18.109375 75.984375 \nz\n\" id=\"DejaVuSans-98\"/>\n      </defs>\n      <g transform=\"translate(253.549329 266.00097)rotate(-45)scale(0.1 -0.1)\">\n       <use xlink:href=\"#DejaVuSans-116\"/>\n       <use x=\"39.208984\" xlink:href=\"#DejaVuSans-114\"/>\n       <use x=\"78.072266\" xlink:href=\"#DejaVuSans-101\"/>\n       <use x=\"139.595703\" xlink:href=\"#DejaVuSans-115\"/>\n       <use x=\"191.695312\" xlink:href=\"#DejaVuSans-116\"/>\n       <use x=\"230.904297\" xlink:href=\"#DejaVuSans-98\"/>\n       <use x=\"294.380859\" xlink:href=\"#DejaVuSans-112\"/>\n       <use x=\"357.857422\" xlink:href=\"#DejaVuSans-115\"/>\n      </g>\n     </g>\n    </g>\n    <g id=\"xtick_5\">\n     <g id=\"line2d_5\">\n      <g>\n       <use style=\"stroke:#000000;stroke-width:0.8;\" x=\"333.84933\" xlink:href=\"#m530fa7b475\" y=\"224.64\"/>\n      </g>\n     </g>\n     <g id=\"text_5\">\n      <!-- chol -->\n      <defs>\n       <path d=\"M 54.890625 33.015625 \nL 54.890625 0 \nL 45.90625 0 \nL 45.90625 32.71875 \nQ 45.90625 40.484375 42.875 44.328125 \nQ 39.84375 48.1875 33.796875 48.1875 \nQ 26.515625 48.1875 22.3125 43.546875 \nQ 18.109375 38.921875 18.109375 30.90625 \nL 18.109375 0 \nL 9.078125 0 \nL 9.078125 75.984375 \nL 18.109375 75.984375 \nL 18.109375 46.1875 \nQ 21.34375 51.125 25.703125 53.5625 \nQ 30.078125 56 35.796875 56 \nQ 45.21875 56 50.046875 50.171875 \nQ 54.890625 44.34375 54.890625 33.015625 \nz\n\" id=\"DejaVuSans-104\"/>\n       <path d=\"M 30.609375 48.390625 \nQ 23.390625 48.390625 19.1875 42.75 \nQ 14.984375 37.109375 14.984375 27.296875 \nQ 14.984375 17.484375 19.15625 11.84375 \nQ 23.34375 6.203125 30.609375 6.203125 \nQ 37.796875 6.203125 41.984375 11.859375 \nQ 46.1875 17.53125 46.1875 27.296875 \nQ 46.1875 37.015625 41.984375 42.703125 \nQ 37.796875 48.390625 30.609375 48.390625 \nz\nM 30.609375 56 \nQ 42.328125 56 49.015625 48.375 \nQ 55.71875 40.765625 55.71875 27.296875 \nQ 55.71875 13.875 49.015625 6.21875 \nQ 42.328125 -1.421875 30.609375 -1.421875 \nQ 18.84375 -1.421875 12.171875 6.21875 \nQ 5.515625 13.875 5.515625 27.296875 \nQ 5.515625 40.765625 12.171875 48.375 \nQ 18.84375 56 30.609375 56 \nz\n\" id=\"DejaVuSans-111\"/>\n       <path d=\"M 9.421875 75.984375 \nL 18.40625 75.984375 \nL 18.40625 0 \nL 9.421875 0 \nz\n\" id=\"DejaVuSans-108\"/>\n      </defs>\n      <g transform=\"translate(328.470347 251.673219)rotate(-45)scale(0.1 -0.1)\">\n       <use xlink:href=\"#DejaVuSans-99\"/>\n       <use x=\"54.980469\" xlink:href=\"#DejaVuSans-104\"/>\n       <use x=\"118.359375\" xlink:href=\"#DejaVuSans-111\"/>\n       <use x=\"179.541016\" xlink:href=\"#DejaVuSans-108\"/>\n      </g>\n     </g>\n    </g>\n    <g id=\"xtick_6\">\n     <g id=\"line2d_6\">\n      <g>\n       <use style=\"stroke:#000000;stroke-width:0.8;\" x=\"401.606473\" xlink:href=\"#m530fa7b475\" y=\"224.64\"/>\n      </g>\n     </g>\n     <g id=\"text_6\">\n      <!-- fbs -->\n      <defs>\n       <path d=\"M 37.109375 75.984375 \nL 37.109375 68.5 \nL 28.515625 68.5 \nQ 23.6875 68.5 21.796875 66.546875 \nQ 19.921875 64.59375 19.921875 59.515625 \nL 19.921875 54.6875 \nL 34.71875 54.6875 \nL 34.71875 47.703125 \nL 19.921875 47.703125 \nL 19.921875 0 \nL 10.890625 0 \nL 10.890625 47.703125 \nL 2.296875 47.703125 \nL 2.296875 54.6875 \nL 10.890625 54.6875 \nL 10.890625 58.5 \nQ 10.890625 67.625 15.140625 71.796875 \nQ 19.390625 75.984375 28.609375 75.984375 \nz\n\" id=\"DejaVuSans-102\"/>\n      </defs>\n      <g transform=\"translate(398.226724 247.674751)rotate(-45)scale(0.1 -0.1)\">\n       <use xlink:href=\"#DejaVuSans-102\"/>\n       <use x=\"35.205078\" xlink:href=\"#DejaVuSans-98\"/>\n       <use x=\"98.681641\" xlink:href=\"#DejaVuSans-115\"/>\n      </g>\n     </g>\n    </g>\n    <g id=\"xtick_7\">\n     <g id=\"line2d_7\">\n      <g>\n       <use style=\"stroke:#000000;stroke-width:0.8;\" x=\"469.363616\" xlink:href=\"#m530fa7b475\" y=\"224.64\"/>\n      </g>\n     </g>\n     <g id=\"text_7\">\n      <!-- restecg -->\n      <g transform=\"translate(458.173651 263.295182)rotate(-45)scale(0.1 -0.1)\">\n       <use xlink:href=\"#DejaVuSans-114\"/>\n       <use x=\"38.863281\" xlink:href=\"#DejaVuSans-101\"/>\n       <use x=\"100.386719\" xlink:href=\"#DejaVuSans-115\"/>\n       <use x=\"152.486328\" xlink:href=\"#DejaVuSans-116\"/>\n       <use x=\"191.695312\" xlink:href=\"#DejaVuSans-101\"/>\n       <use x=\"253.21875\" xlink:href=\"#DejaVuSans-99\"/>\n       <use x=\"308.199219\" xlink:href=\"#DejaVuSans-103\"/>\n      </g>\n     </g>\n    </g>\n    <g id=\"xtick_8\">\n     <g id=\"line2d_8\">\n      <g>\n       <use style=\"stroke:#000000;stroke-width:0.8;\" x=\"537.120759\" xlink:href=\"#m530fa7b475\" y=\"224.64\"/>\n      </g>\n     </g>\n     <g id=\"text_8\">\n      <!-- thalach -->\n      <g transform=\"translate(525.945157 263.266456)rotate(-45)scale(0.1 -0.1)\">\n       <use xlink:href=\"#DejaVuSans-116\"/>\n       <use x=\"39.208984\" xlink:href=\"#DejaVuSans-104\"/>\n       <use x=\"102.587891\" xlink:href=\"#DejaVuSans-97\"/>\n       <use x=\"163.867188\" xlink:href=\"#DejaVuSans-108\"/>\n       <use x=\"191.650391\" xlink:href=\"#DejaVuSans-97\"/>\n       <use x=\"252.929688\" xlink:href=\"#DejaVuSans-99\"/>\n       <use x=\"307.910156\" xlink:href=\"#DejaVuSans-104\"/>\n      </g>\n     </g>\n    </g>\n    <g id=\"xtick_9\">\n     <g id=\"line2d_9\">\n      <g>\n       <use style=\"stroke:#000000;stroke-width:0.8;\" x=\"604.877902\" xlink:href=\"#m530fa7b475\" y=\"224.64\"/>\n      </g>\n     </g>\n     <g id=\"text_9\">\n      <!-- exang -->\n      <defs>\n       <path d=\"M 54.890625 33.015625 \nL 54.890625 0 \nL 45.90625 0 \nL 45.90625 32.71875 \nQ 45.90625 40.484375 42.875 44.328125 \nQ 39.84375 48.1875 33.796875 48.1875 \nQ 26.515625 48.1875 22.3125 43.546875 \nQ 18.109375 38.921875 18.109375 30.90625 \nL 18.109375 0 \nL 9.078125 0 \nL 9.078125 54.6875 \nL 18.109375 54.6875 \nL 18.109375 46.1875 \nQ 21.34375 51.125 25.703125 53.5625 \nQ 30.078125 56 35.796875 56 \nQ 45.21875 56 50.046875 50.171875 \nQ 54.890625 44.34375 54.890625 33.015625 \nz\n\" id=\"DejaVuSans-110\"/>\n      </defs>\n      <g transform=\"translate(595.971118 258.728819)rotate(-45)scale(0.1 -0.1)\">\n       <use xlink:href=\"#DejaVuSans-101\"/>\n       <use x=\"59.773438\" xlink:href=\"#DejaVuSans-120\"/>\n       <use x=\"118.953125\" xlink:href=\"#DejaVuSans-97\"/>\n       <use x=\"180.232422\" xlink:href=\"#DejaVuSans-110\"/>\n       <use x=\"243.611328\" xlink:href=\"#DejaVuSans-103\"/>\n      </g>\n     </g>\n    </g>\n    <g id=\"xtick_10\">\n     <g id=\"line2d_10\">\n      <g>\n       <use style=\"stroke:#000000;stroke-width:0.8;\" x=\"672.635045\" xlink:href=\"#m530fa7b475\" y=\"224.64\"/>\n      </g>\n     </g>\n     <g id=\"text_10\">\n      <!-- oldpeak -->\n      <defs>\n       <path d=\"M 45.40625 46.390625 \nL 45.40625 75.984375 \nL 54.390625 75.984375 \nL 54.390625 0 \nL 45.40625 0 \nL 45.40625 8.203125 \nQ 42.578125 3.328125 38.25 0.953125 \nQ 33.9375 -1.421875 27.875 -1.421875 \nQ 17.96875 -1.421875 11.734375 6.484375 \nQ 5.515625 14.40625 5.515625 27.296875 \nQ 5.515625 40.1875 11.734375 48.09375 \nQ 17.96875 56 27.875 56 \nQ 33.9375 56 38.25 53.625 \nQ 42.578125 51.265625 45.40625 46.390625 \nz\nM 14.796875 27.296875 \nQ 14.796875 17.390625 18.875 11.75 \nQ 22.953125 6.109375 30.078125 6.109375 \nQ 37.203125 6.109375 41.296875 11.75 \nQ 45.40625 17.390625 45.40625 27.296875 \nQ 45.40625 37.203125 41.296875 42.84375 \nQ 37.203125 48.484375 30.078125 48.484375 \nQ 22.953125 48.484375 18.875 42.84375 \nQ 14.796875 37.203125 14.796875 27.296875 \nz\n\" id=\"DejaVuSans-100\"/>\n       <path d=\"M 9.078125 75.984375 \nL 18.109375 75.984375 \nL 18.109375 31.109375 \nL 44.921875 54.6875 \nL 56.390625 54.6875 \nL 27.390625 29.109375 \nL 57.625 0 \nL 45.90625 0 \nL 18.109375 26.703125 \nL 18.109375 0 \nL 9.078125 0 \nz\n\" id=\"DejaVuSans-107\"/>\n      </defs>\n      <g transform=\"translate(660.562301 265.060739)rotate(-45)scale(0.1 -0.1)\">\n       <use xlink:href=\"#DejaVuSans-111\"/>\n       <use x=\"61.181641\" xlink:href=\"#DejaVuSans-108\"/>\n       <use x=\"88.964844\" xlink:href=\"#DejaVuSans-100\"/>\n       <use x=\"152.441406\" xlink:href=\"#DejaVuSans-112\"/>\n       <use x=\"215.917969\" xlink:href=\"#DejaVuSans-101\"/>\n       <use x=\"277.441406\" xlink:href=\"#DejaVuSans-97\"/>\n       <use x=\"338.720703\" xlink:href=\"#DejaVuSans-107\"/>\n      </g>\n     </g>\n    </g>\n    <g id=\"xtick_11\">\n     <g id=\"line2d_11\">\n      <g>\n       <use style=\"stroke:#000000;stroke-width:0.8;\" x=\"740.392188\" xlink:href=\"#m530fa7b475\" y=\"224.64\"/>\n      </g>\n     </g>\n     <g id=\"text_11\">\n      <!-- slope -->\n      <g transform=\"translate(732.936078 255.827471)rotate(-45)scale(0.1 -0.1)\">\n       <use xlink:href=\"#DejaVuSans-115\"/>\n       <use x=\"52.099609\" xlink:href=\"#DejaVuSans-108\"/>\n       <use x=\"79.882812\" xlink:href=\"#DejaVuSans-111\"/>\n       <use x=\"141.064453\" xlink:href=\"#DejaVuSans-112\"/>\n       <use x=\"204.541016\" xlink:href=\"#DejaVuSans-101\"/>\n      </g>\n     </g>\n    </g>\n    <g id=\"xtick_12\">\n     <g id=\"line2d_12\">\n      <g>\n       <use style=\"stroke:#000000;stroke-width:0.8;\" x=\"808.14933\" xlink:href=\"#m530fa7b475\" y=\"224.64\"/>\n      </g>\n     </g>\n     <g id=\"text_12\">\n      <!-- ca -->\n      <g transform=\"translate(805.989893 245.234128)rotate(-45)scale(0.1 -0.1)\">\n       <use xlink:href=\"#DejaVuSans-99\"/>\n       <use x=\"54.980469\" xlink:href=\"#DejaVuSans-97\"/>\n      </g>\n     </g>\n    </g>\n    <g id=\"xtick_13\">\n     <g id=\"line2d_13\">\n      <g>\n       <use style=\"stroke:#000000;stroke-width:0.8;\" x=\"875.906473\" xlink:href=\"#m530fa7b475\" y=\"224.64\"/>\n      </g>\n     </g>\n     <g id=\"text_13\">\n      <!-- thal -->\n      <g transform=\"translate(871.082127 250.563945)rotate(-45)scale(0.1 -0.1)\">\n       <use xlink:href=\"#DejaVuSans-116\"/>\n       <use x=\"39.208984\" xlink:href=\"#DejaVuSans-104\"/>\n       <use x=\"102.587891\" xlink:href=\"#DejaVuSans-97\"/>\n       <use x=\"163.867188\" xlink:href=\"#DejaVuSans-108\"/>\n      </g>\n     </g>\n    </g>\n    <g id=\"xtick_14\">\n     <g id=\"line2d_14\">\n      <g>\n       <use style=\"stroke:#000000;stroke-width:0.8;\" x=\"943.663616\" xlink:href=\"#m530fa7b475\" y=\"224.64\"/>\n      </g>\n     </g>\n     <g id=\"text_14\">\n      <!-- DISEASE -->\n      <defs>\n       <path d=\"M 19.671875 64.796875 \nL 19.671875 8.109375 \nL 31.59375 8.109375 \nQ 46.6875 8.109375 53.6875 14.9375 \nQ 60.6875 21.78125 60.6875 36.53125 \nQ 60.6875 51.171875 53.6875 57.984375 \nQ 46.6875 64.796875 31.59375 64.796875 \nz\nM 9.8125 72.90625 \nL 30.078125 72.90625 \nQ 51.265625 72.90625 61.171875 64.09375 \nQ 71.09375 55.28125 71.09375 36.53125 \nQ 71.09375 17.671875 61.125 8.828125 \nQ 51.171875 0 30.078125 0 \nL 9.8125 0 \nz\n\" id=\"DejaVuSans-68\"/>\n       <path d=\"M 9.8125 72.90625 \nL 19.671875 72.90625 \nL 19.671875 0 \nL 9.8125 0 \nz\n\" id=\"DejaVuSans-73\"/>\n       <path d=\"M 53.515625 70.515625 \nL 53.515625 60.890625 \nQ 47.90625 63.578125 42.921875 64.890625 \nQ 37.9375 66.21875 33.296875 66.21875 \nQ 25.25 66.21875 20.875 63.09375 \nQ 16.5 59.96875 16.5 54.203125 \nQ 16.5 49.359375 19.40625 46.890625 \nQ 22.3125 44.4375 30.421875 42.921875 \nL 36.375 41.703125 \nQ 47.40625 39.59375 52.65625 34.296875 \nQ 57.90625 29 57.90625 20.125 \nQ 57.90625 9.515625 50.796875 4.046875 \nQ 43.703125 -1.421875 29.984375 -1.421875 \nQ 24.8125 -1.421875 18.96875 -0.25 \nQ 13.140625 0.921875 6.890625 3.21875 \nL 6.890625 13.375 \nQ 12.890625 10.015625 18.65625 8.296875 \nQ 24.421875 6.59375 29.984375 6.59375 \nQ 38.421875 6.59375 43.015625 9.90625 \nQ 47.609375 13.234375 47.609375 19.390625 \nQ 47.609375 24.75 44.3125 27.78125 \nQ 41.015625 30.8125 33.5 32.328125 \nL 27.484375 33.5 \nQ 16.453125 35.6875 11.515625 40.375 \nQ 6.59375 45.0625 6.59375 53.421875 \nQ 6.59375 63.09375 13.40625 68.65625 \nQ 20.21875 74.21875 32.171875 74.21875 \nQ 37.3125 74.21875 42.625 73.28125 \nQ 47.953125 72.359375 53.515625 70.515625 \nz\n\" id=\"DejaVuSans-83\"/>\n       <path d=\"M 9.8125 72.90625 \nL 55.90625 72.90625 \nL 55.90625 64.59375 \nL 19.671875 64.59375 \nL 19.671875 43.015625 \nL 54.390625 43.015625 \nL 54.390625 34.71875 \nL 19.671875 34.71875 \nL 19.671875 8.296875 \nL 56.78125 8.296875 \nL 56.78125 0 \nL 9.8125 0 \nz\n\" id=\"DejaVuSans-69\"/>\n       <path d=\"M 34.1875 63.1875 \nL 20.796875 26.90625 \nL 47.609375 26.90625 \nz\nM 28.609375 72.90625 \nL 39.796875 72.90625 \nL 67.578125 0 \nL 57.328125 0 \nL 50.6875 18.703125 \nL 17.828125 18.703125 \nL 11.1875 0 \nL 0.78125 0 \nz\n\" id=\"DejaVuSans-65\"/>\n      </defs>\n      <g transform=\"translate(930.473865 267.294755)rotate(-45)scale(0.1 -0.1)\">\n       <use xlink:href=\"#DejaVuSans-68\"/>\n       <use x=\"77.001953\" xlink:href=\"#DejaVuSans-73\"/>\n       <use x=\"106.494141\" xlink:href=\"#DejaVuSans-83\"/>\n       <use x=\"169.970703\" xlink:href=\"#DejaVuSans-69\"/>\n       <use x=\"233.154297\" xlink:href=\"#DejaVuSans-65\"/>\n       <use x=\"301.5625\" xlink:href=\"#DejaVuSans-83\"/>\n       <use x=\"365.039062\" xlink:href=\"#DejaVuSans-69\"/>\n      </g>\n     </g>\n    </g>\n   </g>\n   <g id=\"matplotlib.axis_2\">\n    <g id=\"ytick_1\">\n     <g id=\"line2d_15\">\n      <defs>\n       <path d=\"M 0 0 \nL -3.5 0 \n\" id=\"m6e38a8ac11\" style=\"stroke:#000000;stroke-width:0.8;\"/>\n      </defs>\n      <g>\n       <use style=\"stroke:#000000;stroke-width:0.8;\" x=\"28.942188\" xlink:href=\"#m6e38a8ac11\" y=\"185.13243\"/>\n      </g>\n     </g>\n     <g id=\"text_15\">\n      <!-- −2 -->\n      <defs>\n       <path d=\"M 10.59375 35.5 \nL 73.1875 35.5 \nL 73.1875 27.203125 \nL 10.59375 27.203125 \nz\n\" id=\"DejaVuSans-8722\"/>\n       <path d=\"M 19.1875 8.296875 \nL 53.609375 8.296875 \nL 53.609375 0 \nL 7.328125 0 \nL 7.328125 8.296875 \nQ 12.9375 14.109375 22.625 23.890625 \nQ 32.328125 33.6875 34.8125 36.53125 \nQ 39.546875 41.84375 41.421875 45.53125 \nQ 43.3125 49.21875 43.3125 52.78125 \nQ 43.3125 58.59375 39.234375 62.25 \nQ 35.15625 65.921875 28.609375 65.921875 \nQ 23.96875 65.921875 18.8125 64.3125 \nQ 13.671875 62.703125 7.8125 59.421875 \nL 7.8125 69.390625 \nQ 13.765625 71.78125 18.9375 73 \nQ 24.125 74.21875 28.421875 74.21875 \nQ 39.75 74.21875 46.484375 68.546875 \nQ 53.21875 62.890625 53.21875 53.421875 \nQ 53.21875 48.921875 51.53125 44.890625 \nQ 49.859375 40.875 45.40625 35.40625 \nQ 44.1875 33.984375 37.640625 27.21875 \nQ 31.109375 20.453125 19.1875 8.296875 \nz\n\" id=\"DejaVuSans-50\"/>\n      </defs>\n      <g transform=\"translate(7.2 188.931649)scale(0.1 -0.1)\">\n       <use xlink:href=\"#DejaVuSans-8722\"/>\n       <use x=\"83.789062\" xlink:href=\"#DejaVuSans-50\"/>\n      </g>\n     </g>\n    </g>\n    <g id=\"ytick_2\">\n     <g id=\"line2d_16\">\n      <g>\n       <use style=\"stroke:#000000;stroke-width:0.8;\" x=\"28.942188\" xlink:href=\"#m6e38a8ac11\" y=\"143.586085\"/>\n      </g>\n     </g>\n     <g id=\"text_16\">\n      <!-- 0 -->\n      <defs>\n       <path d=\"M 31.78125 66.40625 \nQ 24.171875 66.40625 20.328125 58.90625 \nQ 16.5 51.421875 16.5 36.375 \nQ 16.5 21.390625 20.328125 13.890625 \nQ 24.171875 6.390625 31.78125 6.390625 \nQ 39.453125 6.390625 43.28125 13.890625 \nQ 47.125 21.390625 47.125 36.375 \nQ 47.125 51.421875 43.28125 58.90625 \nQ 39.453125 66.40625 31.78125 66.40625 \nz\nM 31.78125 74.21875 \nQ 44.046875 74.21875 50.515625 64.515625 \nQ 56.984375 54.828125 56.984375 36.375 \nQ 56.984375 17.96875 50.515625 8.265625 \nQ 44.046875 -1.421875 31.78125 -1.421875 \nQ 19.53125 -1.421875 13.0625 8.265625 \nQ 6.59375 17.96875 6.59375 36.375 \nQ 6.59375 54.828125 13.0625 64.515625 \nQ 19.53125 74.21875 31.78125 74.21875 \nz\n\" id=\"DejaVuSans-48\"/>\n      </defs>\n      <g transform=\"translate(15.579688 147.385304)scale(0.1 -0.1)\">\n       <use xlink:href=\"#DejaVuSans-48\"/>\n      </g>\n     </g>\n    </g>\n    <g id=\"ytick_3\">\n     <g id=\"line2d_17\">\n      <g>\n       <use style=\"stroke:#000000;stroke-width:0.8;\" x=\"28.942188\" xlink:href=\"#m6e38a8ac11\" y=\"102.039741\"/>\n      </g>\n     </g>\n     <g id=\"text_17\">\n      <!-- 2 -->\n      <g transform=\"translate(15.579688 105.838959)scale(0.1 -0.1)\">\n       <use xlink:href=\"#DejaVuSans-50\"/>\n      </g>\n     </g>\n    </g>\n    <g id=\"ytick_4\">\n     <g id=\"line2d_18\">\n      <g>\n       <use style=\"stroke:#000000;stroke-width:0.8;\" x=\"28.942188\" xlink:href=\"#m6e38a8ac11\" y=\"60.493396\"/>\n      </g>\n     </g>\n     <g id=\"text_18\">\n      <!-- 4 -->\n      <defs>\n       <path d=\"M 37.796875 64.3125 \nL 12.890625 25.390625 \nL 37.796875 25.390625 \nz\nM 35.203125 72.90625 \nL 47.609375 72.90625 \nL 47.609375 25.390625 \nL 58.015625 25.390625 \nL 58.015625 17.1875 \nL 47.609375 17.1875 \nL 47.609375 0 \nL 37.796875 0 \nL 37.796875 17.1875 \nL 4.890625 17.1875 \nL 4.890625 26.703125 \nz\n\" id=\"DejaVuSans-52\"/>\n      </defs>\n      <g transform=\"translate(15.579688 64.292615)scale(0.1 -0.1)\">\n       <use xlink:href=\"#DejaVuSans-52\"/>\n      </g>\n     </g>\n    </g>\n    <g id=\"ytick_5\">\n     <g id=\"line2d_19\">\n      <g>\n       <use style=\"stroke:#000000;stroke-width:0.8;\" x=\"28.942188\" xlink:href=\"#m6e38a8ac11\" y=\"18.947051\"/>\n      </g>\n     </g>\n     <g id=\"text_19\">\n      <!-- 6 -->\n      <defs>\n       <path d=\"M 33.015625 40.375 \nQ 26.375 40.375 22.484375 35.828125 \nQ 18.609375 31.296875 18.609375 23.390625 \nQ 18.609375 15.53125 22.484375 10.953125 \nQ 26.375 6.390625 33.015625 6.390625 \nQ 39.65625 6.390625 43.53125 10.953125 \nQ 47.40625 15.53125 47.40625 23.390625 \nQ 47.40625 31.296875 43.53125 35.828125 \nQ 39.65625 40.375 33.015625 40.375 \nz\nM 52.59375 71.296875 \nL 52.59375 62.3125 \nQ 48.875 64.0625 45.09375 64.984375 \nQ 41.3125 65.921875 37.59375 65.921875 \nQ 27.828125 65.921875 22.671875 59.328125 \nQ 17.53125 52.734375 16.796875 39.40625 \nQ 19.671875 43.65625 24.015625 45.921875 \nQ 28.375 48.1875 33.59375 48.1875 \nQ 44.578125 48.1875 50.953125 41.515625 \nQ 57.328125 34.859375 57.328125 23.390625 \nQ 57.328125 12.15625 50.6875 5.359375 \nQ 44.046875 -1.421875 33.015625 -1.421875 \nQ 20.359375 -1.421875 13.671875 8.265625 \nQ 6.984375 17.96875 6.984375 36.375 \nQ 6.984375 53.65625 15.1875 63.9375 \nQ 23.390625 74.21875 37.203125 74.21875 \nQ 40.921875 74.21875 44.703125 73.484375 \nQ 48.484375 72.75 52.59375 71.296875 \nz\n\" id=\"DejaVuSans-54\"/>\n      </defs>\n      <g transform=\"translate(15.579688 22.74627)scale(0.1 -0.1)\">\n       <use xlink:href=\"#DejaVuSans-54\"/>\n      </g>\n     </g>\n    </g>\n   </g>\n   <g id=\"line2d_20\">\n    <path clip-path=\"url(#p7644926711)\" d=\"M 62.820759 158.603089 \nL 62.820759 202.216548 \n\" style=\"fill:none;stroke:#474747;stroke-linecap:square;stroke-width:1.5;\"/>\n   </g>\n   <g id=\"line2d_21\">\n    <path clip-path=\"url(#p7644926711)\" d=\"M 62.820759 128.762301 \nL 62.820759 92.035178 \n\" style=\"fill:none;stroke:#474747;stroke-linecap:square;stroke-width:1.5;\"/>\n   </g>\n   <g id=\"line2d_22\">\n    <path clip-path=\"url(#p7644926711)\" d=\"M 49.26933 202.216548 \nL 76.372188 202.216548 \n\" style=\"fill:none;stroke:#474747;stroke-linecap:square;stroke-width:1.5;\"/>\n   </g>\n   <g id=\"line2d_23\">\n    <path clip-path=\"url(#p7644926711)\" d=\"M 49.26933 92.035178 \nL 76.372188 92.035178 \n\" style=\"fill:none;stroke:#474747;stroke-linecap:square;stroke-width:1.5;\"/>\n   </g>\n   <g id=\"line2d_24\"/>\n   <g id=\"line2d_25\">\n    <path clip-path=\"url(#p7644926711)\" d=\"M 130.577902 143.586085 \nL 130.577902 143.586085 \n\" style=\"fill:none;stroke:#474747;stroke-linecap:square;stroke-width:1.5;\"/>\n   </g>\n   <g id=\"line2d_26\">\n    <path clip-path=\"url(#p7644926711)\" d=\"M 130.577902 122.812913 \nL 130.577902 122.812913 \n\" style=\"fill:none;stroke:#474747;stroke-linecap:square;stroke-width:1.5;\"/>\n   </g>\n   <g id=\"line2d_27\">\n    <path clip-path=\"url(#p7644926711)\" d=\"M 117.026473 143.586085 \nL 144.12933 143.586085 \n\" style=\"fill:none;stroke:#474747;stroke-linecap:square;stroke-width:1.5;\"/>\n   </g>\n   <g id=\"line2d_28\">\n    <path clip-path=\"url(#p7644926711)\" d=\"M 117.026473 122.812913 \nL 144.12933 122.812913 \n\" style=\"fill:none;stroke:#474747;stroke-linecap:square;stroke-width:1.5;\"/>\n   </g>\n   <g id=\"line2d_29\"/>\n   <g id=\"line2d_30\">\n    <path clip-path=\"url(#p7644926711)\" d=\"M 198.335045 146.993149 \nL 198.335045 168.522889 \n\" style=\"fill:none;stroke:#474747;stroke-linecap:square;stroke-width:1.5;\"/>\n   </g>\n   <g id=\"line2d_31\">\n    <path clip-path=\"url(#p7644926711)\" d=\"M 198.335045 125.463408 \nL 198.335045 125.463408 \n\" style=\"fill:none;stroke:#474747;stroke-linecap:square;stroke-width:1.5;\"/>\n   </g>\n   <g id=\"line2d_32\">\n    <path clip-path=\"url(#p7644926711)\" d=\"M 184.783616 168.522889 \nL 211.886473 168.522889 \n\" style=\"fill:none;stroke:#474747;stroke-linecap:square;stroke-width:1.5;\"/>\n   </g>\n   <g id=\"line2d_33\">\n    <path clip-path=\"url(#p7644926711)\" d=\"M 184.783616 125.463408 \nL 211.886473 125.463408 \n\" style=\"fill:none;stroke:#474747;stroke-linecap:square;stroke-width:1.5;\"/>\n   </g>\n   <g id=\"line2d_34\">\n    <defs>\n     <path d=\"M -0 3.535534 \nL 2.12132 0 \nL -0 -3.535534 \nL -2.12132 -0 \nz\n\" id=\"m443120900e\" style=\"stroke:#474747;stroke-linejoin:miter;\"/>\n    </defs>\n    <g clip-path=\"url(#p7644926711)\">\n     <use style=\"fill:#474747;stroke:#474747;stroke-linejoin:miter;\" x=\"198.335045\" xlink:href=\"#m443120900e\" y=\"190.052629\"/>\n     <use style=\"fill:#474747;stroke:#474747;stroke-linejoin:miter;\" x=\"198.335045\" xlink:href=\"#m443120900e\" y=\"190.052629\"/>\n     <use style=\"fill:#474747;stroke:#474747;stroke-linejoin:miter;\" x=\"198.335045\" xlink:href=\"#m443120900e\" y=\"190.052629\"/>\n     <use style=\"fill:#474747;stroke:#474747;stroke-linejoin:miter;\" x=\"198.335045\" xlink:href=\"#m443120900e\" y=\"190.052629\"/>\n     <use style=\"fill:#474747;stroke:#474747;stroke-linejoin:miter;\" x=\"198.335045\" xlink:href=\"#m443120900e\" y=\"190.052629\"/>\n     <use style=\"fill:#474747;stroke:#474747;stroke-linejoin:miter;\" x=\"198.335045\" xlink:href=\"#m443120900e\" y=\"190.052629\"/>\n     <use style=\"fill:#474747;stroke:#474747;stroke-linejoin:miter;\" x=\"198.335045\" xlink:href=\"#m443120900e\" y=\"190.052629\"/>\n     <use style=\"fill:#474747;stroke:#474747;stroke-linejoin:miter;\" x=\"198.335045\" xlink:href=\"#m443120900e\" y=\"190.052629\"/>\n     <use style=\"fill:#474747;stroke:#474747;stroke-linejoin:miter;\" x=\"198.335045\" xlink:href=\"#m443120900e\" y=\"190.052629\"/>\n     <use style=\"fill:#474747;stroke:#474747;stroke-linejoin:miter;\" x=\"198.335045\" xlink:href=\"#m443120900e\" y=\"190.052629\"/>\n     <use style=\"fill:#474747;stroke:#474747;stroke-linejoin:miter;\" x=\"198.335045\" xlink:href=\"#m443120900e\" y=\"190.052629\"/>\n     <use style=\"fill:#474747;stroke:#474747;stroke-linejoin:miter;\" x=\"198.335045\" xlink:href=\"#m443120900e\" y=\"190.052629\"/>\n     <use style=\"fill:#474747;stroke:#474747;stroke-linejoin:miter;\" x=\"198.335045\" xlink:href=\"#m443120900e\" y=\"190.052629\"/>\n     <use style=\"fill:#474747;stroke:#474747;stroke-linejoin:miter;\" x=\"198.335045\" xlink:href=\"#m443120900e\" y=\"190.052629\"/>\n     <use style=\"fill:#474747;stroke:#474747;stroke-linejoin:miter;\" x=\"198.335045\" xlink:href=\"#m443120900e\" y=\"190.052629\"/>\n     <use style=\"fill:#474747;stroke:#474747;stroke-linejoin:miter;\" x=\"198.335045\" xlink:href=\"#m443120900e\" y=\"190.052629\"/>\n     <use style=\"fill:#474747;stroke:#474747;stroke-linejoin:miter;\" x=\"198.335045\" xlink:href=\"#m443120900e\" y=\"190.052629\"/>\n     <use style=\"fill:#474747;stroke:#474747;stroke-linejoin:miter;\" x=\"198.335045\" xlink:href=\"#m443120900e\" y=\"190.052629\"/>\n     <use style=\"fill:#474747;stroke:#474747;stroke-linejoin:miter;\" x=\"198.335045\" xlink:href=\"#m443120900e\" y=\"190.052629\"/>\n     <use style=\"fill:#474747;stroke:#474747;stroke-linejoin:miter;\" x=\"198.335045\" xlink:href=\"#m443120900e\" y=\"190.052629\"/>\n     <use style=\"fill:#474747;stroke:#474747;stroke-linejoin:miter;\" x=\"198.335045\" xlink:href=\"#m443120900e\" y=\"190.052629\"/>\n     <use style=\"fill:#474747;stroke:#474747;stroke-linejoin:miter;\" x=\"198.335045\" xlink:href=\"#m443120900e\" y=\"190.052629\"/>\n     <use style=\"fill:#474747;stroke:#474747;stroke-linejoin:miter;\" x=\"198.335045\" xlink:href=\"#m443120900e\" y=\"190.052629\"/>\n    </g>\n   </g>\n   <g id=\"line2d_35\">\n    <path clip-path=\"url(#p7644926711)\" d=\"M 266.092188 157.261471 \nL 266.092188 187.667842 \n\" style=\"fill:none;stroke:#474747;stroke-linecap:square;stroke-width:1.5;\"/>\n   </g>\n   <g id=\"line2d_36\">\n    <path clip-path=\"url(#p7644926711)\" d=\"M 266.092188 133.871955 \nL 266.092188 98.78768 \n\" style=\"fill:none;stroke:#474747;stroke-linecap:square;stroke-width:1.5;\"/>\n   </g>\n   <g id=\"line2d_37\">\n    <path clip-path=\"url(#p7644926711)\" d=\"M 252.540759 187.667842 \nL 279.643616 187.667842 \n\" style=\"fill:none;stroke:#474747;stroke-linecap:square;stroke-width:1.5;\"/>\n   </g>\n   <g id=\"line2d_38\">\n    <path clip-path=\"url(#p7644926711)\" d=\"M 252.540759 98.78768 \nL 279.643616 98.78768 \n\" style=\"fill:none;stroke:#474747;stroke-linecap:square;stroke-width:1.5;\"/>\n   </g>\n   <g id=\"line2d_39\">\n    <g clip-path=\"url(#p7644926711)\">\n     <use style=\"fill:#474747;stroke:#474747;stroke-linejoin:miter;\" x=\"266.092188\" xlink:href=\"#m443120900e\" y=\"96.448729\"/>\n     <use style=\"fill:#474747;stroke:#474747;stroke-linejoin:miter;\" x=\"266.092188\" xlink:href=\"#m443120900e\" y=\"87.092922\"/>\n     <use style=\"fill:#474747;stroke:#474747;stroke-linejoin:miter;\" x=\"266.092188\" xlink:href=\"#m443120900e\" y=\"63.703406\"/>\n     <use style=\"fill:#474747;stroke:#474747;stroke-linejoin:miter;\" x=\"266.092188\" xlink:href=\"#m443120900e\" y=\"94.109777\"/>\n     <use style=\"fill:#474747;stroke:#474747;stroke-linejoin:miter;\" x=\"266.092188\" xlink:href=\"#m443120900e\" y=\"89.431874\"/>\n     <use style=\"fill:#474747;stroke:#474747;stroke-linejoin:miter;\" x=\"266.092188\" xlink:href=\"#m443120900e\" y=\"73.059212\"/>\n     <use style=\"fill:#474747;stroke:#474747;stroke-linejoin:miter;\" x=\"266.092188\" xlink:href=\"#m443120900e\" y=\"87.092922\"/>\n     <use style=\"fill:#474747;stroke:#474747;stroke-linejoin:miter;\" x=\"266.092188\" xlink:href=\"#m443120900e\" y=\"89.431874\"/>\n     <use style=\"fill:#474747;stroke:#474747;stroke-linejoin:miter;\" x=\"266.092188\" xlink:href=\"#m443120900e\" y=\"87.092922\"/>\n    </g>\n   </g>\n   <g id=\"line2d_40\">\n    <path clip-path=\"url(#p7644926711)\" d=\"M 333.84933 158.108074 \nL 333.84933 192.0658 \n\" style=\"fill:none;stroke:#474747;stroke-linecap:square;stroke-width:1.5;\"/>\n   </g>\n   <g id=\"line2d_41\">\n    <path clip-path=\"url(#p7644926711)\" d=\"M 333.84933 132.140401 \nL 333.84933 98.582178 \n\" style=\"fill:none;stroke:#474747;stroke-linecap:square;stroke-width:1.5;\"/>\n   </g>\n   <g id=\"line2d_42\">\n    <path clip-path=\"url(#p7644926711)\" d=\"M 320.297902 192.0658 \nL 347.400759 192.0658 \n\" style=\"fill:none;stroke:#474747;stroke-linecap:square;stroke-width:1.5;\"/>\n   </g>\n   <g id=\"line2d_43\">\n    <path clip-path=\"url(#p7644926711)\" d=\"M 320.297902 98.582178 \nL 347.400759 98.582178 \n\" style=\"fill:none;stroke:#474747;stroke-linecap:square;stroke-width:1.5;\"/>\n   </g>\n   <g id=\"line2d_44\">\n    <g clip-path=\"url(#p7644926711)\">\n     <use style=\"fill:#474747;stroke:#474747;stroke-linejoin:miter;\" x=\"333.84933\" xlink:href=\"#m443120900e\" y=\"75.810527\"/>\n     <use style=\"fill:#474747;stroke:#474747;stroke-linejoin:miter;\" x=\"333.84933\" xlink:href=\"#m443120900e\" y=\"79.805553\"/>\n     <use style=\"fill:#474747;stroke:#474747;stroke-linejoin:miter;\" x=\"333.84933\" xlink:href=\"#m443120900e\" y=\"17.083636\"/>\n     <use style=\"fill:#474747;stroke:#474747;stroke-linejoin:miter;\" x=\"333.84933\" xlink:href=\"#m443120900e\" y=\"84.999088\"/>\n     <use style=\"fill:#474747;stroke:#474747;stroke-linejoin:miter;\" x=\"333.84933\" xlink:href=\"#m443120900e\" y=\"79.006548\"/>\n    </g>\n   </g>\n   <g id=\"line2d_45\">\n    <path clip-path=\"url(#p7644926711)\" d=\"M 401.606473 143.586085 \nL 401.606473 143.586085 \n\" style=\"fill:none;stroke:#474747;stroke-linecap:square;stroke-width:1.5;\"/>\n   </g>\n   <g id=\"line2d_46\">\n    <path clip-path=\"url(#p7644926711)\" d=\"M 401.606473 143.586085 \nL 401.606473 143.586085 \n\" style=\"fill:none;stroke:#474747;stroke-linecap:square;stroke-width:1.5;\"/>\n   </g>\n   <g id=\"line2d_47\">\n    <path clip-path=\"url(#p7644926711)\" d=\"M 388.055045 143.586085 \nL 415.157902 143.586085 \n\" style=\"fill:none;stroke:#474747;stroke-linecap:square;stroke-width:1.5;\"/>\n   </g>\n   <g id=\"line2d_48\">\n    <path clip-path=\"url(#p7644926711)\" d=\"M 388.055045 143.586085 \nL 415.157902 143.586085 \n\" style=\"fill:none;stroke:#474747;stroke-linecap:square;stroke-width:1.5;\"/>\n   </g>\n   <g id=\"line2d_49\">\n    <g clip-path=\"url(#p7644926711)\">\n     <use style=\"fill:#474747;stroke:#474747;stroke-linejoin:miter;\" x=\"401.606473\" xlink:href=\"#m443120900e\" y=\"122.812913\"/>\n     <use style=\"fill:#474747;stroke:#474747;stroke-linejoin:miter;\" x=\"401.606473\" xlink:href=\"#m443120900e\" y=\"122.812913\"/>\n     <use style=\"fill:#474747;stroke:#474747;stroke-linejoin:miter;\" x=\"401.606473\" xlink:href=\"#m443120900e\" y=\"122.812913\"/>\n     <use style=\"fill:#474747;stroke:#474747;stroke-linejoin:miter;\" x=\"401.606473\" xlink:href=\"#m443120900e\" y=\"122.812913\"/>\n     <use style=\"fill:#474747;stroke:#474747;stroke-linejoin:miter;\" x=\"401.606473\" xlink:href=\"#m443120900e\" y=\"122.812913\"/>\n     <use style=\"fill:#474747;stroke:#474747;stroke-linejoin:miter;\" x=\"401.606473\" xlink:href=\"#m443120900e\" y=\"122.812913\"/>\n     <use style=\"fill:#474747;stroke:#474747;stroke-linejoin:miter;\" x=\"401.606473\" xlink:href=\"#m443120900e\" y=\"122.812913\"/>\n     <use style=\"fill:#474747;stroke:#474747;stroke-linejoin:miter;\" x=\"401.606473\" xlink:href=\"#m443120900e\" y=\"122.812913\"/>\n     <use style=\"fill:#474747;stroke:#474747;stroke-linejoin:miter;\" x=\"401.606473\" xlink:href=\"#m443120900e\" y=\"122.812913\"/>\n     <use style=\"fill:#474747;stroke:#474747;stroke-linejoin:miter;\" x=\"401.606473\" xlink:href=\"#m443120900e\" y=\"122.812913\"/>\n     <use style=\"fill:#474747;stroke:#474747;stroke-linejoin:miter;\" x=\"401.606473\" xlink:href=\"#m443120900e\" y=\"122.812913\"/>\n     <use style=\"fill:#474747;stroke:#474747;stroke-linejoin:miter;\" x=\"401.606473\" xlink:href=\"#m443120900e\" y=\"122.812913\"/>\n     <use style=\"fill:#474747;stroke:#474747;stroke-linejoin:miter;\" x=\"401.606473\" xlink:href=\"#m443120900e\" y=\"122.812913\"/>\n     <use style=\"fill:#474747;stroke:#474747;stroke-linejoin:miter;\" x=\"401.606473\" xlink:href=\"#m443120900e\" y=\"122.812913\"/>\n     <use style=\"fill:#474747;stroke:#474747;stroke-linejoin:miter;\" x=\"401.606473\" xlink:href=\"#m443120900e\" y=\"122.812913\"/>\n     <use style=\"fill:#474747;stroke:#474747;stroke-linejoin:miter;\" x=\"401.606473\" xlink:href=\"#m443120900e\" y=\"122.812913\"/>\n     <use style=\"fill:#474747;stroke:#474747;stroke-linejoin:miter;\" x=\"401.606473\" xlink:href=\"#m443120900e\" y=\"122.812913\"/>\n     <use style=\"fill:#474747;stroke:#474747;stroke-linejoin:miter;\" x=\"401.606473\" xlink:href=\"#m443120900e\" y=\"122.812913\"/>\n     <use style=\"fill:#474747;stroke:#474747;stroke-linejoin:miter;\" x=\"401.606473\" xlink:href=\"#m443120900e\" y=\"122.812913\"/>\n     <use style=\"fill:#474747;stroke:#474747;stroke-linejoin:miter;\" x=\"401.606473\" xlink:href=\"#m443120900e\" y=\"122.812913\"/>\n     <use style=\"fill:#474747;stroke:#474747;stroke-linejoin:miter;\" x=\"401.606473\" xlink:href=\"#m443120900e\" y=\"122.812913\"/>\n     <use style=\"fill:#474747;stroke:#474747;stroke-linejoin:miter;\" x=\"401.606473\" xlink:href=\"#m443120900e\" y=\"122.812913\"/>\n     <use style=\"fill:#474747;stroke:#474747;stroke-linejoin:miter;\" x=\"401.606473\" xlink:href=\"#m443120900e\" y=\"122.812913\"/>\n     <use style=\"fill:#474747;stroke:#474747;stroke-linejoin:miter;\" x=\"401.606473\" xlink:href=\"#m443120900e\" y=\"122.812913\"/>\n     <use style=\"fill:#474747;stroke:#474747;stroke-linejoin:miter;\" x=\"401.606473\" xlink:href=\"#m443120900e\" y=\"122.812913\"/>\n     <use style=\"fill:#474747;stroke:#474747;stroke-linejoin:miter;\" x=\"401.606473\" xlink:href=\"#m443120900e\" y=\"122.812913\"/>\n     <use style=\"fill:#474747;stroke:#474747;stroke-linejoin:miter;\" x=\"401.606473\" xlink:href=\"#m443120900e\" y=\"122.812913\"/>\n     <use style=\"fill:#474747;stroke:#474747;stroke-linejoin:miter;\" x=\"401.606473\" xlink:href=\"#m443120900e\" y=\"122.812913\"/>\n     <use style=\"fill:#474747;stroke:#474747;stroke-linejoin:miter;\" x=\"401.606473\" xlink:href=\"#m443120900e\" y=\"122.812913\"/>\n     <use style=\"fill:#474747;stroke:#474747;stroke-linejoin:miter;\" x=\"401.606473\" xlink:href=\"#m443120900e\" y=\"122.812913\"/>\n     <use style=\"fill:#474747;stroke:#474747;stroke-linejoin:miter;\" x=\"401.606473\" xlink:href=\"#m443120900e\" y=\"122.812913\"/>\n     <use style=\"fill:#474747;stroke:#474747;stroke-linejoin:miter;\" x=\"401.606473\" xlink:href=\"#m443120900e\" y=\"122.812913\"/>\n     <use style=\"fill:#474747;stroke:#474747;stroke-linejoin:miter;\" x=\"401.606473\" xlink:href=\"#m443120900e\" y=\"122.812913\"/>\n     <use style=\"fill:#474747;stroke:#474747;stroke-linejoin:miter;\" x=\"401.606473\" xlink:href=\"#m443120900e\" y=\"122.812913\"/>\n     <use style=\"fill:#474747;stroke:#474747;stroke-linejoin:miter;\" x=\"401.606473\" xlink:href=\"#m443120900e\" y=\"122.812913\"/>\n     <use style=\"fill:#474747;stroke:#474747;stroke-linejoin:miter;\" x=\"401.606473\" xlink:href=\"#m443120900e\" y=\"122.812913\"/>\n     <use style=\"fill:#474747;stroke:#474747;stroke-linejoin:miter;\" x=\"401.606473\" xlink:href=\"#m443120900e\" y=\"122.812913\"/>\n     <use style=\"fill:#474747;stroke:#474747;stroke-linejoin:miter;\" x=\"401.606473\" xlink:href=\"#m443120900e\" y=\"122.812913\"/>\n     <use style=\"fill:#474747;stroke:#474747;stroke-linejoin:miter;\" x=\"401.606473\" xlink:href=\"#m443120900e\" y=\"122.812913\"/>\n     <use style=\"fill:#474747;stroke:#474747;stroke-linejoin:miter;\" x=\"401.606473\" xlink:href=\"#m443120900e\" y=\"122.812913\"/>\n     <use style=\"fill:#474747;stroke:#474747;stroke-linejoin:miter;\" x=\"401.606473\" xlink:href=\"#m443120900e\" y=\"122.812913\"/>\n     <use style=\"fill:#474747;stroke:#474747;stroke-linejoin:miter;\" x=\"401.606473\" xlink:href=\"#m443120900e\" y=\"122.812913\"/>\n     <use style=\"fill:#474747;stroke:#474747;stroke-linejoin:miter;\" x=\"401.606473\" xlink:href=\"#m443120900e\" y=\"122.812913\"/>\n    </g>\n   </g>\n   <g id=\"line2d_50\">\n    <path clip-path=\"url(#p7644926711)\" d=\"M 469.363616 164.395153 \nL 469.363616 164.395153 \n\" style=\"fill:none;stroke:#474747;stroke-linecap:square;stroke-width:1.5;\"/>\n   </g>\n   <g id=\"line2d_51\">\n    <path clip-path=\"url(#p7644926711)\" d=\"M 469.363616 122.636416 \nL 469.363616 122.636416 \n\" style=\"fill:none;stroke:#474747;stroke-linecap:square;stroke-width:1.5;\"/>\n   </g>\n   <g id=\"line2d_52\">\n    <path clip-path=\"url(#p7644926711)\" d=\"M 455.812188 164.395153 \nL 482.915045 164.395153 \n\" style=\"fill:none;stroke:#474747;stroke-linecap:square;stroke-width:1.5;\"/>\n   </g>\n   <g id=\"line2d_53\">\n    <path clip-path=\"url(#p7644926711)\" d=\"M 455.812188 122.636416 \nL 482.915045 122.636416 \n\" style=\"fill:none;stroke:#474747;stroke-linecap:square;stroke-width:1.5;\"/>\n   </g>\n   <g id=\"line2d_54\"/>\n   <g id=\"line2d_55\">\n    <path clip-path=\"url(#p7644926711)\" d=\"M 537.120759 158.616477 \nL 537.120759 199.363169 \n\" style=\"fill:none;stroke:#474747;stroke-linecap:square;stroke-width:1.5;\"/>\n   </g>\n   <g id=\"line2d_56\">\n    <path clip-path=\"url(#p7644926711)\" d=\"M 537.120759 128.73557 \nL 537.120759 96.138217 \n\" style=\"fill:none;stroke:#474747;stroke-linecap:square;stroke-width:1.5;\"/>\n   </g>\n   <g id=\"line2d_57\">\n    <path clip-path=\"url(#p7644926711)\" d=\"M 523.56933 199.363169 \nL 550.672188 199.363169 \n\" style=\"fill:none;stroke:#474747;stroke-linecap:square;stroke-width:1.5;\"/>\n   </g>\n   <g id=\"line2d_58\">\n    <path clip-path=\"url(#p7644926711)\" d=\"M 523.56933 96.138217 \nL 550.672188 96.138217 \n\" style=\"fill:none;stroke:#474747;stroke-linecap:square;stroke-width:1.5;\"/>\n   </g>\n   <g id=\"line2d_59\">\n    <g clip-path=\"url(#p7644926711)\">\n     <use style=\"fill:#474747;stroke:#474747;stroke-linejoin:miter;\" x=\"537.120759\" xlink:href=\"#m443120900e\" y=\"214.756364\"/>\n    </g>\n   </g>\n   <g id=\"line2d_60\">\n    <path clip-path=\"url(#p7644926711)\" d=\"M 604.877902 143.586085 \nL 604.877902 143.586085 \n\" style=\"fill:none;stroke:#474747;stroke-linecap:square;stroke-width:1.5;\"/>\n   </g>\n   <g id=\"line2d_61\">\n    <path clip-path=\"url(#p7644926711)\" d=\"M 604.877902 122.812913 \nL 604.877902 122.812913 \n\" style=\"fill:none;stroke:#474747;stroke-linecap:square;stroke-width:1.5;\"/>\n   </g>\n   <g id=\"line2d_62\">\n    <path clip-path=\"url(#p7644926711)\" d=\"M 591.326473 143.586085 \nL 618.42933 143.586085 \n\" style=\"fill:none;stroke:#474747;stroke-linecap:square;stroke-width:1.5;\"/>\n   </g>\n   <g id=\"line2d_63\">\n    <path clip-path=\"url(#p7644926711)\" d=\"M 591.326473 122.812913 \nL 618.42933 122.812913 \n\" style=\"fill:none;stroke:#474747;stroke-linecap:square;stroke-width:1.5;\"/>\n   </g>\n   <g id=\"line2d_64\"/>\n   <g id=\"line2d_65\">\n    <path clip-path=\"url(#p7644926711)\" d=\"M 672.635045 162.389626 \nL 672.635045 162.389626 \n\" style=\"fill:none;stroke:#474747;stroke-linecap:square;stroke-width:1.5;\"/>\n   </g>\n   <g id=\"line2d_66\">\n    <path clip-path=\"url(#p7644926711)\" d=\"M 672.635045 133.887417 \nL 672.635045 91.134103 \n\" style=\"fill:none;stroke:#474747;stroke-linecap:square;stroke-width:1.5;\"/>\n   </g>\n   <g id=\"line2d_67\">\n    <path clip-path=\"url(#p7644926711)\" d=\"M 659.083616 162.389626 \nL 686.186473 162.389626 \n\" style=\"fill:none;stroke:#474747;stroke-linecap:square;stroke-width:1.5;\"/>\n   </g>\n   <g id=\"line2d_68\">\n    <path clip-path=\"url(#p7644926711)\" d=\"M 659.083616 91.134103 \nL 686.186473 91.134103 \n\" style=\"fill:none;stroke:#474747;stroke-linecap:square;stroke-width:1.5;\"/>\n   </g>\n   <g id=\"line2d_69\">\n    <g clip-path=\"url(#p7644926711)\">\n     <use style=\"fill:#474747;stroke:#474747;stroke-linejoin:miter;\" x=\"672.635045\" xlink:href=\"#m443120900e\" y=\"51.943565\"/>\n     <use style=\"fill:#474747;stroke:#474747;stroke-linejoin:miter;\" x=\"672.635045\" xlink:href=\"#m443120900e\" y=\"62.631893\"/>\n     <use style=\"fill:#474747;stroke:#474747;stroke-linejoin:miter;\" x=\"672.635045\" xlink:href=\"#m443120900e\" y=\"87.571326\"/>\n     <use style=\"fill:#474747;stroke:#474747;stroke-linejoin:miter;\" x=\"672.635045\" xlink:href=\"#m443120900e\" y=\"87.571326\"/>\n     <use style=\"fill:#474747;stroke:#474747;stroke-linejoin:miter;\" x=\"672.635045\" xlink:href=\"#m443120900e\" y=\"84.00855\"/>\n    </g>\n   </g>\n   <g id=\"line2d_70\">\n    <path clip-path=\"url(#p7644926711)\" d=\"M 740.392188 163.838635 \nL 740.392188 163.838635 \n\" style=\"fill:none;stroke:#474747;stroke-linecap:square;stroke-width:1.5;\"/>\n   </g>\n   <g id=\"line2d_71\">\n    <path clip-path=\"url(#p7644926711)\" d=\"M 740.392188 130.235243 \nL 740.392188 96.631851 \n\" style=\"fill:none;stroke:#474747;stroke-linecap:square;stroke-width:1.5;\"/>\n   </g>\n   <g id=\"line2d_72\">\n    <path clip-path=\"url(#p7644926711)\" d=\"M 726.840759 163.838635 \nL 753.943616 163.838635 \n\" style=\"fill:none;stroke:#474747;stroke-linecap:square;stroke-width:1.5;\"/>\n   </g>\n   <g id=\"line2d_73\">\n    <path clip-path=\"url(#p7644926711)\" d=\"M 726.840759 96.631851 \nL 753.943616 96.631851 \n\" style=\"fill:none;stroke:#474747;stroke-linecap:square;stroke-width:1.5;\"/>\n   </g>\n   <g id=\"line2d_74\"/>\n   <g id=\"line2d_75\">\n    <path clip-path=\"url(#p7644926711)\" d=\"M 808.14933 158.558548 \nL 808.14933 158.558548 \n\" style=\"fill:none;stroke:#474747;stroke-linecap:square;stroke-width:1.5;\"/>\n   </g>\n   <g id=\"line2d_76\">\n    <path clip-path=\"url(#p7644926711)\" d=\"M 808.14933 136.435058 \nL 808.14933 114.311568 \n\" style=\"fill:none;stroke:#474747;stroke-linecap:square;stroke-width:1.5;\"/>\n   </g>\n   <g id=\"line2d_77\">\n    <path clip-path=\"url(#p7644926711)\" d=\"M 794.597902 158.558548 \nL 821.700759 158.558548 \n\" style=\"fill:none;stroke:#474747;stroke-linecap:square;stroke-width:1.5;\"/>\n   </g>\n   <g id=\"line2d_78\">\n    <path clip-path=\"url(#p7644926711)\" d=\"M 794.597902 114.311568 \nL 821.700759 114.311568 \n\" style=\"fill:none;stroke:#474747;stroke-linecap:square;stroke-width:1.5;\"/>\n   </g>\n   <g id=\"line2d_79\">\n    <g clip-path=\"url(#p7644926711)\">\n     <use style=\"fill:#474747;stroke:#474747;stroke-linejoin:miter;\" x=\"808.14933\" xlink:href=\"#m443120900e\" y=\"92.188078\"/>\n     <use style=\"fill:#474747;stroke:#474747;stroke-linejoin:miter;\" x=\"808.14933\" xlink:href=\"#m443120900e\" y=\"92.188078\"/>\n     <use style=\"fill:#474747;stroke:#474747;stroke-linejoin:miter;\" x=\"808.14933\" xlink:href=\"#m443120900e\" y=\"92.188078\"/>\n     <use style=\"fill:#474747;stroke:#474747;stroke-linejoin:miter;\" x=\"808.14933\" xlink:href=\"#m443120900e\" y=\"92.188078\"/>\n     <use style=\"fill:#474747;stroke:#474747;stroke-linejoin:miter;\" x=\"808.14933\" xlink:href=\"#m443120900e\" y=\"92.188078\"/>\n     <use style=\"fill:#474747;stroke:#474747;stroke-linejoin:miter;\" x=\"808.14933\" xlink:href=\"#m443120900e\" y=\"92.188078\"/>\n     <use style=\"fill:#474747;stroke:#474747;stroke-linejoin:miter;\" x=\"808.14933\" xlink:href=\"#m443120900e\" y=\"92.188078\"/>\n     <use style=\"fill:#474747;stroke:#474747;stroke-linejoin:miter;\" x=\"808.14933\" xlink:href=\"#m443120900e\" y=\"92.188078\"/>\n     <use style=\"fill:#474747;stroke:#474747;stroke-linejoin:miter;\" x=\"808.14933\" xlink:href=\"#m443120900e\" y=\"92.188078\"/>\n     <use style=\"fill:#474747;stroke:#474747;stroke-linejoin:miter;\" x=\"808.14933\" xlink:href=\"#m443120900e\" y=\"92.188078\"/>\n     <use style=\"fill:#474747;stroke:#474747;stroke-linejoin:miter;\" x=\"808.14933\" xlink:href=\"#m443120900e\" y=\"92.188078\"/>\n     <use style=\"fill:#474747;stroke:#474747;stroke-linejoin:miter;\" x=\"808.14933\" xlink:href=\"#m443120900e\" y=\"92.188078\"/>\n     <use style=\"fill:#474747;stroke:#474747;stroke-linejoin:miter;\" x=\"808.14933\" xlink:href=\"#m443120900e\" y=\"92.188078\"/>\n     <use style=\"fill:#474747;stroke:#474747;stroke-linejoin:miter;\" x=\"808.14933\" xlink:href=\"#m443120900e\" y=\"92.188078\"/>\n     <use style=\"fill:#474747;stroke:#474747;stroke-linejoin:miter;\" x=\"808.14933\" xlink:href=\"#m443120900e\" y=\"92.188078\"/>\n     <use style=\"fill:#474747;stroke:#474747;stroke-linejoin:miter;\" x=\"808.14933\" xlink:href=\"#m443120900e\" y=\"92.188078\"/>\n     <use style=\"fill:#474747;stroke:#474747;stroke-linejoin:miter;\" x=\"808.14933\" xlink:href=\"#m443120900e\" y=\"92.188078\"/>\n     <use style=\"fill:#474747;stroke:#474747;stroke-linejoin:miter;\" x=\"808.14933\" xlink:href=\"#m443120900e\" y=\"92.188078\"/>\n     <use style=\"fill:#474747;stroke:#474747;stroke-linejoin:miter;\" x=\"808.14933\" xlink:href=\"#m443120900e\" y=\"92.188078\"/>\n     <use style=\"fill:#474747;stroke:#474747;stroke-linejoin:miter;\" x=\"808.14933\" xlink:href=\"#m443120900e\" y=\"92.188078\"/>\n    </g>\n   </g>\n   <g id=\"line2d_80\">\n    <path clip-path=\"url(#p7644926711)\" d=\"M 875.906473 162.130574 \nL 875.906473 162.130574 \n\" style=\"fill:none;stroke:#474747;stroke-linecap:square;stroke-width:1.5;\"/>\n   </g>\n   <g id=\"line2d_81\">\n    <path clip-path=\"url(#p7644926711)\" d=\"M 875.906473 119.268993 \nL 875.906473 119.268993 \n\" style=\"fill:none;stroke:#474747;stroke-linecap:square;stroke-width:1.5;\"/>\n   </g>\n   <g id=\"line2d_82\">\n    <path clip-path=\"url(#p7644926711)\" d=\"M 862.355045 162.130574 \nL 889.457902 162.130574 \n\" style=\"fill:none;stroke:#474747;stroke-linecap:square;stroke-width:1.5;\"/>\n   </g>\n   <g id=\"line2d_83\">\n    <path clip-path=\"url(#p7644926711)\" d=\"M 862.355045 119.268993 \nL 889.457902 119.268993 \n\" style=\"fill:none;stroke:#474747;stroke-linecap:square;stroke-width:1.5;\"/>\n   </g>\n   <g id=\"line2d_84\"/>\n   <g id=\"line2d_85\">\n    <path clip-path=\"url(#p7644926711)\" d=\"M 943.663616 143.586085 \nL 943.663616 143.586085 \n\" style=\"fill:none;stroke:#474747;stroke-linecap:square;stroke-width:1.5;\"/>\n   </g>\n   <g id=\"line2d_86\">\n    <path clip-path=\"url(#p7644926711)\" d=\"M 943.663616 102.039741 \nL 943.663616 60.493396 \n\" style=\"fill:none;stroke:#474747;stroke-linecap:square;stroke-width:1.5;\"/>\n   </g>\n   <g id=\"line2d_87\">\n    <path clip-path=\"url(#p7644926711)\" d=\"M 930.112188 143.586085 \nL 957.215045 143.586085 \n\" style=\"fill:none;stroke:#474747;stroke-linecap:square;stroke-width:1.5;\"/>\n   </g>\n   <g id=\"line2d_88\">\n    <path clip-path=\"url(#p7644926711)\" d=\"M 930.112188 60.493396 \nL 957.215045 60.493396 \n\" style=\"fill:none;stroke:#474747;stroke-linecap:square;stroke-width:1.5;\"/>\n   </g>\n   <g id=\"line2d_89\"/>\n   <g id=\"line2d_90\">\n    <path clip-path=\"url(#p7644926711)\" d=\"M 35.717902 140.239527 \nL 89.923616 140.239527 \n\" style=\"fill:none;stroke:#474747;stroke-linecap:square;stroke-width:1.5;\"/>\n   </g>\n   <g id=\"line2d_91\">\n    <path clip-path=\"url(#p7644926711)\" d=\"M 103.475045 122.812913 \nL 157.680759 122.812913 \n\" style=\"fill:none;stroke:#474747;stroke-linecap:square;stroke-width:1.5;\"/>\n   </g>\n   <g id=\"line2d_92\">\n    <path clip-path=\"url(#p7644926711)\" d=\"M 171.232188 146.993149 \nL 225.437902 146.993149 \n\" style=\"fill:none;stroke:#474747;stroke-linecap:square;stroke-width:1.5;\"/>\n   </g>\n   <g id=\"line2d_93\">\n    <path clip-path=\"url(#p7644926711)\" d=\"M 238.98933 145.566713 \nL 293.195045 145.566713 \n\" style=\"fill:none;stroke:#474747;stroke-linecap:square;stroke-width:1.5;\"/>\n   </g>\n   <g id=\"line2d_94\">\n    <path clip-path=\"url(#p7644926711)\" d=\"M 306.746473 145.323989 \nL 360.952188 145.323989 \n\" style=\"fill:none;stroke:#474747;stroke-linecap:square;stroke-width:1.5;\"/>\n   </g>\n   <g id=\"line2d_95\">\n    <path clip-path=\"url(#p7644926711)\" d=\"M 374.503616 143.586085 \nL 428.70933 143.586085 \n\" style=\"fill:none;stroke:#474747;stroke-linecap:square;stroke-width:1.5;\"/>\n   </g>\n   <g id=\"line2d_96\">\n    <path clip-path=\"url(#p7644926711)\" d=\"M 442.260759 143.515784 \nL 496.466473 143.515784 \n\" style=\"fill:none;stroke:#474747;stroke-linecap:square;stroke-width:1.5;\"/>\n   </g>\n   <g id=\"line2d_97\">\n    <path clip-path=\"url(#p7644926711)\" d=\"M 510.017902 140.506837 \nL 564.223616 140.506837 \n\" style=\"fill:none;stroke:#474747;stroke-linecap:square;stroke-width:1.5;\"/>\n   </g>\n   <g id=\"line2d_98\">\n    <path clip-path=\"url(#p7644926711)\" d=\"M 577.775045 143.586085 \nL 631.980759 143.586085 \n\" style=\"fill:none;stroke:#474747;stroke-linecap:square;stroke-width:1.5;\"/>\n   </g>\n   <g id=\"line2d_99\">\n    <path clip-path=\"url(#p7644926711)\" d=\"M 645.532188 148.138521 \nL 699.737902 148.138521 \n\" style=\"fill:none;stroke:#474747;stroke-linecap:square;stroke-width:1.5;\"/>\n   </g>\n   <g id=\"line2d_100\">\n    <path clip-path=\"url(#p7644926711)\" d=\"M 713.28933 130.235243 \nL 767.495045 130.235243 \n\" style=\"fill:none;stroke:#474747;stroke-linecap:square;stroke-width:1.5;\"/>\n   </g>\n   <g id=\"line2d_101\">\n    <path clip-path=\"url(#p7644926711)\" d=\"M 781.046473 158.558548 \nL 835.252188 158.558548 \n\" style=\"fill:none;stroke:#474747;stroke-linecap:square;stroke-width:1.5;\"/>\n   </g>\n   <g id=\"line2d_102\">\n    <path clip-path=\"url(#p7644926711)\" d=\"M 848.803616 162.130574 \nL 903.00933 162.130574 \n\" style=\"fill:none;stroke:#474747;stroke-linecap:square;stroke-width:1.5;\"/>\n   </g>\n   <g id=\"line2d_103\">\n    <path clip-path=\"url(#p7644926711)\" d=\"M 916.560759 143.586085 \nL 970.766473 143.586085 \n\" style=\"fill:none;stroke:#474747;stroke-linecap:square;stroke-width:1.5;\"/>\n   </g>\n   <g id=\"patch_17\">\n    <path d=\"M 28.942188 224.64 \nL 28.942188 7.2 \n\" style=\"fill:none;stroke:#000000;stroke-linecap:square;stroke-linejoin:miter;stroke-width:0.8;\"/>\n   </g>\n   <g id=\"patch_18\">\n    <path d=\"M 977.542188 224.64 \nL 977.542188 7.2 \n\" style=\"fill:none;stroke:#000000;stroke-linecap:square;stroke-linejoin:miter;stroke-width:0.8;\"/>\n   </g>\n   <g id=\"patch_19\">\n    <path d=\"M 28.942188 224.64 \nL 977.542188 224.64 \n\" style=\"fill:none;stroke:#000000;stroke-linecap:square;stroke-linejoin:miter;stroke-width:0.8;\"/>\n   </g>\n   <g id=\"patch_20\">\n    <path d=\"M 28.942188 7.2 \nL 977.542188 7.2 \n\" style=\"fill:none;stroke:#000000;stroke-linecap:square;stroke-linejoin:miter;stroke-width:0.8;\"/>\n   </g>\n  </g>\n </g>\n <defs>\n  <clipPath id=\"p7644926711\">\n   <rect height=\"217.44\" width=\"948.6\" x=\"28.942188\" y=\"7.2\"/>\n  </clipPath>\n </defs>\n</svg>\n"
          },
          "metadata": {
            "needs_background": "light"
          }
        }
      ]
    },
    {
      "cell_type": "code",
      "metadata": {
        "id": "7TW5me0MTVc5",
        "colab": {
          "base_uri": "https://localhost:8080/"
        },
        "outputId": "eff32f02-ff1b-424d-d091-d72455660a45"
      },
      "source": [
        "# count of all unique types of 'DISEASE'\n",
        "data['DISEASE'].value_counts()"
      ],
      "execution_count": 41,
      "outputs": [
        {
          "output_type": "execute_result",
          "data": {
            "text/plain": [
              "0    160\n",
              "1     54\n",
              "2     35\n",
              "3     35\n",
              "4     13\n",
              "Name: DISEASE, dtype: int64"
            ]
          },
          "metadata": {},
          "execution_count": 41
        }
      ]
    },
    {
      "cell_type": "code",
      "metadata": {
        "id": "nbCconDLTcw8",
        "colab": {
          "base_uri": "https://localhost:8080/"
        },
        "outputId": "e10940bf-2720-455d-9610-f30b3259714c"
      },
      "source": [
        "# re-code events to 0 (absent) and 1 (present)\n",
        "data['DISEASE'][data['DISEASE']>0] = 1"
      ],
      "execution_count": 42,
      "outputs": [
        {
          "output_type": "stream",
          "name": "stderr",
          "text": [
            "/usr/local/lib/python3.7/dist-packages/ipykernel_launcher.py:2: SettingWithCopyWarning: \n",
            "A value is trying to be set on a copy of a slice from a DataFrame\n",
            "\n",
            "See the caveats in the documentation: https://pandas.pydata.org/pandas-docs/stable/user_guide/indexing.html#returning-a-view-versus-a-copy\n",
            "  \n"
          ]
        }
      ]
    },
    {
      "cell_type": "markdown",
      "metadata": {
        "id": "vGQd7xmM5Gns"
      },
      "source": [
        "# Re-organize the data: train/test in DataLoaders"
      ]
    },
    {
      "cell_type": "code",
      "metadata": {
        "id": "2kZ6YPe8Gav5",
        "colab": {
          "base_uri": "https://localhost:8080/"
        },
        "outputId": "1219fe2e-f468-4cf4-87eb-6fd5a65bb9bc"
      },
      "source": [
        "# convert from pandas dataframe to tensor\n",
        "dataT  = torch.tensor( data[data.keys().drop('DISEASE')].values ).float()\n",
        "labels = torch.tensor( data['DISEASE'].values ).float()\n",
        "\n",
        "print( dataT.shape )\n",
        "print( labels.shape )\n",
        "\n",
        "# we'll actually need the labels to be a \"matrix\"\n",
        "labels = labels[:,None]\n",
        "print( labels.shape )"
      ],
      "execution_count": 43,
      "outputs": [
        {
          "output_type": "stream",
          "name": "stdout",
          "text": [
            "torch.Size([297, 13])\n",
            "torch.Size([297])\n",
            "torch.Size([297, 1])\n"
          ]
        }
      ]
    },
    {
      "cell_type": "code",
      "metadata": {
        "id": "FxZlcwRwKtBl"
      },
      "source": [
        "# use scikitlearn to split the data\n",
        "train_data,test_data, train_labels,test_labels = train_test_split(dataT, labels, test_size=50)\n",
        "\n",
        "# then convert them into PyTorch Datasets\n",
        "train_data = TensorDataset(train_data,train_labels)\n",
        "test_data  = TensorDataset(test_data,test_labels)\n",
        "\n",
        "# finally, translate into dataloader objects\n",
        "batchsize    = 26\n",
        "train_loader = DataLoader(train_data,batch_size=batchsize,shuffle=True,drop_last=True)\n",
        "test_loader  = DataLoader(test_data,batch_size=test_data.tensors[0].shape[0])"
      ],
      "execution_count": 44,
      "outputs": []
    },
    {
      "cell_type": "code",
      "metadata": {
        "id": "bbf064xxGa_x",
        "colab": {
          "base_uri": "https://localhost:8080/"
        },
        "outputId": "e6e730cf-cb60-4e38-97b6-5a36cf54d336"
      },
      "source": [
        "# check sizes of data batches\n",
        "for X,y in train_loader:\n",
        "  print(X.shape,  y.shape)"
      ],
      "execution_count": 45,
      "outputs": [
        {
          "output_type": "stream",
          "name": "stdout",
          "text": [
            "torch.Size([26, 13]) torch.Size([26, 1])\n",
            "torch.Size([26, 13]) torch.Size([26, 1])\n",
            "torch.Size([26, 13]) torch.Size([26, 1])\n",
            "torch.Size([26, 13]) torch.Size([26, 1])\n",
            "torch.Size([26, 13]) torch.Size([26, 1])\n",
            "torch.Size([26, 13]) torch.Size([26, 1])\n",
            "torch.Size([26, 13]) torch.Size([26, 1])\n",
            "torch.Size([26, 13]) torch.Size([26, 1])\n",
            "torch.Size([26, 13]) torch.Size([26, 1])\n"
          ]
        }
      ]
    },
    {
      "cell_type": "markdown",
      "metadata": {
        "id": "VToReEHNWP0n"
      },
      "source": [
        "# Create a class for the DL model"
      ]
    },
    {
      "cell_type": "code",
      "metadata": {
        "id": "RVcrKOC1Wqk-"
      },
      "source": [
        "# the class\n",
        "class theNet(nn.Module):\n",
        "  def __init__(self):\n",
        "    super().__init__()\n",
        "\n",
        "    ### input layer\n",
        "    self.input = nn.Linear(13,32)\n",
        "    \n",
        "    ### hidden layers\n",
        "    self.fc1 = nn.Linear(32,64)\n",
        "    self.fc2 = nn.Linear(64,64)\n",
        "    self.fc3 = nn.Linear(64,64)\n",
        "    self.fc4 = nn.Linear(64,64)\n",
        "    self.fc5 = nn.Linear(64,64)\n",
        "    self.fc6 = nn.Linear(64,10)\n",
        "\n",
        "    ### output layer\n",
        "    self.output = nn.Linear(10,1)\n",
        "  \n",
        "  # forward pass\n",
        "  def forward(self,x):\n",
        "    x = F.relu( self.input(x) )\n",
        "    x = F.relu( self.fc1(x) )\n",
        "    x = F.relu( self.fc2(x) )\n",
        "    x = F.relu( self.fc3(x) )\n",
        "    x = F.relu( self.fc4(x) )\n",
        "    x = F.relu( self.fc5(x) )\n",
        "    x = F.relu( self.fc6(x) )\n",
        "    \n",
        "    return self.output(x)\n"
      ],
      "execution_count": 46,
      "outputs": []
    },
    {
      "cell_type": "code",
      "metadata": {
        "id": "zQKkLPUeWqn_",
        "colab": {
          "base_uri": "https://localhost:8080/"
        },
        "outputId": "58afff59-7742-47af-b353-9be318f125e5"
      },
      "source": [
        "# test the model on a bit of data\n",
        "net = theNet()\n",
        "\n",
        "X,y = next(iter(train_loader))\n",
        "yHat = net(X)\n",
        "print(yHat)\n",
        "\n",
        "# test the loss function\n",
        "lossfun = nn.BCEWithLogitsLoss()\n",
        "lossfun(yHat,y)"
      ],
      "execution_count": 47,
      "outputs": [
        {
          "output_type": "stream",
          "name": "stdout",
          "text": [
            "tensor([[0.2333],\n",
            "        [0.2318],\n",
            "        [0.2298],\n",
            "        [0.2321],\n",
            "        [0.2332],\n",
            "        [0.2315],\n",
            "        [0.2320],\n",
            "        [0.2315],\n",
            "        [0.2321],\n",
            "        [0.2324],\n",
            "        [0.2293],\n",
            "        [0.2326],\n",
            "        [0.2293],\n",
            "        [0.2309],\n",
            "        [0.2339],\n",
            "        [0.2314],\n",
            "        [0.2318],\n",
            "        [0.2313],\n",
            "        [0.2315],\n",
            "        [0.2322],\n",
            "        [0.2339],\n",
            "        [0.2324],\n",
            "        [0.2285],\n",
            "        [0.2328],\n",
            "        [0.2332],\n",
            "        [0.2326]], grad_fn=<AddmmBackward0>)\n"
          ]
        },
        {
          "output_type": "execute_result",
          "data": {
            "text/plain": [
              "tensor(0.7180, grad_fn=<BinaryCrossEntropyWithLogitsBackward0>)"
            ]
          },
          "metadata": {},
          "execution_count": 47
        }
      ]
    },
    {
      "cell_type": "markdown",
      "metadata": {
        "id": "VUMPfhoFWqrA"
      },
      "source": [
        "# Train the model and show performance"
      ]
    },
    {
      "cell_type": "code",
      "metadata": {
        "id": "4aUKZKn5Wqt-"
      },
      "source": [
        "# start with a fresh network\n",
        "net = theNet()\n",
        "optimizer = torch.optim.Adam(net.parameters(),lr=.0001)\n",
        "lossfun = nn.BCEWithLogitsLoss() # try with different loss function\n",
        "\n",
        "\n",
        "# number of training epochs\n",
        "numepochs = 40\n",
        "\n",
        "\n",
        "# initialize losses and accuracies\n",
        "trainLoss = torch.zeros(numepochs)\n",
        "testLoss  = torch.zeros(numepochs)\n",
        "trainAcc  = torch.zeros(numepochs)\n",
        "testAcc   = torch.zeros(numepochs)\n",
        "\n",
        "\n",
        "# loop over epochs\n",
        "for epochi in range(numepochs):\n",
        "\n",
        "  # loop over training data batches\n",
        "  batchLoss = []\n",
        "  for X,y in train_loader:\n",
        "\n",
        "    # forward pass and loss\n",
        "    yHat = net(X)\n",
        "    loss = lossfun(yHat,y)\n",
        "\n",
        "    # backprop\n",
        "    optimizer.zero_grad()\n",
        "    loss.backward()\n",
        "    optimizer.step()\n",
        "\n",
        "    # loss from this batch\n",
        "    batchLoss.append(loss.item())\n",
        "    \n",
        "    # train accuracy\n",
        "    predictions = (torch.sigmoid(yHat)>.5).float()\n",
        "    trainAcc[epochi] = 100*torch.mean((predictions==y).float())\n",
        "\n",
        "  # end of batch loop...\n",
        "\n",
        "  # get average losses across the batches\n",
        "  trainLoss[epochi] = np.mean(batchLoss)\n",
        "\n",
        "\n",
        "  ## now for the test\n",
        "  X,y = next(iter(test_loader))\n",
        "  yHat = net(X)\n",
        "  \n",
        "  # test loss\n",
        "  loss = lossfun(yHat,y)\n",
        "  testLoss[epochi] = loss.item()\n",
        "  \n",
        "  # test accuracy\n",
        "  predictions = (torch.sigmoid(yHat)>.5).float()\n",
        "  testAcc[epochi] = 100*torch.mean((predictions==y).float())"
      ],
      "execution_count": 48,
      "outputs": []
    },
    {
      "cell_type": "code",
      "source": [
        "trainAcc[epochi]"
      ],
      "metadata": {
        "colab": {
          "base_uri": "https://localhost:8080/"
        },
        "id": "wXKtypAqpkX_",
        "outputId": "1fcdceeb-83ad-470a-a10f-bb6a7a67ab3e"
      },
      "execution_count": 49,
      "outputs": [
        {
          "output_type": "execute_result",
          "data": {
            "text/plain": [
              "tensor(80.7692)"
            ]
          },
          "metadata": {},
          "execution_count": 49
        }
      ]
    },
    {
      "cell_type": "code",
      "metadata": {
        "id": "V_Au7fIUWq0H",
        "colab": {
          "base_uri": "https://localhost:8080/",
          "height": 463
        },
        "outputId": "92ccc6c6-4dec-468d-e50a-f93460c1c35a"
      },
      "source": [
        "fig,ax = plt.subplots(1,2,figsize=(16,5))\n",
        "\n",
        "ax[0].plot(trainLoss,'s-',label='Train')\n",
        "ax[0].plot(testLoss,'s-',label='Test')\n",
        "ax[0].set_xlabel('Epochs')\n",
        "ax[0].set_ylabel('Loss')\n",
        "ax[0].set_title('Model loss')\n",
        "\n",
        "ax[1].plot(trainAcc,'s-',label='Train')\n",
        "ax[1].plot(testAcc,'o-',label='Test')\n",
        "ax[1].set_xlabel('Epochs')\n",
        "ax[1].set_ylabel('Accuracy (%)')\n",
        "ax[1].set_title(f'Final model test accuracy: {testAcc[-1]:.2f}%')\n",
        "ax[1].legend()\n",
        "\n",
        "plt.show()"
      ],
      "execution_count": 50,
      "outputs": [
        {
          "output_type": "display_data",
          "data": {
            "text/plain": [
              "<Figure size 1152x360 with 2 Axes>"
            ],
            "image/svg+xml": "<?xml version=\"1.0\" encoding=\"utf-8\" standalone=\"no\"?>\n<!DOCTYPE svg PUBLIC \"-//W3C//DTD SVG 1.1//EN\"\n  \"http://www.w3.org/Graphics/SVG/1.1/DTD/svg11.dtd\">\n<!-- Created with matplotlib (https://matplotlib.org/) -->\n<svg height=\"331.674375pt\" version=\"1.1\" viewBox=\"0 0 950.14375 331.674375\" width=\"950.14375pt\" xmlns=\"http://www.w3.org/2000/svg\" xmlns:xlink=\"http://www.w3.org/1999/xlink\">\n <defs>\n  <style type=\"text/css\">\n*{stroke-linecap:butt;stroke-linejoin:round;}\n  </style>\n </defs>\n <g id=\"figure_1\">\n  <g id=\"patch_1\">\n   <path d=\"M 0 331.674375 \nL 950.14375 331.674375 \nL 950.14375 0 \nL 0 0 \nz\n\" style=\"fill:none;\"/>\n  </g>\n  <g id=\"axes_1\">\n   <g id=\"patch_2\">\n    <path d=\"M 50.14375 294.118125 \nL 455.961932 294.118125 \nL 455.961932 22.318125 \nL 50.14375 22.318125 \nz\n\" style=\"fill:#ffffff;\"/>\n   </g>\n   <g id=\"matplotlib.axis_1\">\n    <g id=\"xtick_1\">\n     <g id=\"line2d_1\">\n      <defs>\n       <path d=\"M 0 0 \nL 0 3.5 \n\" id=\"mf60dc0dd1a\" style=\"stroke:#000000;stroke-width:0.8;\"/>\n      </defs>\n      <g>\n       <use style=\"stroke:#000000;stroke-width:0.8;\" x=\"68.590031\" xlink:href=\"#mf60dc0dd1a\" y=\"294.118125\"/>\n      </g>\n     </g>\n     <g id=\"text_1\">\n      <!-- 0 -->\n      <defs>\n       <path d=\"M 31.78125 66.40625 \nQ 24.171875 66.40625 20.328125 58.90625 \nQ 16.5 51.421875 16.5 36.375 \nQ 16.5 21.390625 20.328125 13.890625 \nQ 24.171875 6.390625 31.78125 6.390625 \nQ 39.453125 6.390625 43.28125 13.890625 \nQ 47.125 21.390625 47.125 36.375 \nQ 47.125 51.421875 43.28125 58.90625 \nQ 39.453125 66.40625 31.78125 66.40625 \nz\nM 31.78125 74.21875 \nQ 44.046875 74.21875 50.515625 64.515625 \nQ 56.984375 54.828125 56.984375 36.375 \nQ 56.984375 17.96875 50.515625 8.265625 \nQ 44.046875 -1.421875 31.78125 -1.421875 \nQ 19.53125 -1.421875 13.0625 8.265625 \nQ 6.59375 17.96875 6.59375 36.375 \nQ 6.59375 54.828125 13.0625 64.515625 \nQ 19.53125 74.21875 31.78125 74.21875 \nz\n\" id=\"DejaVuSans-48\"/>\n      </defs>\n      <g transform=\"translate(65.408781 308.716563)scale(0.1 -0.1)\">\n       <use xlink:href=\"#DejaVuSans-48\"/>\n      </g>\n     </g>\n    </g>\n    <g id=\"xtick_2\">\n     <g id=\"line2d_2\">\n      <g>\n       <use style=\"stroke:#000000;stroke-width:0.8;\" x=\"115.888187\" xlink:href=\"#mf60dc0dd1a\" y=\"294.118125\"/>\n      </g>\n     </g>\n     <g id=\"text_2\">\n      <!-- 5 -->\n      <defs>\n       <path d=\"M 10.796875 72.90625 \nL 49.515625 72.90625 \nL 49.515625 64.59375 \nL 19.828125 64.59375 \nL 19.828125 46.734375 \nQ 21.96875 47.46875 24.109375 47.828125 \nQ 26.265625 48.1875 28.421875 48.1875 \nQ 40.625 48.1875 47.75 41.5 \nQ 54.890625 34.8125 54.890625 23.390625 \nQ 54.890625 11.625 47.5625 5.09375 \nQ 40.234375 -1.421875 26.90625 -1.421875 \nQ 22.3125 -1.421875 17.546875 -0.640625 \nQ 12.796875 0.140625 7.71875 1.703125 \nL 7.71875 11.625 \nQ 12.109375 9.234375 16.796875 8.0625 \nQ 21.484375 6.890625 26.703125 6.890625 \nQ 35.15625 6.890625 40.078125 11.328125 \nQ 45.015625 15.765625 45.015625 23.390625 \nQ 45.015625 31 40.078125 35.4375 \nQ 35.15625 39.890625 26.703125 39.890625 \nQ 22.75 39.890625 18.8125 39.015625 \nQ 14.890625 38.140625 10.796875 36.28125 \nz\n\" id=\"DejaVuSans-53\"/>\n      </defs>\n      <g transform=\"translate(112.706937 308.716563)scale(0.1 -0.1)\">\n       <use xlink:href=\"#DejaVuSans-53\"/>\n      </g>\n     </g>\n    </g>\n    <g id=\"xtick_3\">\n     <g id=\"line2d_3\">\n      <g>\n       <use style=\"stroke:#000000;stroke-width:0.8;\" x=\"163.186344\" xlink:href=\"#mf60dc0dd1a\" y=\"294.118125\"/>\n      </g>\n     </g>\n     <g id=\"text_3\">\n      <!-- 10 -->\n      <defs>\n       <path d=\"M 12.40625 8.296875 \nL 28.515625 8.296875 \nL 28.515625 63.921875 \nL 10.984375 60.40625 \nL 10.984375 69.390625 \nL 28.421875 72.90625 \nL 38.28125 72.90625 \nL 38.28125 8.296875 \nL 54.390625 8.296875 \nL 54.390625 0 \nL 12.40625 0 \nz\n\" id=\"DejaVuSans-49\"/>\n      </defs>\n      <g transform=\"translate(156.823844 308.716563)scale(0.1 -0.1)\">\n       <use xlink:href=\"#DejaVuSans-49\"/>\n       <use x=\"63.623047\" xlink:href=\"#DejaVuSans-48\"/>\n      </g>\n     </g>\n    </g>\n    <g id=\"xtick_4\">\n     <g id=\"line2d_4\">\n      <g>\n       <use style=\"stroke:#000000;stroke-width:0.8;\" x=\"210.4845\" xlink:href=\"#mf60dc0dd1a\" y=\"294.118125\"/>\n      </g>\n     </g>\n     <g id=\"text_4\">\n      <!-- 15 -->\n      <g transform=\"translate(204.122 308.716563)scale(0.1 -0.1)\">\n       <use xlink:href=\"#DejaVuSans-49\"/>\n       <use x=\"63.623047\" xlink:href=\"#DejaVuSans-53\"/>\n      </g>\n     </g>\n    </g>\n    <g id=\"xtick_5\">\n     <g id=\"line2d_5\">\n      <g>\n       <use style=\"stroke:#000000;stroke-width:0.8;\" x=\"257.782657\" xlink:href=\"#mf60dc0dd1a\" y=\"294.118125\"/>\n      </g>\n     </g>\n     <g id=\"text_5\">\n      <!-- 20 -->\n      <defs>\n       <path d=\"M 19.1875 8.296875 \nL 53.609375 8.296875 \nL 53.609375 0 \nL 7.328125 0 \nL 7.328125 8.296875 \nQ 12.9375 14.109375 22.625 23.890625 \nQ 32.328125 33.6875 34.8125 36.53125 \nQ 39.546875 41.84375 41.421875 45.53125 \nQ 43.3125 49.21875 43.3125 52.78125 \nQ 43.3125 58.59375 39.234375 62.25 \nQ 35.15625 65.921875 28.609375 65.921875 \nQ 23.96875 65.921875 18.8125 64.3125 \nQ 13.671875 62.703125 7.8125 59.421875 \nL 7.8125 69.390625 \nQ 13.765625 71.78125 18.9375 73 \nQ 24.125 74.21875 28.421875 74.21875 \nQ 39.75 74.21875 46.484375 68.546875 \nQ 53.21875 62.890625 53.21875 53.421875 \nQ 53.21875 48.921875 51.53125 44.890625 \nQ 49.859375 40.875 45.40625 35.40625 \nQ 44.1875 33.984375 37.640625 27.21875 \nQ 31.109375 20.453125 19.1875 8.296875 \nz\n\" id=\"DejaVuSans-50\"/>\n      </defs>\n      <g transform=\"translate(251.420157 308.716563)scale(0.1 -0.1)\">\n       <use xlink:href=\"#DejaVuSans-50\"/>\n       <use x=\"63.623047\" xlink:href=\"#DejaVuSans-48\"/>\n      </g>\n     </g>\n    </g>\n    <g id=\"xtick_6\">\n     <g id=\"line2d_6\">\n      <g>\n       <use style=\"stroke:#000000;stroke-width:0.8;\" x=\"305.080813\" xlink:href=\"#mf60dc0dd1a\" y=\"294.118125\"/>\n      </g>\n     </g>\n     <g id=\"text_6\">\n      <!-- 25 -->\n      <g transform=\"translate(298.718313 308.716563)scale(0.1 -0.1)\">\n       <use xlink:href=\"#DejaVuSans-50\"/>\n       <use x=\"63.623047\" xlink:href=\"#DejaVuSans-53\"/>\n      </g>\n     </g>\n    </g>\n    <g id=\"xtick_7\">\n     <g id=\"line2d_7\">\n      <g>\n       <use style=\"stroke:#000000;stroke-width:0.8;\" x=\"352.378969\" xlink:href=\"#mf60dc0dd1a\" y=\"294.118125\"/>\n      </g>\n     </g>\n     <g id=\"text_7\">\n      <!-- 30 -->\n      <defs>\n       <path d=\"M 40.578125 39.3125 \nQ 47.65625 37.796875 51.625 33 \nQ 55.609375 28.21875 55.609375 21.1875 \nQ 55.609375 10.40625 48.1875 4.484375 \nQ 40.765625 -1.421875 27.09375 -1.421875 \nQ 22.515625 -1.421875 17.65625 -0.515625 \nQ 12.796875 0.390625 7.625 2.203125 \nL 7.625 11.71875 \nQ 11.71875 9.328125 16.59375 8.109375 \nQ 21.484375 6.890625 26.8125 6.890625 \nQ 36.078125 6.890625 40.9375 10.546875 \nQ 45.796875 14.203125 45.796875 21.1875 \nQ 45.796875 27.640625 41.28125 31.265625 \nQ 36.765625 34.90625 28.71875 34.90625 \nL 20.21875 34.90625 \nL 20.21875 43.015625 \nL 29.109375 43.015625 \nQ 36.375 43.015625 40.234375 45.921875 \nQ 44.09375 48.828125 44.09375 54.296875 \nQ 44.09375 59.90625 40.109375 62.90625 \nQ 36.140625 65.921875 28.71875 65.921875 \nQ 24.65625 65.921875 20.015625 65.03125 \nQ 15.375 64.15625 9.8125 62.3125 \nL 9.8125 71.09375 \nQ 15.4375 72.65625 20.34375 73.4375 \nQ 25.25 74.21875 29.59375 74.21875 \nQ 40.828125 74.21875 47.359375 69.109375 \nQ 53.90625 64.015625 53.90625 55.328125 \nQ 53.90625 49.265625 50.4375 45.09375 \nQ 46.96875 40.921875 40.578125 39.3125 \nz\n\" id=\"DejaVuSans-51\"/>\n      </defs>\n      <g transform=\"translate(346.016469 308.716563)scale(0.1 -0.1)\">\n       <use xlink:href=\"#DejaVuSans-51\"/>\n       <use x=\"63.623047\" xlink:href=\"#DejaVuSans-48\"/>\n      </g>\n     </g>\n    </g>\n    <g id=\"xtick_8\">\n     <g id=\"line2d_8\">\n      <g>\n       <use style=\"stroke:#000000;stroke-width:0.8;\" x=\"399.677126\" xlink:href=\"#mf60dc0dd1a\" y=\"294.118125\"/>\n      </g>\n     </g>\n     <g id=\"text_8\">\n      <!-- 35 -->\n      <g transform=\"translate(393.314626 308.716563)scale(0.1 -0.1)\">\n       <use xlink:href=\"#DejaVuSans-51\"/>\n       <use x=\"63.623047\" xlink:href=\"#DejaVuSans-53\"/>\n      </g>\n     </g>\n    </g>\n    <g id=\"xtick_9\">\n     <g id=\"line2d_9\">\n      <g>\n       <use style=\"stroke:#000000;stroke-width:0.8;\" x=\"446.975282\" xlink:href=\"#mf60dc0dd1a\" y=\"294.118125\"/>\n      </g>\n     </g>\n     <g id=\"text_9\">\n      <!-- 40 -->\n      <defs>\n       <path d=\"M 37.796875 64.3125 \nL 12.890625 25.390625 \nL 37.796875 25.390625 \nz\nM 35.203125 72.90625 \nL 47.609375 72.90625 \nL 47.609375 25.390625 \nL 58.015625 25.390625 \nL 58.015625 17.1875 \nL 47.609375 17.1875 \nL 47.609375 0 \nL 37.796875 0 \nL 37.796875 17.1875 \nL 4.890625 17.1875 \nL 4.890625 26.703125 \nz\n\" id=\"DejaVuSans-52\"/>\n      </defs>\n      <g transform=\"translate(440.612782 308.716563)scale(0.1 -0.1)\">\n       <use xlink:href=\"#DejaVuSans-52\"/>\n       <use x=\"63.623047\" xlink:href=\"#DejaVuSans-48\"/>\n      </g>\n     </g>\n    </g>\n    <g id=\"text_10\">\n     <!-- Epochs -->\n     <defs>\n      <path d=\"M 9.8125 72.90625 \nL 55.90625 72.90625 \nL 55.90625 64.59375 \nL 19.671875 64.59375 \nL 19.671875 43.015625 \nL 54.390625 43.015625 \nL 54.390625 34.71875 \nL 19.671875 34.71875 \nL 19.671875 8.296875 \nL 56.78125 8.296875 \nL 56.78125 0 \nL 9.8125 0 \nz\n\" id=\"DejaVuSans-69\"/>\n      <path d=\"M 18.109375 8.203125 \nL 18.109375 -20.796875 \nL 9.078125 -20.796875 \nL 9.078125 54.6875 \nL 18.109375 54.6875 \nL 18.109375 46.390625 \nQ 20.953125 51.265625 25.265625 53.625 \nQ 29.59375 56 35.59375 56 \nQ 45.5625 56 51.78125 48.09375 \nQ 58.015625 40.1875 58.015625 27.296875 \nQ 58.015625 14.40625 51.78125 6.484375 \nQ 45.5625 -1.421875 35.59375 -1.421875 \nQ 29.59375 -1.421875 25.265625 0.953125 \nQ 20.953125 3.328125 18.109375 8.203125 \nz\nM 48.6875 27.296875 \nQ 48.6875 37.203125 44.609375 42.84375 \nQ 40.53125 48.484375 33.40625 48.484375 \nQ 26.265625 48.484375 22.1875 42.84375 \nQ 18.109375 37.203125 18.109375 27.296875 \nQ 18.109375 17.390625 22.1875 11.75 \nQ 26.265625 6.109375 33.40625 6.109375 \nQ 40.53125 6.109375 44.609375 11.75 \nQ 48.6875 17.390625 48.6875 27.296875 \nz\n\" id=\"DejaVuSans-112\"/>\n      <path d=\"M 30.609375 48.390625 \nQ 23.390625 48.390625 19.1875 42.75 \nQ 14.984375 37.109375 14.984375 27.296875 \nQ 14.984375 17.484375 19.15625 11.84375 \nQ 23.34375 6.203125 30.609375 6.203125 \nQ 37.796875 6.203125 41.984375 11.859375 \nQ 46.1875 17.53125 46.1875 27.296875 \nQ 46.1875 37.015625 41.984375 42.703125 \nQ 37.796875 48.390625 30.609375 48.390625 \nz\nM 30.609375 56 \nQ 42.328125 56 49.015625 48.375 \nQ 55.71875 40.765625 55.71875 27.296875 \nQ 55.71875 13.875 49.015625 6.21875 \nQ 42.328125 -1.421875 30.609375 -1.421875 \nQ 18.84375 -1.421875 12.171875 6.21875 \nQ 5.515625 13.875 5.515625 27.296875 \nQ 5.515625 40.765625 12.171875 48.375 \nQ 18.84375 56 30.609375 56 \nz\n\" id=\"DejaVuSans-111\"/>\n      <path d=\"M 48.78125 52.59375 \nL 48.78125 44.1875 \nQ 44.96875 46.296875 41.140625 47.34375 \nQ 37.3125 48.390625 33.40625 48.390625 \nQ 24.65625 48.390625 19.8125 42.84375 \nQ 14.984375 37.3125 14.984375 27.296875 \nQ 14.984375 17.28125 19.8125 11.734375 \nQ 24.65625 6.203125 33.40625 6.203125 \nQ 37.3125 6.203125 41.140625 7.25 \nQ 44.96875 8.296875 48.78125 10.40625 \nL 48.78125 2.09375 \nQ 45.015625 0.34375 40.984375 -0.53125 \nQ 36.96875 -1.421875 32.421875 -1.421875 \nQ 20.0625 -1.421875 12.78125 6.34375 \nQ 5.515625 14.109375 5.515625 27.296875 \nQ 5.515625 40.671875 12.859375 48.328125 \nQ 20.21875 56 33.015625 56 \nQ 37.15625 56 41.109375 55.140625 \nQ 45.0625 54.296875 48.78125 52.59375 \nz\n\" id=\"DejaVuSans-99\"/>\n      <path d=\"M 54.890625 33.015625 \nL 54.890625 0 \nL 45.90625 0 \nL 45.90625 32.71875 \nQ 45.90625 40.484375 42.875 44.328125 \nQ 39.84375 48.1875 33.796875 48.1875 \nQ 26.515625 48.1875 22.3125 43.546875 \nQ 18.109375 38.921875 18.109375 30.90625 \nL 18.109375 0 \nL 9.078125 0 \nL 9.078125 75.984375 \nL 18.109375 75.984375 \nL 18.109375 46.1875 \nQ 21.34375 51.125 25.703125 53.5625 \nQ 30.078125 56 35.796875 56 \nQ 45.21875 56 50.046875 50.171875 \nQ 54.890625 44.34375 54.890625 33.015625 \nz\n\" id=\"DejaVuSans-104\"/>\n      <path d=\"M 44.28125 53.078125 \nL 44.28125 44.578125 \nQ 40.484375 46.53125 36.375 47.5 \nQ 32.28125 48.484375 27.875 48.484375 \nQ 21.1875 48.484375 17.84375 46.4375 \nQ 14.5 44.390625 14.5 40.28125 \nQ 14.5 37.15625 16.890625 35.375 \nQ 19.28125 33.59375 26.515625 31.984375 \nL 29.59375 31.296875 \nQ 39.15625 29.25 43.1875 25.515625 \nQ 47.21875 21.78125 47.21875 15.09375 \nQ 47.21875 7.46875 41.1875 3.015625 \nQ 35.15625 -1.421875 24.609375 -1.421875 \nQ 20.21875 -1.421875 15.453125 -0.5625 \nQ 10.6875 0.296875 5.421875 2 \nL 5.421875 11.28125 \nQ 10.40625 8.6875 15.234375 7.390625 \nQ 20.0625 6.109375 24.8125 6.109375 \nQ 31.15625 6.109375 34.5625 8.28125 \nQ 37.984375 10.453125 37.984375 14.40625 \nQ 37.984375 18.0625 35.515625 20.015625 \nQ 33.0625 21.96875 24.703125 23.78125 \nL 21.578125 24.515625 \nQ 13.234375 26.265625 9.515625 29.90625 \nQ 5.8125 33.546875 5.8125 39.890625 \nQ 5.8125 47.609375 11.28125 51.796875 \nQ 16.75 56 26.8125 56 \nQ 31.78125 56 36.171875 55.265625 \nQ 40.578125 54.546875 44.28125 53.078125 \nz\n\" id=\"DejaVuSans-115\"/>\n     </defs>\n     <g transform=\"translate(235.137216 322.394687)scale(0.1 -0.1)\">\n      <use xlink:href=\"#DejaVuSans-69\"/>\n      <use x=\"63.183594\" xlink:href=\"#DejaVuSans-112\"/>\n      <use x=\"126.660156\" xlink:href=\"#DejaVuSans-111\"/>\n      <use x=\"187.841797\" xlink:href=\"#DejaVuSans-99\"/>\n      <use x=\"242.822266\" xlink:href=\"#DejaVuSans-104\"/>\n      <use x=\"306.201172\" xlink:href=\"#DejaVuSans-115\"/>\n     </g>\n    </g>\n   </g>\n   <g id=\"matplotlib.axis_2\">\n    <g id=\"ytick_1\">\n     <g id=\"line2d_10\">\n      <defs>\n       <path d=\"M 0 0 \nL -3.5 0 \n\" id=\"m489ec1946a\" style=\"stroke:#000000;stroke-width:0.8;\"/>\n      </defs>\n      <g>\n       <use style=\"stroke:#000000;stroke-width:0.8;\" x=\"50.14375\" xlink:href=\"#m489ec1946a\" y=\"293.682438\"/>\n      </g>\n     </g>\n     <g id=\"text_11\">\n      <!-- 0.35 -->\n      <defs>\n       <path d=\"M 10.6875 12.40625 \nL 21 12.40625 \nL 21 0 \nL 10.6875 0 \nz\n\" id=\"DejaVuSans-46\"/>\n      </defs>\n      <g transform=\"translate(20.878125 297.481657)scale(0.1 -0.1)\">\n       <use xlink:href=\"#DejaVuSans-48\"/>\n       <use x=\"63.623047\" xlink:href=\"#DejaVuSans-46\"/>\n       <use x=\"95.410156\" xlink:href=\"#DejaVuSans-51\"/>\n       <use x=\"159.033203\" xlink:href=\"#DejaVuSans-53\"/>\n      </g>\n     </g>\n    </g>\n    <g id=\"ytick_2\">\n     <g id=\"line2d_11\">\n      <g>\n       <use style=\"stroke:#000000;stroke-width:0.8;\" x=\"50.14375\" xlink:href=\"#m489ec1946a\" y=\"255.898449\"/>\n      </g>\n     </g>\n     <g id=\"text_12\">\n      <!-- 0.40 -->\n      <g transform=\"translate(20.878125 259.697668)scale(0.1 -0.1)\">\n       <use xlink:href=\"#DejaVuSans-48\"/>\n       <use x=\"63.623047\" xlink:href=\"#DejaVuSans-46\"/>\n       <use x=\"95.410156\" xlink:href=\"#DejaVuSans-52\"/>\n       <use x=\"159.033203\" xlink:href=\"#DejaVuSans-48\"/>\n      </g>\n     </g>\n    </g>\n    <g id=\"ytick_3\">\n     <g id=\"line2d_12\">\n      <g>\n       <use style=\"stroke:#000000;stroke-width:0.8;\" x=\"50.14375\" xlink:href=\"#m489ec1946a\" y=\"218.11446\"/>\n      </g>\n     </g>\n     <g id=\"text_13\">\n      <!-- 0.45 -->\n      <g transform=\"translate(20.878125 221.913679)scale(0.1 -0.1)\">\n       <use xlink:href=\"#DejaVuSans-48\"/>\n       <use x=\"63.623047\" xlink:href=\"#DejaVuSans-46\"/>\n       <use x=\"95.410156\" xlink:href=\"#DejaVuSans-52\"/>\n       <use x=\"159.033203\" xlink:href=\"#DejaVuSans-53\"/>\n      </g>\n     </g>\n    </g>\n    <g id=\"ytick_4\">\n     <g id=\"line2d_13\">\n      <g>\n       <use style=\"stroke:#000000;stroke-width:0.8;\" x=\"50.14375\" xlink:href=\"#m489ec1946a\" y=\"180.330471\"/>\n      </g>\n     </g>\n     <g id=\"text_14\">\n      <!-- 0.50 -->\n      <g transform=\"translate(20.878125 184.12969)scale(0.1 -0.1)\">\n       <use xlink:href=\"#DejaVuSans-48\"/>\n       <use x=\"63.623047\" xlink:href=\"#DejaVuSans-46\"/>\n       <use x=\"95.410156\" xlink:href=\"#DejaVuSans-53\"/>\n       <use x=\"159.033203\" xlink:href=\"#DejaVuSans-48\"/>\n      </g>\n     </g>\n    </g>\n    <g id=\"ytick_5\">\n     <g id=\"line2d_14\">\n      <g>\n       <use style=\"stroke:#000000;stroke-width:0.8;\" x=\"50.14375\" xlink:href=\"#m489ec1946a\" y=\"142.546482\"/>\n      </g>\n     </g>\n     <g id=\"text_15\">\n      <!-- 0.55 -->\n      <g transform=\"translate(20.878125 146.345701)scale(0.1 -0.1)\">\n       <use xlink:href=\"#DejaVuSans-48\"/>\n       <use x=\"63.623047\" xlink:href=\"#DejaVuSans-46\"/>\n       <use x=\"95.410156\" xlink:href=\"#DejaVuSans-53\"/>\n       <use x=\"159.033203\" xlink:href=\"#DejaVuSans-53\"/>\n      </g>\n     </g>\n    </g>\n    <g id=\"ytick_6\">\n     <g id=\"line2d_15\">\n      <g>\n       <use style=\"stroke:#000000;stroke-width:0.8;\" x=\"50.14375\" xlink:href=\"#m489ec1946a\" y=\"104.762493\"/>\n      </g>\n     </g>\n     <g id=\"text_16\">\n      <!-- 0.60 -->\n      <defs>\n       <path d=\"M 33.015625 40.375 \nQ 26.375 40.375 22.484375 35.828125 \nQ 18.609375 31.296875 18.609375 23.390625 \nQ 18.609375 15.53125 22.484375 10.953125 \nQ 26.375 6.390625 33.015625 6.390625 \nQ 39.65625 6.390625 43.53125 10.953125 \nQ 47.40625 15.53125 47.40625 23.390625 \nQ 47.40625 31.296875 43.53125 35.828125 \nQ 39.65625 40.375 33.015625 40.375 \nz\nM 52.59375 71.296875 \nL 52.59375 62.3125 \nQ 48.875 64.0625 45.09375 64.984375 \nQ 41.3125 65.921875 37.59375 65.921875 \nQ 27.828125 65.921875 22.671875 59.328125 \nQ 17.53125 52.734375 16.796875 39.40625 \nQ 19.671875 43.65625 24.015625 45.921875 \nQ 28.375 48.1875 33.59375 48.1875 \nQ 44.578125 48.1875 50.953125 41.515625 \nQ 57.328125 34.859375 57.328125 23.390625 \nQ 57.328125 12.15625 50.6875 5.359375 \nQ 44.046875 -1.421875 33.015625 -1.421875 \nQ 20.359375 -1.421875 13.671875 8.265625 \nQ 6.984375 17.96875 6.984375 36.375 \nQ 6.984375 53.65625 15.1875 63.9375 \nQ 23.390625 74.21875 37.203125 74.21875 \nQ 40.921875 74.21875 44.703125 73.484375 \nQ 48.484375 72.75 52.59375 71.296875 \nz\n\" id=\"DejaVuSans-54\"/>\n      </defs>\n      <g transform=\"translate(20.878125 108.561712)scale(0.1 -0.1)\">\n       <use xlink:href=\"#DejaVuSans-48\"/>\n       <use x=\"63.623047\" xlink:href=\"#DejaVuSans-46\"/>\n       <use x=\"95.410156\" xlink:href=\"#DejaVuSans-54\"/>\n       <use x=\"159.033203\" xlink:href=\"#DejaVuSans-48\"/>\n      </g>\n     </g>\n    </g>\n    <g id=\"ytick_7\">\n     <g id=\"line2d_16\">\n      <g>\n       <use style=\"stroke:#000000;stroke-width:0.8;\" x=\"50.14375\" xlink:href=\"#m489ec1946a\" y=\"66.978504\"/>\n      </g>\n     </g>\n     <g id=\"text_17\">\n      <!-- 0.65 -->\n      <g transform=\"translate(20.878125 70.777723)scale(0.1 -0.1)\">\n       <use xlink:href=\"#DejaVuSans-48\"/>\n       <use x=\"63.623047\" xlink:href=\"#DejaVuSans-46\"/>\n       <use x=\"95.410156\" xlink:href=\"#DejaVuSans-54\"/>\n       <use x=\"159.033203\" xlink:href=\"#DejaVuSans-53\"/>\n      </g>\n     </g>\n    </g>\n    <g id=\"ytick_8\">\n     <g id=\"line2d_17\">\n      <g>\n       <use style=\"stroke:#000000;stroke-width:0.8;\" x=\"50.14375\" xlink:href=\"#m489ec1946a\" y=\"29.194515\"/>\n      </g>\n     </g>\n     <g id=\"text_18\">\n      <!-- 0.70 -->\n      <defs>\n       <path d=\"M 8.203125 72.90625 \nL 55.078125 72.90625 \nL 55.078125 68.703125 \nL 28.609375 0 \nL 18.3125 0 \nL 43.21875 64.59375 \nL 8.203125 64.59375 \nz\n\" id=\"DejaVuSans-55\"/>\n      </defs>\n      <g transform=\"translate(20.878125 32.993734)scale(0.1 -0.1)\">\n       <use xlink:href=\"#DejaVuSans-48\"/>\n       <use x=\"63.623047\" xlink:href=\"#DejaVuSans-46\"/>\n       <use x=\"95.410156\" xlink:href=\"#DejaVuSans-55\"/>\n       <use x=\"159.033203\" xlink:href=\"#DejaVuSans-48\"/>\n      </g>\n     </g>\n    </g>\n    <g id=\"text_19\">\n     <!-- Loss -->\n     <defs>\n      <path d=\"M 9.8125 72.90625 \nL 19.671875 72.90625 \nL 19.671875 8.296875 \nL 55.171875 8.296875 \nL 55.171875 0 \nL 9.8125 0 \nz\n\" id=\"DejaVuSans-76\"/>\n     </defs>\n     <g transform=\"translate(14.798437 169.185313)rotate(-90)scale(0.1 -0.1)\">\n      <use xlink:href=\"#DejaVuSans-76\"/>\n      <use x=\"53.962891\" xlink:href=\"#DejaVuSans-111\"/>\n      <use x=\"115.144531\" xlink:href=\"#DejaVuSans-115\"/>\n      <use x=\"167.244141\" xlink:href=\"#DejaVuSans-115\"/>\n     </g>\n    </g>\n   </g>\n   <g id=\"line2d_18\">\n    <path clip-path=\"url(#p453bc4feac)\" d=\"M 68.590031 37.228625 \nL 78.049662 36.898287 \nL 87.509294 37.533875 \nL 96.968925 38.717895 \nL 106.428556 37.977584 \nL 115.888187 39.66711 \nL 125.347819 37.051655 \nL 134.80745 38.016005 \nL 144.267081 40.93171 \nL 153.726712 42.094966 \nL 163.186344 41.511716 \nL 172.645975 42.154466 \nL 182.105606 42.785595 \nL 191.565238 45.123636 \nL 201.024869 47.796115 \nL 210.4845 51.543836 \nL 219.944131 52.597865 \nL 229.403763 58.935323 \nL 238.863394 63.268546 \nL 248.323025 72.215784 \nL 257.782657 81.19356 \nL 267.242288 91.461205 \nL 276.701919 105.010567 \nL 286.16155 121.287538 \nL 295.621182 138.757133 \nL 305.080813 154.353429 \nL 314.540444 168.607699 \nL 324.000075 178.135123 \nL 333.459707 190.944219 \nL 342.919338 196.531975 \nL 352.378969 210.688526 \nL 361.838601 213.732826 \nL 371.298232 217.794491 \nL 380.757863 232.911743 \nL 390.217494 249.602245 \nL 399.677126 248.524547 \nL 409.136757 258.79512 \nL 418.596388 261.115009 \nL 428.05602 281.76358 \nL 437.515651 276.054435 \n\" style=\"fill:none;stroke:#1f77b4;stroke-linecap:square;stroke-width:1.5;\"/>\n    <defs>\n     <path d=\"M -3 3 \nL 3 3 \nL 3 -3 \nL -3 -3 \nz\n\" id=\"me142686ed9\" style=\"stroke:#1f77b4;stroke-linejoin:miter;\"/>\n    </defs>\n    <g clip-path=\"url(#p453bc4feac)\">\n     <use style=\"fill:#1f77b4;stroke:#1f77b4;stroke-linejoin:miter;\" x=\"68.590031\" xlink:href=\"#me142686ed9\" y=\"37.228625\"/>\n     <use style=\"fill:#1f77b4;stroke:#1f77b4;stroke-linejoin:miter;\" x=\"78.049662\" xlink:href=\"#me142686ed9\" y=\"36.898287\"/>\n     <use style=\"fill:#1f77b4;stroke:#1f77b4;stroke-linejoin:miter;\" x=\"87.509294\" xlink:href=\"#me142686ed9\" y=\"37.533875\"/>\n     <use style=\"fill:#1f77b4;stroke:#1f77b4;stroke-linejoin:miter;\" x=\"96.968925\" xlink:href=\"#me142686ed9\" y=\"38.717895\"/>\n     <use style=\"fill:#1f77b4;stroke:#1f77b4;stroke-linejoin:miter;\" x=\"106.428556\" xlink:href=\"#me142686ed9\" y=\"37.977584\"/>\n     <use style=\"fill:#1f77b4;stroke:#1f77b4;stroke-linejoin:miter;\" x=\"115.888187\" xlink:href=\"#me142686ed9\" y=\"39.66711\"/>\n     <use style=\"fill:#1f77b4;stroke:#1f77b4;stroke-linejoin:miter;\" x=\"125.347819\" xlink:href=\"#me142686ed9\" y=\"37.051655\"/>\n     <use style=\"fill:#1f77b4;stroke:#1f77b4;stroke-linejoin:miter;\" x=\"134.80745\" xlink:href=\"#me142686ed9\" y=\"38.016005\"/>\n     <use style=\"fill:#1f77b4;stroke:#1f77b4;stroke-linejoin:miter;\" x=\"144.267081\" xlink:href=\"#me142686ed9\" y=\"40.93171\"/>\n     <use style=\"fill:#1f77b4;stroke:#1f77b4;stroke-linejoin:miter;\" x=\"153.726712\" xlink:href=\"#me142686ed9\" y=\"42.094966\"/>\n     <use style=\"fill:#1f77b4;stroke:#1f77b4;stroke-linejoin:miter;\" x=\"163.186344\" xlink:href=\"#me142686ed9\" y=\"41.511716\"/>\n     <use style=\"fill:#1f77b4;stroke:#1f77b4;stroke-linejoin:miter;\" x=\"172.645975\" xlink:href=\"#me142686ed9\" y=\"42.154466\"/>\n     <use style=\"fill:#1f77b4;stroke:#1f77b4;stroke-linejoin:miter;\" x=\"182.105606\" xlink:href=\"#me142686ed9\" y=\"42.785595\"/>\n     <use style=\"fill:#1f77b4;stroke:#1f77b4;stroke-linejoin:miter;\" x=\"191.565238\" xlink:href=\"#me142686ed9\" y=\"45.123636\"/>\n     <use style=\"fill:#1f77b4;stroke:#1f77b4;stroke-linejoin:miter;\" x=\"201.024869\" xlink:href=\"#me142686ed9\" y=\"47.796115\"/>\n     <use style=\"fill:#1f77b4;stroke:#1f77b4;stroke-linejoin:miter;\" x=\"210.4845\" xlink:href=\"#me142686ed9\" y=\"51.543836\"/>\n     <use style=\"fill:#1f77b4;stroke:#1f77b4;stroke-linejoin:miter;\" x=\"219.944131\" xlink:href=\"#me142686ed9\" y=\"52.597865\"/>\n     <use style=\"fill:#1f77b4;stroke:#1f77b4;stroke-linejoin:miter;\" x=\"229.403763\" xlink:href=\"#me142686ed9\" y=\"58.935323\"/>\n     <use style=\"fill:#1f77b4;stroke:#1f77b4;stroke-linejoin:miter;\" x=\"238.863394\" xlink:href=\"#me142686ed9\" y=\"63.268546\"/>\n     <use style=\"fill:#1f77b4;stroke:#1f77b4;stroke-linejoin:miter;\" x=\"248.323025\" xlink:href=\"#me142686ed9\" y=\"72.215784\"/>\n     <use style=\"fill:#1f77b4;stroke:#1f77b4;stroke-linejoin:miter;\" x=\"257.782657\" xlink:href=\"#me142686ed9\" y=\"81.19356\"/>\n     <use style=\"fill:#1f77b4;stroke:#1f77b4;stroke-linejoin:miter;\" x=\"267.242288\" xlink:href=\"#me142686ed9\" y=\"91.461205\"/>\n     <use style=\"fill:#1f77b4;stroke:#1f77b4;stroke-linejoin:miter;\" x=\"276.701919\" xlink:href=\"#me142686ed9\" y=\"105.010567\"/>\n     <use style=\"fill:#1f77b4;stroke:#1f77b4;stroke-linejoin:miter;\" x=\"286.16155\" xlink:href=\"#me142686ed9\" y=\"121.287538\"/>\n     <use style=\"fill:#1f77b4;stroke:#1f77b4;stroke-linejoin:miter;\" x=\"295.621182\" xlink:href=\"#me142686ed9\" y=\"138.757133\"/>\n     <use style=\"fill:#1f77b4;stroke:#1f77b4;stroke-linejoin:miter;\" x=\"305.080813\" xlink:href=\"#me142686ed9\" y=\"154.353429\"/>\n     <use style=\"fill:#1f77b4;stroke:#1f77b4;stroke-linejoin:miter;\" x=\"314.540444\" xlink:href=\"#me142686ed9\" y=\"168.607699\"/>\n     <use style=\"fill:#1f77b4;stroke:#1f77b4;stroke-linejoin:miter;\" x=\"324.000075\" xlink:href=\"#me142686ed9\" y=\"178.135123\"/>\n     <use style=\"fill:#1f77b4;stroke:#1f77b4;stroke-linejoin:miter;\" x=\"333.459707\" xlink:href=\"#me142686ed9\" y=\"190.944219\"/>\n     <use style=\"fill:#1f77b4;stroke:#1f77b4;stroke-linejoin:miter;\" x=\"342.919338\" xlink:href=\"#me142686ed9\" y=\"196.531975\"/>\n     <use style=\"fill:#1f77b4;stroke:#1f77b4;stroke-linejoin:miter;\" x=\"352.378969\" xlink:href=\"#me142686ed9\" y=\"210.688526\"/>\n     <use style=\"fill:#1f77b4;stroke:#1f77b4;stroke-linejoin:miter;\" x=\"361.838601\" xlink:href=\"#me142686ed9\" y=\"213.732826\"/>\n     <use style=\"fill:#1f77b4;stroke:#1f77b4;stroke-linejoin:miter;\" x=\"371.298232\" xlink:href=\"#me142686ed9\" y=\"217.794491\"/>\n     <use style=\"fill:#1f77b4;stroke:#1f77b4;stroke-linejoin:miter;\" x=\"380.757863\" xlink:href=\"#me142686ed9\" y=\"232.911743\"/>\n     <use style=\"fill:#1f77b4;stroke:#1f77b4;stroke-linejoin:miter;\" x=\"390.217494\" xlink:href=\"#me142686ed9\" y=\"249.602245\"/>\n     <use style=\"fill:#1f77b4;stroke:#1f77b4;stroke-linejoin:miter;\" x=\"399.677126\" xlink:href=\"#me142686ed9\" y=\"248.524547\"/>\n     <use style=\"fill:#1f77b4;stroke:#1f77b4;stroke-linejoin:miter;\" x=\"409.136757\" xlink:href=\"#me142686ed9\" y=\"258.79512\"/>\n     <use style=\"fill:#1f77b4;stroke:#1f77b4;stroke-linejoin:miter;\" x=\"418.596388\" xlink:href=\"#me142686ed9\" y=\"261.115009\"/>\n     <use style=\"fill:#1f77b4;stroke:#1f77b4;stroke-linejoin:miter;\" x=\"428.05602\" xlink:href=\"#me142686ed9\" y=\"281.76358\"/>\n     <use style=\"fill:#1f77b4;stroke:#1f77b4;stroke-linejoin:miter;\" x=\"437.515651\" xlink:href=\"#me142686ed9\" y=\"276.054435\"/>\n    </g>\n   </g>\n   <g id=\"line2d_19\">\n    <path clip-path=\"url(#p453bc4feac)\" d=\"M 68.590031 34.67267 \nL 78.049662 34.821309 \nL 87.509294 34.985803 \nL 96.968925 35.14881 \nL 106.428556 35.370056 \nL 115.888187 35.623102 \nL 125.347819 35.967899 \nL 134.80745 36.363143 \nL 144.267081 36.933375 \nL 153.726712 37.667605 \nL 163.186344 38.64826 \nL 172.645975 39.850702 \nL 182.105606 41.263084 \nL 191.565238 43.186334 \nL 201.024869 45.578336 \nL 210.4845 48.354816 \nL 219.944131 52.113753 \nL 229.403763 56.828662 \nL 238.863394 62.602644 \nL 248.323025 70.535491 \nL 257.782657 80.368841 \nL 267.242288 92.211965 \nL 276.701919 106.24107 \nL 286.16155 121.243848 \nL 295.621182 135.513611 \nL 305.080813 150.592375 \nL 314.540444 161.822343 \nL 324.000075 170.945109 \nL 333.459707 179.722899 \nL 342.919338 185.217486 \nL 352.378969 191.137494 \nL 361.838601 197.171166 \nL 371.298232 203.581029 \nL 380.757863 207.216011 \nL 390.217494 213.808384 \nL 399.677126 220.22167 \nL 409.136757 224.144605 \nL 418.596388 227.256559 \nL 428.05602 230.411032 \nL 437.515651 231.798957 \n\" style=\"fill:none;stroke:#ff7f0e;stroke-linecap:square;stroke-width:1.5;\"/>\n    <defs>\n     <path d=\"M -3 3 \nL 3 3 \nL 3 -3 \nL -3 -3 \nz\n\" id=\"mac46d06afa\" style=\"stroke:#ff7f0e;stroke-linejoin:miter;\"/>\n    </defs>\n    <g clip-path=\"url(#p453bc4feac)\">\n     <use style=\"fill:#ff7f0e;stroke:#ff7f0e;stroke-linejoin:miter;\" x=\"68.590031\" xlink:href=\"#mac46d06afa\" y=\"34.67267\"/>\n     <use style=\"fill:#ff7f0e;stroke:#ff7f0e;stroke-linejoin:miter;\" x=\"78.049662\" xlink:href=\"#mac46d06afa\" y=\"34.821309\"/>\n     <use style=\"fill:#ff7f0e;stroke:#ff7f0e;stroke-linejoin:miter;\" x=\"87.509294\" xlink:href=\"#mac46d06afa\" y=\"34.985803\"/>\n     <use style=\"fill:#ff7f0e;stroke:#ff7f0e;stroke-linejoin:miter;\" x=\"96.968925\" xlink:href=\"#mac46d06afa\" y=\"35.14881\"/>\n     <use style=\"fill:#ff7f0e;stroke:#ff7f0e;stroke-linejoin:miter;\" x=\"106.428556\" xlink:href=\"#mac46d06afa\" y=\"35.370056\"/>\n     <use style=\"fill:#ff7f0e;stroke:#ff7f0e;stroke-linejoin:miter;\" x=\"115.888187\" xlink:href=\"#mac46d06afa\" y=\"35.623102\"/>\n     <use style=\"fill:#ff7f0e;stroke:#ff7f0e;stroke-linejoin:miter;\" x=\"125.347819\" xlink:href=\"#mac46d06afa\" y=\"35.967899\"/>\n     <use style=\"fill:#ff7f0e;stroke:#ff7f0e;stroke-linejoin:miter;\" x=\"134.80745\" xlink:href=\"#mac46d06afa\" y=\"36.363143\"/>\n     <use style=\"fill:#ff7f0e;stroke:#ff7f0e;stroke-linejoin:miter;\" x=\"144.267081\" xlink:href=\"#mac46d06afa\" y=\"36.933375\"/>\n     <use style=\"fill:#ff7f0e;stroke:#ff7f0e;stroke-linejoin:miter;\" x=\"153.726712\" xlink:href=\"#mac46d06afa\" y=\"37.667605\"/>\n     <use style=\"fill:#ff7f0e;stroke:#ff7f0e;stroke-linejoin:miter;\" x=\"163.186344\" xlink:href=\"#mac46d06afa\" y=\"38.64826\"/>\n     <use style=\"fill:#ff7f0e;stroke:#ff7f0e;stroke-linejoin:miter;\" x=\"172.645975\" xlink:href=\"#mac46d06afa\" y=\"39.850702\"/>\n     <use style=\"fill:#ff7f0e;stroke:#ff7f0e;stroke-linejoin:miter;\" x=\"182.105606\" xlink:href=\"#mac46d06afa\" y=\"41.263084\"/>\n     <use style=\"fill:#ff7f0e;stroke:#ff7f0e;stroke-linejoin:miter;\" x=\"191.565238\" xlink:href=\"#mac46d06afa\" y=\"43.186334\"/>\n     <use style=\"fill:#ff7f0e;stroke:#ff7f0e;stroke-linejoin:miter;\" x=\"201.024869\" xlink:href=\"#mac46d06afa\" y=\"45.578336\"/>\n     <use style=\"fill:#ff7f0e;stroke:#ff7f0e;stroke-linejoin:miter;\" x=\"210.4845\" xlink:href=\"#mac46d06afa\" y=\"48.354816\"/>\n     <use style=\"fill:#ff7f0e;stroke:#ff7f0e;stroke-linejoin:miter;\" x=\"219.944131\" xlink:href=\"#mac46d06afa\" y=\"52.113753\"/>\n     <use style=\"fill:#ff7f0e;stroke:#ff7f0e;stroke-linejoin:miter;\" x=\"229.403763\" xlink:href=\"#mac46d06afa\" y=\"56.828662\"/>\n     <use style=\"fill:#ff7f0e;stroke:#ff7f0e;stroke-linejoin:miter;\" x=\"238.863394\" xlink:href=\"#mac46d06afa\" y=\"62.602644\"/>\n     <use style=\"fill:#ff7f0e;stroke:#ff7f0e;stroke-linejoin:miter;\" x=\"248.323025\" xlink:href=\"#mac46d06afa\" y=\"70.535491\"/>\n     <use style=\"fill:#ff7f0e;stroke:#ff7f0e;stroke-linejoin:miter;\" x=\"257.782657\" xlink:href=\"#mac46d06afa\" y=\"80.368841\"/>\n     <use style=\"fill:#ff7f0e;stroke:#ff7f0e;stroke-linejoin:miter;\" x=\"267.242288\" xlink:href=\"#mac46d06afa\" y=\"92.211965\"/>\n     <use style=\"fill:#ff7f0e;stroke:#ff7f0e;stroke-linejoin:miter;\" x=\"276.701919\" xlink:href=\"#mac46d06afa\" y=\"106.24107\"/>\n     <use style=\"fill:#ff7f0e;stroke:#ff7f0e;stroke-linejoin:miter;\" x=\"286.16155\" xlink:href=\"#mac46d06afa\" y=\"121.243848\"/>\n     <use style=\"fill:#ff7f0e;stroke:#ff7f0e;stroke-linejoin:miter;\" x=\"295.621182\" xlink:href=\"#mac46d06afa\" y=\"135.513611\"/>\n     <use style=\"fill:#ff7f0e;stroke:#ff7f0e;stroke-linejoin:miter;\" x=\"305.080813\" xlink:href=\"#mac46d06afa\" y=\"150.592375\"/>\n     <use style=\"fill:#ff7f0e;stroke:#ff7f0e;stroke-linejoin:miter;\" x=\"314.540444\" xlink:href=\"#mac46d06afa\" y=\"161.822343\"/>\n     <use style=\"fill:#ff7f0e;stroke:#ff7f0e;stroke-linejoin:miter;\" x=\"324.000075\" xlink:href=\"#mac46d06afa\" y=\"170.945109\"/>\n     <use style=\"fill:#ff7f0e;stroke:#ff7f0e;stroke-linejoin:miter;\" x=\"333.459707\" xlink:href=\"#mac46d06afa\" y=\"179.722899\"/>\n     <use style=\"fill:#ff7f0e;stroke:#ff7f0e;stroke-linejoin:miter;\" x=\"342.919338\" xlink:href=\"#mac46d06afa\" y=\"185.217486\"/>\n     <use style=\"fill:#ff7f0e;stroke:#ff7f0e;stroke-linejoin:miter;\" x=\"352.378969\" xlink:href=\"#mac46d06afa\" y=\"191.137494\"/>\n     <use style=\"fill:#ff7f0e;stroke:#ff7f0e;stroke-linejoin:miter;\" x=\"361.838601\" xlink:href=\"#mac46d06afa\" y=\"197.171166\"/>\n     <use style=\"fill:#ff7f0e;stroke:#ff7f0e;stroke-linejoin:miter;\" x=\"371.298232\" xlink:href=\"#mac46d06afa\" y=\"203.581029\"/>\n     <use style=\"fill:#ff7f0e;stroke:#ff7f0e;stroke-linejoin:miter;\" x=\"380.757863\" xlink:href=\"#mac46d06afa\" y=\"207.216011\"/>\n     <use style=\"fill:#ff7f0e;stroke:#ff7f0e;stroke-linejoin:miter;\" x=\"390.217494\" xlink:href=\"#mac46d06afa\" y=\"213.808384\"/>\n     <use style=\"fill:#ff7f0e;stroke:#ff7f0e;stroke-linejoin:miter;\" x=\"399.677126\" xlink:href=\"#mac46d06afa\" y=\"220.22167\"/>\n     <use style=\"fill:#ff7f0e;stroke:#ff7f0e;stroke-linejoin:miter;\" x=\"409.136757\" xlink:href=\"#mac46d06afa\" y=\"224.144605\"/>\n     <use style=\"fill:#ff7f0e;stroke:#ff7f0e;stroke-linejoin:miter;\" x=\"418.596388\" xlink:href=\"#mac46d06afa\" y=\"227.256559\"/>\n     <use style=\"fill:#ff7f0e;stroke:#ff7f0e;stroke-linejoin:miter;\" x=\"428.05602\" xlink:href=\"#mac46d06afa\" y=\"230.411032\"/>\n     <use style=\"fill:#ff7f0e;stroke:#ff7f0e;stroke-linejoin:miter;\" x=\"437.515651\" xlink:href=\"#mac46d06afa\" y=\"231.798957\"/>\n    </g>\n   </g>\n   <g id=\"patch_3\">\n    <path d=\"M 50.14375 294.118125 \nL 50.14375 22.318125 \n\" style=\"fill:none;stroke:#000000;stroke-linecap:square;stroke-linejoin:miter;stroke-width:0.8;\"/>\n   </g>\n   <g id=\"patch_4\">\n    <path d=\"M 455.961932 294.118125 \nL 455.961932 22.318125 \n\" style=\"fill:none;stroke:#000000;stroke-linecap:square;stroke-linejoin:miter;stroke-width:0.8;\"/>\n   </g>\n   <g id=\"patch_5\">\n    <path d=\"M 50.14375 294.118125 \nL 455.961932 294.118125 \n\" style=\"fill:none;stroke:#000000;stroke-linecap:square;stroke-linejoin:miter;stroke-width:0.8;\"/>\n   </g>\n   <g id=\"patch_6\">\n    <path d=\"M 50.14375 22.318125 \nL 455.961932 22.318125 \n\" style=\"fill:none;stroke:#000000;stroke-linecap:square;stroke-linejoin:miter;stroke-width:0.8;\"/>\n   </g>\n   <g id=\"text_20\">\n    <!-- Model loss -->\n    <defs>\n     <path d=\"M 9.8125 72.90625 \nL 24.515625 72.90625 \nL 43.109375 23.296875 \nL 61.8125 72.90625 \nL 76.515625 72.90625 \nL 76.515625 0 \nL 66.890625 0 \nL 66.890625 64.015625 \nL 48.09375 14.015625 \nL 38.1875 14.015625 \nL 19.390625 64.015625 \nL 19.390625 0 \nL 9.8125 0 \nz\n\" id=\"DejaVuSans-77\"/>\n     <path d=\"M 45.40625 46.390625 \nL 45.40625 75.984375 \nL 54.390625 75.984375 \nL 54.390625 0 \nL 45.40625 0 \nL 45.40625 8.203125 \nQ 42.578125 3.328125 38.25 0.953125 \nQ 33.9375 -1.421875 27.875 -1.421875 \nQ 17.96875 -1.421875 11.734375 6.484375 \nQ 5.515625 14.40625 5.515625 27.296875 \nQ 5.515625 40.1875 11.734375 48.09375 \nQ 17.96875 56 27.875 56 \nQ 33.9375 56 38.25 53.625 \nQ 42.578125 51.265625 45.40625 46.390625 \nz\nM 14.796875 27.296875 \nQ 14.796875 17.390625 18.875 11.75 \nQ 22.953125 6.109375 30.078125 6.109375 \nQ 37.203125 6.109375 41.296875 11.75 \nQ 45.40625 17.390625 45.40625 27.296875 \nQ 45.40625 37.203125 41.296875 42.84375 \nQ 37.203125 48.484375 30.078125 48.484375 \nQ 22.953125 48.484375 18.875 42.84375 \nQ 14.796875 37.203125 14.796875 27.296875 \nz\n\" id=\"DejaVuSans-100\"/>\n     <path d=\"M 56.203125 29.59375 \nL 56.203125 25.203125 \nL 14.890625 25.203125 \nQ 15.484375 15.921875 20.484375 11.0625 \nQ 25.484375 6.203125 34.421875 6.203125 \nQ 39.59375 6.203125 44.453125 7.46875 \nQ 49.3125 8.734375 54.109375 11.28125 \nL 54.109375 2.78125 \nQ 49.265625 0.734375 44.1875 -0.34375 \nQ 39.109375 -1.421875 33.890625 -1.421875 \nQ 20.796875 -1.421875 13.15625 6.1875 \nQ 5.515625 13.8125 5.515625 26.8125 \nQ 5.515625 40.234375 12.765625 48.109375 \nQ 20.015625 56 32.328125 56 \nQ 43.359375 56 49.78125 48.890625 \nQ 56.203125 41.796875 56.203125 29.59375 \nz\nM 47.21875 32.234375 \nQ 47.125 39.59375 43.09375 43.984375 \nQ 39.0625 48.390625 32.421875 48.390625 \nQ 24.90625 48.390625 20.390625 44.140625 \nQ 15.875 39.890625 15.1875 32.171875 \nz\n\" id=\"DejaVuSans-101\"/>\n     <path d=\"M 9.421875 75.984375 \nL 18.40625 75.984375 \nL 18.40625 0 \nL 9.421875 0 \nz\n\" id=\"DejaVuSans-108\"/>\n     <path id=\"DejaVuSans-32\"/>\n    </defs>\n    <g transform=\"translate(221.540653 16.318125)scale(0.12 -0.12)\">\n     <use xlink:href=\"#DejaVuSans-77\"/>\n     <use x=\"86.279297\" xlink:href=\"#DejaVuSans-111\"/>\n     <use x=\"147.460938\" xlink:href=\"#DejaVuSans-100\"/>\n     <use x=\"210.9375\" xlink:href=\"#DejaVuSans-101\"/>\n     <use x=\"272.460938\" xlink:href=\"#DejaVuSans-108\"/>\n     <use x=\"300.244141\" xlink:href=\"#DejaVuSans-32\"/>\n     <use x=\"332.03125\" xlink:href=\"#DejaVuSans-108\"/>\n     <use x=\"359.814453\" xlink:href=\"#DejaVuSans-111\"/>\n     <use x=\"420.996094\" xlink:href=\"#DejaVuSans-115\"/>\n     <use x=\"473.095703\" xlink:href=\"#DejaVuSans-115\"/>\n    </g>\n   </g>\n  </g>\n  <g id=\"axes_2\">\n   <g id=\"patch_7\">\n    <path d=\"M 537.125568 294.118125 \nL 942.94375 294.118125 \nL 942.94375 22.318125 \nL 537.125568 22.318125 \nz\n\" style=\"fill:#ffffff;\"/>\n   </g>\n   <g id=\"matplotlib.axis_3\">\n    <g id=\"xtick_10\">\n     <g id=\"line2d_20\">\n      <g>\n       <use style=\"stroke:#000000;stroke-width:0.8;\" x=\"555.571849\" xlink:href=\"#mf60dc0dd1a\" y=\"294.118125\"/>\n      </g>\n     </g>\n     <g id=\"text_21\">\n      <!-- 0 -->\n      <g transform=\"translate(552.390599 308.716563)scale(0.1 -0.1)\">\n       <use xlink:href=\"#DejaVuSans-48\"/>\n      </g>\n     </g>\n    </g>\n    <g id=\"xtick_11\">\n     <g id=\"line2d_21\">\n      <g>\n       <use style=\"stroke:#000000;stroke-width:0.8;\" x=\"602.870006\" xlink:href=\"#mf60dc0dd1a\" y=\"294.118125\"/>\n      </g>\n     </g>\n     <g id=\"text_22\">\n      <!-- 5 -->\n      <g transform=\"translate(599.688756 308.716563)scale(0.1 -0.1)\">\n       <use xlink:href=\"#DejaVuSans-53\"/>\n      </g>\n     </g>\n    </g>\n    <g id=\"xtick_12\">\n     <g id=\"line2d_22\">\n      <g>\n       <use style=\"stroke:#000000;stroke-width:0.8;\" x=\"650.168162\" xlink:href=\"#mf60dc0dd1a\" y=\"294.118125\"/>\n      </g>\n     </g>\n     <g id=\"text_23\">\n      <!-- 10 -->\n      <g transform=\"translate(643.805662 308.716563)scale(0.1 -0.1)\">\n       <use xlink:href=\"#DejaVuSans-49\"/>\n       <use x=\"63.623047\" xlink:href=\"#DejaVuSans-48\"/>\n      </g>\n     </g>\n    </g>\n    <g id=\"xtick_13\">\n     <g id=\"line2d_23\">\n      <g>\n       <use style=\"stroke:#000000;stroke-width:0.8;\" x=\"697.466318\" xlink:href=\"#mf60dc0dd1a\" y=\"294.118125\"/>\n      </g>\n     </g>\n     <g id=\"text_24\">\n      <!-- 15 -->\n      <g transform=\"translate(691.103818 308.716563)scale(0.1 -0.1)\">\n       <use xlink:href=\"#DejaVuSans-49\"/>\n       <use x=\"63.623047\" xlink:href=\"#DejaVuSans-53\"/>\n      </g>\n     </g>\n    </g>\n    <g id=\"xtick_14\">\n     <g id=\"line2d_24\">\n      <g>\n       <use style=\"stroke:#000000;stroke-width:0.8;\" x=\"744.764475\" xlink:href=\"#mf60dc0dd1a\" y=\"294.118125\"/>\n      </g>\n     </g>\n     <g id=\"text_25\">\n      <!-- 20 -->\n      <g transform=\"translate(738.401975 308.716563)scale(0.1 -0.1)\">\n       <use xlink:href=\"#DejaVuSans-50\"/>\n       <use x=\"63.623047\" xlink:href=\"#DejaVuSans-48\"/>\n      </g>\n     </g>\n    </g>\n    <g id=\"xtick_15\">\n     <g id=\"line2d_25\">\n      <g>\n       <use style=\"stroke:#000000;stroke-width:0.8;\" x=\"792.062631\" xlink:href=\"#mf60dc0dd1a\" y=\"294.118125\"/>\n      </g>\n     </g>\n     <g id=\"text_26\">\n      <!-- 25 -->\n      <g transform=\"translate(785.700131 308.716563)scale(0.1 -0.1)\">\n       <use xlink:href=\"#DejaVuSans-50\"/>\n       <use x=\"63.623047\" xlink:href=\"#DejaVuSans-53\"/>\n      </g>\n     </g>\n    </g>\n    <g id=\"xtick_16\">\n     <g id=\"line2d_26\">\n      <g>\n       <use style=\"stroke:#000000;stroke-width:0.8;\" x=\"839.360788\" xlink:href=\"#mf60dc0dd1a\" y=\"294.118125\"/>\n      </g>\n     </g>\n     <g id=\"text_27\">\n      <!-- 30 -->\n      <g transform=\"translate(832.998288 308.716563)scale(0.1 -0.1)\">\n       <use xlink:href=\"#DejaVuSans-51\"/>\n       <use x=\"63.623047\" xlink:href=\"#DejaVuSans-48\"/>\n      </g>\n     </g>\n    </g>\n    <g id=\"xtick_17\">\n     <g id=\"line2d_27\">\n      <g>\n       <use style=\"stroke:#000000;stroke-width:0.8;\" x=\"886.658944\" xlink:href=\"#mf60dc0dd1a\" y=\"294.118125\"/>\n      </g>\n     </g>\n     <g id=\"text_28\">\n      <!-- 35 -->\n      <g transform=\"translate(880.296444 308.716563)scale(0.1 -0.1)\">\n       <use xlink:href=\"#DejaVuSans-51\"/>\n       <use x=\"63.623047\" xlink:href=\"#DejaVuSans-53\"/>\n      </g>\n     </g>\n    </g>\n    <g id=\"xtick_18\">\n     <g id=\"line2d_28\">\n      <g>\n       <use style=\"stroke:#000000;stroke-width:0.8;\" x=\"933.9571\" xlink:href=\"#mf60dc0dd1a\" y=\"294.118125\"/>\n      </g>\n     </g>\n     <g id=\"text_29\">\n      <!-- 40 -->\n      <g transform=\"translate(927.5946 308.716563)scale(0.1 -0.1)\">\n       <use xlink:href=\"#DejaVuSans-52\"/>\n       <use x=\"63.623047\" xlink:href=\"#DejaVuSans-48\"/>\n      </g>\n     </g>\n    </g>\n    <g id=\"text_30\">\n     <!-- Epochs -->\n     <g transform=\"translate(722.119034 322.394687)scale(0.1 -0.1)\">\n      <use xlink:href=\"#DejaVuSans-69\"/>\n      <use x=\"63.183594\" xlink:href=\"#DejaVuSans-112\"/>\n      <use x=\"126.660156\" xlink:href=\"#DejaVuSans-111\"/>\n      <use x=\"187.841797\" xlink:href=\"#DejaVuSans-99\"/>\n      <use x=\"242.822266\" xlink:href=\"#DejaVuSans-104\"/>\n      <use x=\"306.201172\" xlink:href=\"#DejaVuSans-115\"/>\n     </g>\n    </g>\n   </g>\n   <g id=\"matplotlib.axis_4\">\n    <g id=\"ytick_9\">\n     <g id=\"line2d_29\">\n      <g>\n       <use style=\"stroke:#000000;stroke-width:0.8;\" x=\"537.125568\" xlink:href=\"#m489ec1946a\" y=\"260.143134\"/>\n      </g>\n     </g>\n     <g id=\"text_31\">\n      <!-- 40 -->\n      <g transform=\"translate(517.400568 263.942353)scale(0.1 -0.1)\">\n       <use xlink:href=\"#DejaVuSans-52\"/>\n       <use x=\"63.623047\" xlink:href=\"#DejaVuSans-48\"/>\n      </g>\n     </g>\n    </g>\n    <g id=\"ytick_10\">\n     <g id=\"line2d_30\">\n      <g>\n       <use style=\"stroke:#000000;stroke-width:0.8;\" x=\"537.125568\" xlink:href=\"#m489ec1946a\" y=\"219.99086\"/>\n      </g>\n     </g>\n     <g id=\"text_32\">\n      <!-- 50 -->\n      <g transform=\"translate(517.400568 223.790079)scale(0.1 -0.1)\">\n       <use xlink:href=\"#DejaVuSans-53\"/>\n       <use x=\"63.623047\" xlink:href=\"#DejaVuSans-48\"/>\n      </g>\n     </g>\n    </g>\n    <g id=\"ytick_11\">\n     <g id=\"line2d_31\">\n      <g>\n       <use style=\"stroke:#000000;stroke-width:0.8;\" x=\"537.125568\" xlink:href=\"#m489ec1946a\" y=\"179.838586\"/>\n      </g>\n     </g>\n     <g id=\"text_33\">\n      <!-- 60 -->\n      <g transform=\"translate(517.400568 183.637805)scale(0.1 -0.1)\">\n       <use xlink:href=\"#DejaVuSans-54\"/>\n       <use x=\"63.623047\" xlink:href=\"#DejaVuSans-48\"/>\n      </g>\n     </g>\n    </g>\n    <g id=\"ytick_12\">\n     <g id=\"line2d_32\">\n      <g>\n       <use style=\"stroke:#000000;stroke-width:0.8;\" x=\"537.125568\" xlink:href=\"#m489ec1946a\" y=\"139.686312\"/>\n      </g>\n     </g>\n     <g id=\"text_34\">\n      <!-- 70 -->\n      <g transform=\"translate(517.400568 143.485531)scale(0.1 -0.1)\">\n       <use xlink:href=\"#DejaVuSans-55\"/>\n       <use x=\"63.623047\" xlink:href=\"#DejaVuSans-48\"/>\n      </g>\n     </g>\n    </g>\n    <g id=\"ytick_13\">\n     <g id=\"line2d_33\">\n      <g>\n       <use style=\"stroke:#000000;stroke-width:0.8;\" x=\"537.125568\" xlink:href=\"#m489ec1946a\" y=\"99.534038\"/>\n      </g>\n     </g>\n     <g id=\"text_35\">\n      <!-- 80 -->\n      <defs>\n       <path d=\"M 31.78125 34.625 \nQ 24.75 34.625 20.71875 30.859375 \nQ 16.703125 27.09375 16.703125 20.515625 \nQ 16.703125 13.921875 20.71875 10.15625 \nQ 24.75 6.390625 31.78125 6.390625 \nQ 38.8125 6.390625 42.859375 10.171875 \nQ 46.921875 13.96875 46.921875 20.515625 \nQ 46.921875 27.09375 42.890625 30.859375 \nQ 38.875 34.625 31.78125 34.625 \nz\nM 21.921875 38.8125 \nQ 15.578125 40.375 12.03125 44.71875 \nQ 8.5 49.078125 8.5 55.328125 \nQ 8.5 64.0625 14.71875 69.140625 \nQ 20.953125 74.21875 31.78125 74.21875 \nQ 42.671875 74.21875 48.875 69.140625 \nQ 55.078125 64.0625 55.078125 55.328125 \nQ 55.078125 49.078125 51.53125 44.71875 \nQ 48 40.375 41.703125 38.8125 \nQ 48.828125 37.15625 52.796875 32.3125 \nQ 56.78125 27.484375 56.78125 20.515625 \nQ 56.78125 9.90625 50.3125 4.234375 \nQ 43.84375 -1.421875 31.78125 -1.421875 \nQ 19.734375 -1.421875 13.25 4.234375 \nQ 6.78125 9.90625 6.78125 20.515625 \nQ 6.78125 27.484375 10.78125 32.3125 \nQ 14.796875 37.15625 21.921875 38.8125 \nz\nM 18.3125 54.390625 \nQ 18.3125 48.734375 21.84375 45.5625 \nQ 25.390625 42.390625 31.78125 42.390625 \nQ 38.140625 42.390625 41.71875 45.5625 \nQ 45.3125 48.734375 45.3125 54.390625 \nQ 45.3125 60.0625 41.71875 63.234375 \nQ 38.140625 66.40625 31.78125 66.40625 \nQ 25.390625 66.40625 21.84375 63.234375 \nQ 18.3125 60.0625 18.3125 54.390625 \nz\n\" id=\"DejaVuSans-56\"/>\n      </defs>\n      <g transform=\"translate(517.400568 103.333257)scale(0.1 -0.1)\">\n       <use xlink:href=\"#DejaVuSans-56\"/>\n       <use x=\"63.623047\" xlink:href=\"#DejaVuSans-48\"/>\n      </g>\n     </g>\n    </g>\n    <g id=\"ytick_14\">\n     <g id=\"line2d_34\">\n      <g>\n       <use style=\"stroke:#000000;stroke-width:0.8;\" x=\"537.125568\" xlink:href=\"#m489ec1946a\" y=\"59.381764\"/>\n      </g>\n     </g>\n     <g id=\"text_36\">\n      <!-- 90 -->\n      <defs>\n       <path d=\"M 10.984375 1.515625 \nL 10.984375 10.5 \nQ 14.703125 8.734375 18.5 7.8125 \nQ 22.3125 6.890625 25.984375 6.890625 \nQ 35.75 6.890625 40.890625 13.453125 \nQ 46.046875 20.015625 46.78125 33.40625 \nQ 43.953125 29.203125 39.59375 26.953125 \nQ 35.25 24.703125 29.984375 24.703125 \nQ 19.046875 24.703125 12.671875 31.3125 \nQ 6.296875 37.9375 6.296875 49.421875 \nQ 6.296875 60.640625 12.9375 67.421875 \nQ 19.578125 74.21875 30.609375 74.21875 \nQ 43.265625 74.21875 49.921875 64.515625 \nQ 56.59375 54.828125 56.59375 36.375 \nQ 56.59375 19.140625 48.40625 8.859375 \nQ 40.234375 -1.421875 26.421875 -1.421875 \nQ 22.703125 -1.421875 18.890625 -0.6875 \nQ 15.09375 0.046875 10.984375 1.515625 \nz\nM 30.609375 32.421875 \nQ 37.25 32.421875 41.125 36.953125 \nQ 45.015625 41.5 45.015625 49.421875 \nQ 45.015625 57.28125 41.125 61.84375 \nQ 37.25 66.40625 30.609375 66.40625 \nQ 23.96875 66.40625 20.09375 61.84375 \nQ 16.21875 57.28125 16.21875 49.421875 \nQ 16.21875 41.5 20.09375 36.953125 \nQ 23.96875 32.421875 30.609375 32.421875 \nz\n\" id=\"DejaVuSans-57\"/>\n      </defs>\n      <g transform=\"translate(517.400568 63.180983)scale(0.1 -0.1)\">\n       <use xlink:href=\"#DejaVuSans-57\"/>\n       <use x=\"63.623047\" xlink:href=\"#DejaVuSans-48\"/>\n      </g>\n     </g>\n    </g>\n    <g id=\"text_37\">\n     <!-- Accuracy (%) -->\n     <defs>\n      <path d=\"M 34.1875 63.1875 \nL 20.796875 26.90625 \nL 47.609375 26.90625 \nz\nM 28.609375 72.90625 \nL 39.796875 72.90625 \nL 67.578125 0 \nL 57.328125 0 \nL 50.6875 18.703125 \nL 17.828125 18.703125 \nL 11.1875 0 \nL 0.78125 0 \nz\n\" id=\"DejaVuSans-65\"/>\n      <path d=\"M 8.5 21.578125 \nL 8.5 54.6875 \nL 17.484375 54.6875 \nL 17.484375 21.921875 \nQ 17.484375 14.15625 20.5 10.265625 \nQ 23.53125 6.390625 29.59375 6.390625 \nQ 36.859375 6.390625 41.078125 11.03125 \nQ 45.3125 15.671875 45.3125 23.6875 \nL 45.3125 54.6875 \nL 54.296875 54.6875 \nL 54.296875 0 \nL 45.3125 0 \nL 45.3125 8.40625 \nQ 42.046875 3.421875 37.71875 1 \nQ 33.40625 -1.421875 27.6875 -1.421875 \nQ 18.265625 -1.421875 13.375 4.4375 \nQ 8.5 10.296875 8.5 21.578125 \nz\nM 31.109375 56 \nz\n\" id=\"DejaVuSans-117\"/>\n      <path d=\"M 41.109375 46.296875 \nQ 39.59375 47.171875 37.8125 47.578125 \nQ 36.03125 48 33.890625 48 \nQ 26.265625 48 22.1875 43.046875 \nQ 18.109375 38.09375 18.109375 28.8125 \nL 18.109375 0 \nL 9.078125 0 \nL 9.078125 54.6875 \nL 18.109375 54.6875 \nL 18.109375 46.1875 \nQ 20.953125 51.171875 25.484375 53.578125 \nQ 30.03125 56 36.53125 56 \nQ 37.453125 56 38.578125 55.875 \nQ 39.703125 55.765625 41.0625 55.515625 \nz\n\" id=\"DejaVuSans-114\"/>\n      <path d=\"M 34.28125 27.484375 \nQ 23.390625 27.484375 19.1875 25 \nQ 14.984375 22.515625 14.984375 16.5 \nQ 14.984375 11.71875 18.140625 8.90625 \nQ 21.296875 6.109375 26.703125 6.109375 \nQ 34.1875 6.109375 38.703125 11.40625 \nQ 43.21875 16.703125 43.21875 25.484375 \nL 43.21875 27.484375 \nz\nM 52.203125 31.203125 \nL 52.203125 0 \nL 43.21875 0 \nL 43.21875 8.296875 \nQ 40.140625 3.328125 35.546875 0.953125 \nQ 30.953125 -1.421875 24.3125 -1.421875 \nQ 15.921875 -1.421875 10.953125 3.296875 \nQ 6 8.015625 6 15.921875 \nQ 6 25.140625 12.171875 29.828125 \nQ 18.359375 34.515625 30.609375 34.515625 \nL 43.21875 34.515625 \nL 43.21875 35.40625 \nQ 43.21875 41.609375 39.140625 45 \nQ 35.0625 48.390625 27.6875 48.390625 \nQ 23 48.390625 18.546875 47.265625 \nQ 14.109375 46.140625 10.015625 43.890625 \nL 10.015625 52.203125 \nQ 14.9375 54.109375 19.578125 55.046875 \nQ 24.21875 56 28.609375 56 \nQ 40.484375 56 46.34375 49.84375 \nQ 52.203125 43.703125 52.203125 31.203125 \nz\n\" id=\"DejaVuSans-97\"/>\n      <path d=\"M 32.171875 -5.078125 \nQ 28.375 -14.84375 24.75 -17.8125 \nQ 21.140625 -20.796875 15.09375 -20.796875 \nL 7.90625 -20.796875 \nL 7.90625 -13.28125 \nL 13.1875 -13.28125 \nQ 16.890625 -13.28125 18.9375 -11.515625 \nQ 21 -9.765625 23.484375 -3.21875 \nL 25.09375 0.875 \nL 2.984375 54.6875 \nL 12.5 54.6875 \nL 29.59375 11.921875 \nL 46.6875 54.6875 \nL 56.203125 54.6875 \nz\n\" id=\"DejaVuSans-121\"/>\n      <path d=\"M 31 75.875 \nQ 24.46875 64.65625 21.28125 53.65625 \nQ 18.109375 42.671875 18.109375 31.390625 \nQ 18.109375 20.125 21.3125 9.0625 \nQ 24.515625 -2 31 -13.1875 \nL 23.1875 -13.1875 \nQ 15.875 -1.703125 12.234375 9.375 \nQ 8.59375 20.453125 8.59375 31.390625 \nQ 8.59375 42.28125 12.203125 53.3125 \nQ 15.828125 64.359375 23.1875 75.875 \nz\n\" id=\"DejaVuSans-40\"/>\n      <path d=\"M 72.703125 32.078125 \nQ 68.453125 32.078125 66.03125 28.46875 \nQ 63.625 24.859375 63.625 18.40625 \nQ 63.625 12.0625 66.03125 8.421875 \nQ 68.453125 4.78125 72.703125 4.78125 \nQ 76.859375 4.78125 79.265625 8.421875 \nQ 81.6875 12.0625 81.6875 18.40625 \nQ 81.6875 24.8125 79.265625 28.4375 \nQ 76.859375 32.078125 72.703125 32.078125 \nz\nM 72.703125 38.28125 \nQ 80.421875 38.28125 84.953125 32.90625 \nQ 89.5 27.546875 89.5 18.40625 \nQ 89.5 9.28125 84.9375 3.921875 \nQ 80.375 -1.421875 72.703125 -1.421875 \nQ 64.890625 -1.421875 60.34375 3.921875 \nQ 55.8125 9.28125 55.8125 18.40625 \nQ 55.8125 27.59375 60.375 32.9375 \nQ 64.9375 38.28125 72.703125 38.28125 \nz\nM 22.3125 68.015625 \nQ 18.109375 68.015625 15.6875 64.375 \nQ 13.28125 60.75 13.28125 54.390625 \nQ 13.28125 47.953125 15.671875 44.328125 \nQ 18.0625 40.71875 22.3125 40.71875 \nQ 26.5625 40.71875 28.96875 44.328125 \nQ 31.390625 47.953125 31.390625 54.390625 \nQ 31.390625 60.6875 28.953125 64.34375 \nQ 26.515625 68.015625 22.3125 68.015625 \nz\nM 66.40625 74.21875 \nL 74.21875 74.21875 \nL 28.609375 -1.421875 \nL 20.796875 -1.421875 \nz\nM 22.3125 74.21875 \nQ 30.03125 74.21875 34.609375 68.875 \nQ 39.203125 63.53125 39.203125 54.390625 \nQ 39.203125 45.171875 34.640625 39.84375 \nQ 30.078125 34.515625 22.3125 34.515625 \nQ 14.546875 34.515625 10.03125 39.859375 \nQ 5.515625 45.21875 5.515625 54.390625 \nQ 5.515625 63.484375 10.046875 68.84375 \nQ 14.59375 74.21875 22.3125 74.21875 \nz\n\" id=\"DejaVuSans-37\"/>\n      <path d=\"M 8.015625 75.875 \nL 15.828125 75.875 \nQ 23.140625 64.359375 26.78125 53.3125 \nQ 30.421875 42.28125 30.421875 31.390625 \nQ 30.421875 20.453125 26.78125 9.375 \nQ 23.140625 -1.703125 15.828125 -13.1875 \nL 8.015625 -13.1875 \nQ 14.5 -2 17.703125 9.0625 \nQ 20.90625 20.125 20.90625 31.390625 \nQ 20.90625 42.671875 17.703125 53.65625 \nQ 14.5 64.65625 8.015625 75.875 \nz\n\" id=\"DejaVuSans-41\"/>\n     </defs>\n     <g transform=\"translate(511.320881 191.287656)rotate(-90)scale(0.1 -0.1)\">\n      <use xlink:href=\"#DejaVuSans-65\"/>\n      <use x=\"66.658203\" xlink:href=\"#DejaVuSans-99\"/>\n      <use x=\"121.638672\" xlink:href=\"#DejaVuSans-99\"/>\n      <use x=\"176.619141\" xlink:href=\"#DejaVuSans-117\"/>\n      <use x=\"239.998047\" xlink:href=\"#DejaVuSans-114\"/>\n      <use x=\"281.111328\" xlink:href=\"#DejaVuSans-97\"/>\n      <use x=\"342.390625\" xlink:href=\"#DejaVuSans-99\"/>\n      <use x=\"397.371094\" xlink:href=\"#DejaVuSans-121\"/>\n      <use x=\"456.550781\" xlink:href=\"#DejaVuSans-32\"/>\n      <use x=\"488.337891\" xlink:href=\"#DejaVuSans-40\"/>\n      <use x=\"527.351562\" xlink:href=\"#DejaVuSans-37\"/>\n      <use x=\"622.371094\" xlink:href=\"#DejaVuSans-41\"/>\n     </g>\n    </g>\n   </g>\n   <g id=\"line2d_35\">\n    <path clip-path=\"url(#p7cbdd78bd0)\" d=\"M 555.571849 219.99086 \nL 565.03148 158.21814 \nL 574.491112 266.3204 \nL 583.950743 204.547665 \nL 593.410374 142.77493 \nL 602.870006 204.547665 \nL 612.329637 189.1045 \nL 621.789268 281.76358 \nL 631.248899 189.1045 \nL 640.708531 235.43404 \nL 650.168162 142.77493 \nL 659.627793 204.547665 \nL 669.087425 219.99086 \nL 678.547056 173.661305 \nL 688.006687 204.547665 \nL 697.466318 204.547665 \nL 706.92595 204.547665 \nL 716.385581 204.547665 \nL 725.845212 127.331781 \nL 735.304843 50.11585 \nL 744.764475 65.559061 \nL 754.224106 127.331781 \nL 763.683737 142.77493 \nL 773.143369 111.88857 \nL 782.603 111.88857 \nL 792.062631 111.88857 \nL 801.522262 65.559061 \nL 810.981894 96.445421 \nL 820.441525 127.331781 \nL 829.901156 111.88857 \nL 839.360788 81.00221 \nL 848.820419 96.445421 \nL 858.28005 111.88857 \nL 867.739681 34.67267 \nL 877.199313 65.559061 \nL 886.658944 142.77493 \nL 896.118575 81.00221 \nL 905.578206 50.11585 \nL 915.037838 34.67267 \nL 924.497469 96.445421 \n\" style=\"fill:none;stroke:#1f77b4;stroke-linecap:square;stroke-width:1.5;\"/>\n    <g clip-path=\"url(#p7cbdd78bd0)\">\n     <use style=\"fill:#1f77b4;stroke:#1f77b4;stroke-linejoin:miter;\" x=\"555.571849\" xlink:href=\"#me142686ed9\" y=\"219.99086\"/>\n     <use style=\"fill:#1f77b4;stroke:#1f77b4;stroke-linejoin:miter;\" x=\"565.03148\" xlink:href=\"#me142686ed9\" y=\"158.21814\"/>\n     <use style=\"fill:#1f77b4;stroke:#1f77b4;stroke-linejoin:miter;\" x=\"574.491112\" xlink:href=\"#me142686ed9\" y=\"266.3204\"/>\n     <use style=\"fill:#1f77b4;stroke:#1f77b4;stroke-linejoin:miter;\" x=\"583.950743\" xlink:href=\"#me142686ed9\" y=\"204.547665\"/>\n     <use style=\"fill:#1f77b4;stroke:#1f77b4;stroke-linejoin:miter;\" x=\"593.410374\" xlink:href=\"#me142686ed9\" y=\"142.77493\"/>\n     <use style=\"fill:#1f77b4;stroke:#1f77b4;stroke-linejoin:miter;\" x=\"602.870006\" xlink:href=\"#me142686ed9\" y=\"204.547665\"/>\n     <use style=\"fill:#1f77b4;stroke:#1f77b4;stroke-linejoin:miter;\" x=\"612.329637\" xlink:href=\"#me142686ed9\" y=\"189.1045\"/>\n     <use style=\"fill:#1f77b4;stroke:#1f77b4;stroke-linejoin:miter;\" x=\"621.789268\" xlink:href=\"#me142686ed9\" y=\"281.76358\"/>\n     <use style=\"fill:#1f77b4;stroke:#1f77b4;stroke-linejoin:miter;\" x=\"631.248899\" xlink:href=\"#me142686ed9\" y=\"189.1045\"/>\n     <use style=\"fill:#1f77b4;stroke:#1f77b4;stroke-linejoin:miter;\" x=\"640.708531\" xlink:href=\"#me142686ed9\" y=\"235.43404\"/>\n     <use style=\"fill:#1f77b4;stroke:#1f77b4;stroke-linejoin:miter;\" x=\"650.168162\" xlink:href=\"#me142686ed9\" y=\"142.77493\"/>\n     <use style=\"fill:#1f77b4;stroke:#1f77b4;stroke-linejoin:miter;\" x=\"659.627793\" xlink:href=\"#me142686ed9\" y=\"204.547665\"/>\n     <use style=\"fill:#1f77b4;stroke:#1f77b4;stroke-linejoin:miter;\" x=\"669.087425\" xlink:href=\"#me142686ed9\" y=\"219.99086\"/>\n     <use style=\"fill:#1f77b4;stroke:#1f77b4;stroke-linejoin:miter;\" x=\"678.547056\" xlink:href=\"#me142686ed9\" y=\"173.661305\"/>\n     <use style=\"fill:#1f77b4;stroke:#1f77b4;stroke-linejoin:miter;\" x=\"688.006687\" xlink:href=\"#me142686ed9\" y=\"204.547665\"/>\n     <use style=\"fill:#1f77b4;stroke:#1f77b4;stroke-linejoin:miter;\" x=\"697.466318\" xlink:href=\"#me142686ed9\" y=\"204.547665\"/>\n     <use style=\"fill:#1f77b4;stroke:#1f77b4;stroke-linejoin:miter;\" x=\"706.92595\" xlink:href=\"#me142686ed9\" y=\"204.547665\"/>\n     <use style=\"fill:#1f77b4;stroke:#1f77b4;stroke-linejoin:miter;\" x=\"716.385581\" xlink:href=\"#me142686ed9\" y=\"204.547665\"/>\n     <use style=\"fill:#1f77b4;stroke:#1f77b4;stroke-linejoin:miter;\" x=\"725.845212\" xlink:href=\"#me142686ed9\" y=\"127.331781\"/>\n     <use style=\"fill:#1f77b4;stroke:#1f77b4;stroke-linejoin:miter;\" x=\"735.304843\" xlink:href=\"#me142686ed9\" y=\"50.11585\"/>\n     <use style=\"fill:#1f77b4;stroke:#1f77b4;stroke-linejoin:miter;\" x=\"744.764475\" xlink:href=\"#me142686ed9\" y=\"65.559061\"/>\n     <use style=\"fill:#1f77b4;stroke:#1f77b4;stroke-linejoin:miter;\" x=\"754.224106\" xlink:href=\"#me142686ed9\" y=\"127.331781\"/>\n     <use style=\"fill:#1f77b4;stroke:#1f77b4;stroke-linejoin:miter;\" x=\"763.683737\" xlink:href=\"#me142686ed9\" y=\"142.77493\"/>\n     <use style=\"fill:#1f77b4;stroke:#1f77b4;stroke-linejoin:miter;\" x=\"773.143369\" xlink:href=\"#me142686ed9\" y=\"111.88857\"/>\n     <use style=\"fill:#1f77b4;stroke:#1f77b4;stroke-linejoin:miter;\" x=\"782.603\" xlink:href=\"#me142686ed9\" y=\"111.88857\"/>\n     <use style=\"fill:#1f77b4;stroke:#1f77b4;stroke-linejoin:miter;\" x=\"792.062631\" xlink:href=\"#me142686ed9\" y=\"111.88857\"/>\n     <use style=\"fill:#1f77b4;stroke:#1f77b4;stroke-linejoin:miter;\" x=\"801.522262\" xlink:href=\"#me142686ed9\" y=\"65.559061\"/>\n     <use style=\"fill:#1f77b4;stroke:#1f77b4;stroke-linejoin:miter;\" x=\"810.981894\" xlink:href=\"#me142686ed9\" y=\"96.445421\"/>\n     <use style=\"fill:#1f77b4;stroke:#1f77b4;stroke-linejoin:miter;\" x=\"820.441525\" xlink:href=\"#me142686ed9\" y=\"127.331781\"/>\n     <use style=\"fill:#1f77b4;stroke:#1f77b4;stroke-linejoin:miter;\" x=\"829.901156\" xlink:href=\"#me142686ed9\" y=\"111.88857\"/>\n     <use style=\"fill:#1f77b4;stroke:#1f77b4;stroke-linejoin:miter;\" x=\"839.360788\" xlink:href=\"#me142686ed9\" y=\"81.00221\"/>\n     <use style=\"fill:#1f77b4;stroke:#1f77b4;stroke-linejoin:miter;\" x=\"848.820419\" xlink:href=\"#me142686ed9\" y=\"96.445421\"/>\n     <use style=\"fill:#1f77b4;stroke:#1f77b4;stroke-linejoin:miter;\" x=\"858.28005\" xlink:href=\"#me142686ed9\" y=\"111.88857\"/>\n     <use style=\"fill:#1f77b4;stroke:#1f77b4;stroke-linejoin:miter;\" x=\"867.739681\" xlink:href=\"#me142686ed9\" y=\"34.67267\"/>\n     <use style=\"fill:#1f77b4;stroke:#1f77b4;stroke-linejoin:miter;\" x=\"877.199313\" xlink:href=\"#me142686ed9\" y=\"65.559061\"/>\n     <use style=\"fill:#1f77b4;stroke:#1f77b4;stroke-linejoin:miter;\" x=\"886.658944\" xlink:href=\"#me142686ed9\" y=\"142.77493\"/>\n     <use style=\"fill:#1f77b4;stroke:#1f77b4;stroke-linejoin:miter;\" x=\"896.118575\" xlink:href=\"#me142686ed9\" y=\"81.00221\"/>\n     <use style=\"fill:#1f77b4;stroke:#1f77b4;stroke-linejoin:miter;\" x=\"905.578206\" xlink:href=\"#me142686ed9\" y=\"50.11585\"/>\n     <use style=\"fill:#1f77b4;stroke:#1f77b4;stroke-linejoin:miter;\" x=\"915.037838\" xlink:href=\"#me142686ed9\" y=\"34.67267\"/>\n     <use style=\"fill:#1f77b4;stroke:#1f77b4;stroke-linejoin:miter;\" x=\"924.497469\" xlink:href=\"#me142686ed9\" y=\"96.445421\"/>\n    </g>\n   </g>\n   <g id=\"line2d_36\">\n    <path clip-path=\"url(#p7cbdd78bd0)\" d=\"M 555.571849 211.960405 \nL 565.03148 211.960405 \nL 574.491112 211.960405 \nL 583.950743 211.960405 \nL 593.410374 211.960405 \nL 602.870006 211.960405 \nL 612.329637 211.960405 \nL 621.789268 211.960405 \nL 631.248899 211.960405 \nL 640.708531 211.960405 \nL 650.168162 211.960405 \nL 659.627793 211.960405 \nL 669.087425 211.960405 \nL 678.547056 211.960405 \nL 688.006687 211.960405 \nL 697.466318 203.929935 \nL 706.92595 195.899496 \nL 716.385581 139.686312 \nL 725.845212 131.655857 \nL 735.304843 99.534038 \nL 744.764475 91.503584 \nL 754.224106 91.503584 \nL 763.683737 91.503584 \nL 773.143369 83.473129 \nL 782.603 83.473129 \nL 792.062631 91.503584 \nL 801.522262 91.503584 \nL 810.981894 91.503584 \nL 820.441525 91.503584 \nL 829.901156 83.473129 \nL 839.360788 83.473129 \nL 848.820419 83.473129 \nL 858.28005 83.473129 \nL 867.739681 83.473129 \nL 877.199313 83.473129 \nL 886.658944 83.473129 \nL 896.118575 83.473129 \nL 905.578206 83.473129 \nL 915.037838 83.473129 \nL 924.497469 83.473129 \n\" style=\"fill:none;stroke:#ff7f0e;stroke-linecap:square;stroke-width:1.5;\"/>\n    <defs>\n     <path d=\"M 0 3 \nC 0.795609 3 1.55874 2.683901 2.12132 2.12132 \nC 2.683901 1.55874 3 0.795609 3 0 \nC 3 -0.795609 2.683901 -1.55874 2.12132 -2.12132 \nC 1.55874 -2.683901 0.795609 -3 0 -3 \nC -0.795609 -3 -1.55874 -2.683901 -2.12132 -2.12132 \nC -2.683901 -1.55874 -3 -0.795609 -3 0 \nC -3 0.795609 -2.683901 1.55874 -2.12132 2.12132 \nC -1.55874 2.683901 -0.795609 3 0 3 \nz\n\" id=\"m9127c33b64\" style=\"stroke:#ff7f0e;\"/>\n    </defs>\n    <g clip-path=\"url(#p7cbdd78bd0)\">\n     <use style=\"fill:#ff7f0e;stroke:#ff7f0e;\" x=\"555.571849\" xlink:href=\"#m9127c33b64\" y=\"211.960405\"/>\n     <use style=\"fill:#ff7f0e;stroke:#ff7f0e;\" x=\"565.03148\" xlink:href=\"#m9127c33b64\" y=\"211.960405\"/>\n     <use style=\"fill:#ff7f0e;stroke:#ff7f0e;\" x=\"574.491112\" xlink:href=\"#m9127c33b64\" y=\"211.960405\"/>\n     <use style=\"fill:#ff7f0e;stroke:#ff7f0e;\" x=\"583.950743\" xlink:href=\"#m9127c33b64\" y=\"211.960405\"/>\n     <use style=\"fill:#ff7f0e;stroke:#ff7f0e;\" x=\"593.410374\" xlink:href=\"#m9127c33b64\" y=\"211.960405\"/>\n     <use style=\"fill:#ff7f0e;stroke:#ff7f0e;\" x=\"602.870006\" xlink:href=\"#m9127c33b64\" y=\"211.960405\"/>\n     <use style=\"fill:#ff7f0e;stroke:#ff7f0e;\" x=\"612.329637\" xlink:href=\"#m9127c33b64\" y=\"211.960405\"/>\n     <use style=\"fill:#ff7f0e;stroke:#ff7f0e;\" x=\"621.789268\" xlink:href=\"#m9127c33b64\" y=\"211.960405\"/>\n     <use style=\"fill:#ff7f0e;stroke:#ff7f0e;\" x=\"631.248899\" xlink:href=\"#m9127c33b64\" y=\"211.960405\"/>\n     <use style=\"fill:#ff7f0e;stroke:#ff7f0e;\" x=\"640.708531\" xlink:href=\"#m9127c33b64\" y=\"211.960405\"/>\n     <use style=\"fill:#ff7f0e;stroke:#ff7f0e;\" x=\"650.168162\" xlink:href=\"#m9127c33b64\" y=\"211.960405\"/>\n     <use style=\"fill:#ff7f0e;stroke:#ff7f0e;\" x=\"659.627793\" xlink:href=\"#m9127c33b64\" y=\"211.960405\"/>\n     <use style=\"fill:#ff7f0e;stroke:#ff7f0e;\" x=\"669.087425\" xlink:href=\"#m9127c33b64\" y=\"211.960405\"/>\n     <use style=\"fill:#ff7f0e;stroke:#ff7f0e;\" x=\"678.547056\" xlink:href=\"#m9127c33b64\" y=\"211.960405\"/>\n     <use style=\"fill:#ff7f0e;stroke:#ff7f0e;\" x=\"688.006687\" xlink:href=\"#m9127c33b64\" y=\"211.960405\"/>\n     <use style=\"fill:#ff7f0e;stroke:#ff7f0e;\" x=\"697.466318\" xlink:href=\"#m9127c33b64\" y=\"203.929935\"/>\n     <use style=\"fill:#ff7f0e;stroke:#ff7f0e;\" x=\"706.92595\" xlink:href=\"#m9127c33b64\" y=\"195.899496\"/>\n     <use style=\"fill:#ff7f0e;stroke:#ff7f0e;\" x=\"716.385581\" xlink:href=\"#m9127c33b64\" y=\"139.686312\"/>\n     <use style=\"fill:#ff7f0e;stroke:#ff7f0e;\" x=\"725.845212\" xlink:href=\"#m9127c33b64\" y=\"131.655857\"/>\n     <use style=\"fill:#ff7f0e;stroke:#ff7f0e;\" x=\"735.304843\" xlink:href=\"#m9127c33b64\" y=\"99.534038\"/>\n     <use style=\"fill:#ff7f0e;stroke:#ff7f0e;\" x=\"744.764475\" xlink:href=\"#m9127c33b64\" y=\"91.503584\"/>\n     <use style=\"fill:#ff7f0e;stroke:#ff7f0e;\" x=\"754.224106\" xlink:href=\"#m9127c33b64\" y=\"91.503584\"/>\n     <use style=\"fill:#ff7f0e;stroke:#ff7f0e;\" x=\"763.683737\" xlink:href=\"#m9127c33b64\" y=\"91.503584\"/>\n     <use style=\"fill:#ff7f0e;stroke:#ff7f0e;\" x=\"773.143369\" xlink:href=\"#m9127c33b64\" y=\"83.473129\"/>\n     <use style=\"fill:#ff7f0e;stroke:#ff7f0e;\" x=\"782.603\" xlink:href=\"#m9127c33b64\" y=\"83.473129\"/>\n     <use style=\"fill:#ff7f0e;stroke:#ff7f0e;\" x=\"792.062631\" xlink:href=\"#m9127c33b64\" y=\"91.503584\"/>\n     <use style=\"fill:#ff7f0e;stroke:#ff7f0e;\" x=\"801.522262\" xlink:href=\"#m9127c33b64\" y=\"91.503584\"/>\n     <use style=\"fill:#ff7f0e;stroke:#ff7f0e;\" x=\"810.981894\" xlink:href=\"#m9127c33b64\" y=\"91.503584\"/>\n     <use style=\"fill:#ff7f0e;stroke:#ff7f0e;\" x=\"820.441525\" xlink:href=\"#m9127c33b64\" y=\"91.503584\"/>\n     <use style=\"fill:#ff7f0e;stroke:#ff7f0e;\" x=\"829.901156\" xlink:href=\"#m9127c33b64\" y=\"83.473129\"/>\n     <use style=\"fill:#ff7f0e;stroke:#ff7f0e;\" x=\"839.360788\" xlink:href=\"#m9127c33b64\" y=\"83.473129\"/>\n     <use style=\"fill:#ff7f0e;stroke:#ff7f0e;\" x=\"848.820419\" xlink:href=\"#m9127c33b64\" y=\"83.473129\"/>\n     <use style=\"fill:#ff7f0e;stroke:#ff7f0e;\" x=\"858.28005\" xlink:href=\"#m9127c33b64\" y=\"83.473129\"/>\n     <use style=\"fill:#ff7f0e;stroke:#ff7f0e;\" x=\"867.739681\" xlink:href=\"#m9127c33b64\" y=\"83.473129\"/>\n     <use style=\"fill:#ff7f0e;stroke:#ff7f0e;\" x=\"877.199313\" xlink:href=\"#m9127c33b64\" y=\"83.473129\"/>\n     <use style=\"fill:#ff7f0e;stroke:#ff7f0e;\" x=\"886.658944\" xlink:href=\"#m9127c33b64\" y=\"83.473129\"/>\n     <use style=\"fill:#ff7f0e;stroke:#ff7f0e;\" x=\"896.118575\" xlink:href=\"#m9127c33b64\" y=\"83.473129\"/>\n     <use style=\"fill:#ff7f0e;stroke:#ff7f0e;\" x=\"905.578206\" xlink:href=\"#m9127c33b64\" y=\"83.473129\"/>\n     <use style=\"fill:#ff7f0e;stroke:#ff7f0e;\" x=\"915.037838\" xlink:href=\"#m9127c33b64\" y=\"83.473129\"/>\n     <use style=\"fill:#ff7f0e;stroke:#ff7f0e;\" x=\"924.497469\" xlink:href=\"#m9127c33b64\" y=\"83.473129\"/>\n    </g>\n   </g>\n   <g id=\"patch_8\">\n    <path d=\"M 537.125568 294.118125 \nL 537.125568 22.318125 \n\" style=\"fill:none;stroke:#000000;stroke-linecap:square;stroke-linejoin:miter;stroke-width:0.8;\"/>\n   </g>\n   <g id=\"patch_9\">\n    <path d=\"M 942.94375 294.118125 \nL 942.94375 22.318125 \n\" style=\"fill:none;stroke:#000000;stroke-linecap:square;stroke-linejoin:miter;stroke-width:0.8;\"/>\n   </g>\n   <g id=\"patch_10\">\n    <path d=\"M 537.125568 294.118125 \nL 942.94375 294.118125 \n\" style=\"fill:none;stroke:#000000;stroke-linecap:square;stroke-linejoin:miter;stroke-width:0.8;\"/>\n   </g>\n   <g id=\"patch_11\">\n    <path d=\"M 537.125568 22.318125 \nL 942.94375 22.318125 \n\" style=\"fill:none;stroke:#000000;stroke-linecap:square;stroke-linejoin:miter;stroke-width:0.8;\"/>\n   </g>\n   <g id=\"text_38\">\n    <!-- Final model test accuracy: 84.00% -->\n    <defs>\n     <path d=\"M 9.8125 72.90625 \nL 51.703125 72.90625 \nL 51.703125 64.59375 \nL 19.671875 64.59375 \nL 19.671875 43.109375 \nL 48.578125 43.109375 \nL 48.578125 34.8125 \nL 19.671875 34.8125 \nL 19.671875 0 \nL 9.8125 0 \nz\n\" id=\"DejaVuSans-70\"/>\n     <path d=\"M 9.421875 54.6875 \nL 18.40625 54.6875 \nL 18.40625 0 \nL 9.421875 0 \nz\nM 9.421875 75.984375 \nL 18.40625 75.984375 \nL 18.40625 64.59375 \nL 9.421875 64.59375 \nz\n\" id=\"DejaVuSans-105\"/>\n     <path d=\"M 54.890625 33.015625 \nL 54.890625 0 \nL 45.90625 0 \nL 45.90625 32.71875 \nQ 45.90625 40.484375 42.875 44.328125 \nQ 39.84375 48.1875 33.796875 48.1875 \nQ 26.515625 48.1875 22.3125 43.546875 \nQ 18.109375 38.921875 18.109375 30.90625 \nL 18.109375 0 \nL 9.078125 0 \nL 9.078125 54.6875 \nL 18.109375 54.6875 \nL 18.109375 46.1875 \nQ 21.34375 51.125 25.703125 53.5625 \nQ 30.078125 56 35.796875 56 \nQ 45.21875 56 50.046875 50.171875 \nQ 54.890625 44.34375 54.890625 33.015625 \nz\n\" id=\"DejaVuSans-110\"/>\n     <path d=\"M 52 44.1875 \nQ 55.375 50.25 60.0625 53.125 \nQ 64.75 56 71.09375 56 \nQ 79.640625 56 84.28125 50.015625 \nQ 88.921875 44.046875 88.921875 33.015625 \nL 88.921875 0 \nL 79.890625 0 \nL 79.890625 32.71875 \nQ 79.890625 40.578125 77.09375 44.375 \nQ 74.3125 48.1875 68.609375 48.1875 \nQ 61.625 48.1875 57.5625 43.546875 \nQ 53.515625 38.921875 53.515625 30.90625 \nL 53.515625 0 \nL 44.484375 0 \nL 44.484375 32.71875 \nQ 44.484375 40.625 41.703125 44.40625 \nQ 38.921875 48.1875 33.109375 48.1875 \nQ 26.21875 48.1875 22.15625 43.53125 \nQ 18.109375 38.875 18.109375 30.90625 \nL 18.109375 0 \nL 9.078125 0 \nL 9.078125 54.6875 \nL 18.109375 54.6875 \nL 18.109375 46.1875 \nQ 21.1875 51.21875 25.484375 53.609375 \nQ 29.78125 56 35.6875 56 \nQ 41.65625 56 45.828125 52.96875 \nQ 50 49.953125 52 44.1875 \nz\n\" id=\"DejaVuSans-109\"/>\n     <path d=\"M 18.3125 70.21875 \nL 18.3125 54.6875 \nL 36.8125 54.6875 \nL 36.8125 47.703125 \nL 18.3125 47.703125 \nL 18.3125 18.015625 \nQ 18.3125 11.328125 20.140625 9.421875 \nQ 21.96875 7.515625 27.59375 7.515625 \nL 36.8125 7.515625 \nL 36.8125 0 \nL 27.59375 0 \nQ 17.1875 0 13.234375 3.875 \nQ 9.28125 7.765625 9.28125 18.015625 \nL 9.28125 47.703125 \nL 2.6875 47.703125 \nL 2.6875 54.6875 \nL 9.28125 54.6875 \nL 9.28125 70.21875 \nz\n\" id=\"DejaVuSans-116\"/>\n     <path d=\"M 11.71875 12.40625 \nL 22.015625 12.40625 \nL 22.015625 0 \nL 11.71875 0 \nz\nM 11.71875 51.703125 \nL 22.015625 51.703125 \nL 22.015625 39.3125 \nL 11.71875 39.3125 \nz\n\" id=\"DejaVuSans-58\"/>\n    </defs>\n    <g transform=\"translate(636.837472 16.318125)scale(0.12 -0.12)\">\n     <use xlink:href=\"#DejaVuSans-70\"/>\n     <use x=\"50.269531\" xlink:href=\"#DejaVuSans-105\"/>\n     <use x=\"78.052734\" xlink:href=\"#DejaVuSans-110\"/>\n     <use x=\"141.431641\" xlink:href=\"#DejaVuSans-97\"/>\n     <use x=\"202.710938\" xlink:href=\"#DejaVuSans-108\"/>\n     <use x=\"230.494141\" xlink:href=\"#DejaVuSans-32\"/>\n     <use x=\"262.28125\" xlink:href=\"#DejaVuSans-109\"/>\n     <use x=\"359.693359\" xlink:href=\"#DejaVuSans-111\"/>\n     <use x=\"420.875\" xlink:href=\"#DejaVuSans-100\"/>\n     <use x=\"484.351562\" xlink:href=\"#DejaVuSans-101\"/>\n     <use x=\"545.875\" xlink:href=\"#DejaVuSans-108\"/>\n     <use x=\"573.658203\" xlink:href=\"#DejaVuSans-32\"/>\n     <use x=\"605.445312\" xlink:href=\"#DejaVuSans-116\"/>\n     <use x=\"644.654297\" xlink:href=\"#DejaVuSans-101\"/>\n     <use x=\"706.177734\" xlink:href=\"#DejaVuSans-115\"/>\n     <use x=\"758.277344\" xlink:href=\"#DejaVuSans-116\"/>\n     <use x=\"797.486328\" xlink:href=\"#DejaVuSans-32\"/>\n     <use x=\"829.273438\" xlink:href=\"#DejaVuSans-97\"/>\n     <use x=\"890.552734\" xlink:href=\"#DejaVuSans-99\"/>\n     <use x=\"945.533203\" xlink:href=\"#DejaVuSans-99\"/>\n     <use x=\"1000.513672\" xlink:href=\"#DejaVuSans-117\"/>\n     <use x=\"1063.892578\" xlink:href=\"#DejaVuSans-114\"/>\n     <use x=\"1105.005859\" xlink:href=\"#DejaVuSans-97\"/>\n     <use x=\"1166.285156\" xlink:href=\"#DejaVuSans-99\"/>\n     <use x=\"1221.265625\" xlink:href=\"#DejaVuSans-121\"/>\n     <use x=\"1273.195312\" xlink:href=\"#DejaVuSans-58\"/>\n     <use x=\"1306.886719\" xlink:href=\"#DejaVuSans-32\"/>\n     <use x=\"1338.673828\" xlink:href=\"#DejaVuSans-56\"/>\n     <use x=\"1402.296875\" xlink:href=\"#DejaVuSans-52\"/>\n     <use x=\"1465.919922\" xlink:href=\"#DejaVuSans-46\"/>\n     <use x=\"1497.707031\" xlink:href=\"#DejaVuSans-48\"/>\n     <use x=\"1561.330078\" xlink:href=\"#DejaVuSans-48\"/>\n     <use x=\"1624.953125\" xlink:href=\"#DejaVuSans-37\"/>\n    </g>\n   </g>\n   <g id=\"legend_1\">\n    <g id=\"patch_12\">\n     <path d=\"M 544.125568 59.674375 \nL 600.113068 59.674375 \nQ 602.113068 59.674375 602.113068 57.674375 \nL 602.113068 29.318125 \nQ 602.113068 27.318125 600.113068 27.318125 \nL 544.125568 27.318125 \nQ 542.125568 27.318125 542.125568 29.318125 \nL 542.125568 57.674375 \nQ 542.125568 59.674375 544.125568 59.674375 \nz\n\" style=\"fill:#ffffff;opacity:0.8;stroke:#cccccc;stroke-linejoin:miter;\"/>\n    </g>\n    <g id=\"line2d_37\">\n     <path d=\"M 546.125568 35.416562 \nL 566.125568 35.416562 \n\" style=\"fill:none;stroke:#1f77b4;stroke-linecap:square;stroke-width:1.5;\"/>\n    </g>\n    <g id=\"line2d_38\">\n     <g>\n      <use style=\"fill:#1f77b4;stroke:#1f77b4;stroke-linejoin:miter;\" x=\"556.125568\" xlink:href=\"#me142686ed9\" y=\"35.416562\"/>\n     </g>\n    </g>\n    <g id=\"text_39\">\n     <!-- Train -->\n     <defs>\n      <path d=\"M -0.296875 72.90625 \nL 61.375 72.90625 \nL 61.375 64.59375 \nL 35.5 64.59375 \nL 35.5 0 \nL 25.59375 0 \nL 25.59375 64.59375 \nL -0.296875 64.59375 \nz\n\" id=\"DejaVuSans-84\"/>\n     </defs>\n     <g transform=\"translate(574.125568 38.916562)scale(0.1 -0.1)\">\n      <use xlink:href=\"#DejaVuSans-84\"/>\n      <use x=\"46.333984\" xlink:href=\"#DejaVuSans-114\"/>\n      <use x=\"87.447266\" xlink:href=\"#DejaVuSans-97\"/>\n      <use x=\"148.726562\" xlink:href=\"#DejaVuSans-105\"/>\n      <use x=\"176.509766\" xlink:href=\"#DejaVuSans-110\"/>\n     </g>\n    </g>\n    <g id=\"line2d_39\">\n     <path d=\"M 546.125568 50.094688 \nL 566.125568 50.094688 \n\" style=\"fill:none;stroke:#ff7f0e;stroke-linecap:square;stroke-width:1.5;\"/>\n    </g>\n    <g id=\"line2d_40\">\n     <g>\n      <use style=\"fill:#ff7f0e;stroke:#ff7f0e;\" x=\"556.125568\" xlink:href=\"#m9127c33b64\" y=\"50.094688\"/>\n     </g>\n    </g>\n    <g id=\"text_40\">\n     <!-- Test -->\n     <g transform=\"translate(574.125568 53.594688)scale(0.1 -0.1)\">\n      <use xlink:href=\"#DejaVuSans-84\"/>\n      <use x=\"44.083984\" xlink:href=\"#DejaVuSans-101\"/>\n      <use x=\"105.607422\" xlink:href=\"#DejaVuSans-115\"/>\n      <use x=\"157.707031\" xlink:href=\"#DejaVuSans-116\"/>\n     </g>\n    </g>\n   </g>\n  </g>\n </g>\n <defs>\n  <clipPath id=\"p453bc4feac\">\n   <rect height=\"271.8\" width=\"405.818182\" x=\"50.14375\" y=\"22.318125\"/>\n  </clipPath>\n  <clipPath id=\"p7cbdd78bd0\">\n   <rect height=\"271.8\" width=\"405.818182\" x=\"537.125568\" y=\"22.318125\"/>\n  </clipPath>\n </defs>\n</svg>\n"
          },
          "metadata": {
            "needs_background": "light"
          }
        }
      ]
    },
    {
      "cell_type": "code",
      "metadata": {
        "id": "TB4GbxkSWrK-"
      },
      "source": [
        "torch.save(net.state_dict(),'HDP.pt')"
      ],
      "execution_count": 51,
      "outputs": []
    },
    {
      "cell_type": "code",
      "source": [
        "predictions "
      ],
      "metadata": {
        "colab": {
          "base_uri": "https://localhost:8080/"
        },
        "id": "MSstnjjaXzMl",
        "outputId": "ee73ff4a-72f1-45b1-8ca8-2f915e65f16c"
      },
      "execution_count": 52,
      "outputs": [
        {
          "output_type": "execute_result",
          "data": {
            "text/plain": [
              "tensor([[0.],\n",
              "        [1.],\n",
              "        [1.],\n",
              "        [0.],\n",
              "        [0.],\n",
              "        [0.],\n",
              "        [0.],\n",
              "        [0.],\n",
              "        [1.],\n",
              "        [0.],\n",
              "        [1.],\n",
              "        [0.],\n",
              "        [0.],\n",
              "        [0.],\n",
              "        [1.],\n",
              "        [1.],\n",
              "        [0.],\n",
              "        [1.],\n",
              "        [1.],\n",
              "        [0.],\n",
              "        [1.],\n",
              "        [1.],\n",
              "        [0.],\n",
              "        [0.],\n",
              "        [1.],\n",
              "        [0.],\n",
              "        [0.],\n",
              "        [0.],\n",
              "        [0.],\n",
              "        [0.],\n",
              "        [0.],\n",
              "        [1.],\n",
              "        [1.],\n",
              "        [0.],\n",
              "        [1.],\n",
              "        [1.],\n",
              "        [1.],\n",
              "        [0.],\n",
              "        [0.],\n",
              "        [1.],\n",
              "        [1.],\n",
              "        [0.],\n",
              "        [1.],\n",
              "        [0.],\n",
              "        [0.],\n",
              "        [0.],\n",
              "        [0.],\n",
              "        [0.],\n",
              "        [1.],\n",
              "        [0.]])"
            ]
          },
          "metadata": {},
          "execution_count": 52
        }
      ]
    },
    {
      "cell_type": "code",
      "source": [
        "y"
      ],
      "metadata": {
        "colab": {
          "base_uri": "https://localhost:8080/"
        },
        "id": "G8n-rRyVYAFk",
        "outputId": "dca88fed-938c-44c1-9a8b-52448a2fd34c"
      },
      "execution_count": 53,
      "outputs": [
        {
          "output_type": "execute_result",
          "data": {
            "text/plain": [
              "tensor([[0.],\n",
              "        [1.],\n",
              "        [1.],\n",
              "        [0.],\n",
              "        [0.],\n",
              "        [0.],\n",
              "        [0.],\n",
              "        [0.],\n",
              "        [1.],\n",
              "        [1.],\n",
              "        [1.],\n",
              "        [0.],\n",
              "        [0.],\n",
              "        [0.],\n",
              "        [1.],\n",
              "        [1.],\n",
              "        [0.],\n",
              "        [1.],\n",
              "        [1.],\n",
              "        [0.],\n",
              "        [1.],\n",
              "        [1.],\n",
              "        [0.],\n",
              "        [0.],\n",
              "        [0.],\n",
              "        [0.],\n",
              "        [0.],\n",
              "        [1.],\n",
              "        [0.],\n",
              "        [0.],\n",
              "        [1.],\n",
              "        [1.],\n",
              "        [1.],\n",
              "        [0.],\n",
              "        [1.],\n",
              "        [0.],\n",
              "        [1.],\n",
              "        [1.],\n",
              "        [1.],\n",
              "        [1.],\n",
              "        [1.],\n",
              "        [0.],\n",
              "        [1.],\n",
              "        [0.],\n",
              "        [0.],\n",
              "        [0.],\n",
              "        [0.],\n",
              "        [0.],\n",
              "        [1.],\n",
              "        [1.]])"
            ]
          },
          "metadata": {},
          "execution_count": 53
        }
      ]
    }
  ]
}